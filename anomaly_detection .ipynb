{
 "cells": [
  {
   "cell_type": "code",
   "execution_count": 9,
   "id": "diagnostic-thesaurus",
   "metadata": {},
   "outputs": [],
   "source": [
    "import scipy.io\n",
    "data = scipy.io.loadmat(\"data.mat\")"
   ]
  },
  {
   "cell_type": "code",
   "execution_count": 10,
   "id": "golden-father",
   "metadata": {},
   "outputs": [],
   "source": [
    "x = data[\"Xval\"] # features\n",
    "y = data[\"yval\"] #class"
   ]
  },
  {
   "cell_type": "code",
   "execution_count": null,
   "id": "statistical-archive",
   "metadata": {},
   "outputs": [],
   "source": []
  },
  {
   "cell_type": "code",
   "execution_count": 11,
   "id": "stupid-fruit",
   "metadata": {},
   "outputs": [
    {
     "data": {
      "image/png": "[encoded data removed]",
      "text/plain": [
       "<Figure size 432x288 with 1 Axes>"
      ]
     },
     "metadata": {
      "needs_background": "light"
     },
     "output_type": "display_data"
    }
   ],
   "source": [
    "import matplotlib.pyplot as plt \n",
    "%matplotlib inline\n",
    "plt.scatter(x.T[0],x.T[1])\n",
    "plt.xlabel(\"Latency(ms)\")\n",
    "plt.ylabel(\"Throughput(mb/s)\")\n",
    "plt.show()\n"
   ]
  },
  {
   "cell_type": "code",
   "execution_count": 12,
   "id": "institutional-person",
   "metadata": {},
   "outputs": [],
   "source": [
    "import numpy as np \n",
    "from math import *\n",
    "#implementation of gaussian distribution algorithm  \n",
    "def gaussian(x,x_p,epsilon):\n",
    "    mean = np.zeros(x.shape[1]) #mean of features\n",
    "    std = np.zeros(x.shape[1]) #std of features\n",
    "    xt = x.T\n",
    "    x_pt = x_p.T\n",
    "    p = np.zeros(x_p.shape[0]) #vectot for prob of every new instances\n",
    "    for i in range(0,x.shape[1]):\n",
    "        mean[i]= xt[i].mean()\n",
    "        std[i]=xt[i].std()\n",
    "    for i in range(0,x_p.shape[0]):\n",
    "        prob = 1\n",
    "        for j in range(0,x.shape[1]):\n",
    "            prob = prob*(1/sqrt(2*3.14))*exp(-pow((x_pt[j][i]-mean[j]),2)/2*std[j]*std[j])      \n",
    "        if prob<epsilon:\n",
    "            p[i]=1\n",
    "    return p\n",
    "                \n",
    "        \n",
    "    \n",
    "    "
   ]
  },
  {
   "cell_type": "code",
   "execution_count": 13,
   "id": "universal-throat",
   "metadata": {},
   "outputs": [
    {
     "data": {
      "text/plain": [
       "array([0, 0, 0, 0, 0, 0, 0, 0, 0, 1, 0, 0, 0, 0, 0, 0, 0, 0, 0, 0, 0, 0,\n",
       "       0, 0, 0, 0, 0, 0, 0, 0, 0, 0, 0, 0, 0, 0, 0, 0, 0, 0, 0, 0, 0, 0,\n",
       "       0, 0, 0, 0, 0, 1, 0, 0, 0, 0, 0, 0, 0, 0, 0, 0, 0, 0, 0, 0, 0, 0,\n",
       "       0, 0, 0, 0, 0, 0, 0, 0, 0, 0, 0, 0, 0, 0, 0, 0, 0, 0, 0, 0, 0, 0,\n",
       "       0, 0, 0, 0, 0, 0, 0, 0, 0, 0, 0, 0, 0, 0, 0, 0, 0, 0, 0, 0, 0, 0,\n",
       "       0, 0, 0, 0, 0, 0, 0, 0, 0, 0, 0, 0, 0, 0, 0, 0, 0, 0, 0, 0, 0, 0,\n",
       "       0, 0, 0, 0, 0, 0, 0, 0, 0, 0, 0, 0, 0, 0, 0, 0, 0, 0, 0, 0, 0, 0,\n",
       "       0, 0, 0, 0, 0, 0, 0, 0, 0, 0, 0, 0, 0, 0, 0, 0, 0, 0, 0, 0, 0, 0,\n",
       "       0, 0, 0, 0, 0, 0, 0, 0, 0, 0, 0, 0, 0, 0, 0, 0, 0, 0, 0, 0, 0, 0,\n",
       "       0, 0, 0, 0, 0, 0, 0, 0, 0, 0, 0, 0, 0, 0, 0, 0, 0, 0, 0, 0, 0, 0,\n",
       "       0, 0, 0, 0, 0, 0, 0, 0, 0, 0, 0, 0, 0, 0, 0, 0, 0, 0, 0, 0, 0, 0,\n",
       "       0, 0, 0, 0, 0, 0, 0, 0, 0, 0, 0, 0, 0, 0, 0, 0, 0, 0, 0, 0, 0, 0,\n",
       "       0, 0, 0, 0, 0, 0, 0, 0, 0, 0, 0, 0, 0, 0, 0, 0, 0, 0, 0, 0, 0, 0,\n",
       "       0, 0, 0, 0, 0, 0, 0, 0, 0, 0, 0, 0, 0, 0, 1, 1, 1, 1, 1, 1, 1],\n",
       "      dtype=uint8)"
      ]
     },
     "execution_count": 13,
     "metadata": {},
     "output_type": "execute_result"
    }
   ],
   "source": [
    "import pandas as pd \n",
    "y.ravel()"
   ]
  },
  {
   "cell_type": "code",
   "execution_count": 14,
   "id": "premium-philadelphia",
   "metadata": {},
   "outputs": [
    {
     "data": {
      "text/plain": [
       "0    298\n",
       "1      9\n",
       "dtype: int64"
      ]
     },
     "execution_count": 14,
     "metadata": {},
     "output_type": "execute_result"
    }
   ],
   "source": [
    "pd.Series(y.ravel()).value_counts()  "
   ]
  },
  {
   "cell_type": "code",
   "execution_count": 15,
   "id": "modified-manufacturer",
   "metadata": {},
   "outputs": [
    {
     "name": "stdout",
     "output_type": "stream",
     "text": [
      "{0: 298, 1: 9}\n"
     ]
    }
   ],
   "source": [
    "unique, counts = np.unique(y,return_counts = True)\n",
    "print(dict(zip(unique,counts)))"
   ]
  },
  {
   "cell_type": "code",
   "execution_count": 41,
   "id": "alert-compiler",
   "metadata": {},
   "outputs": [
    {
     "data": {
      "text/plain": [
       "(array([  9,  49, 300, 301, 302, 303, 304, 305, 306], dtype=int64),\n",
       " array([0, 0, 0, 0, 0, 0, 0, 0, 0], dtype=int64))"
      ]
     },
     "execution_count": 41,
     "metadata": {},
     "output_type": "execute_result"
    }
   ],
   "source": [
    "anamindex = np.where(y==1)\n",
    "anamindex"
   ]
  },
  {
   "cell_type": "code",
   "execution_count": 42,
   "id": "intensive-section",
   "metadata": {},
   "outputs": [],
   "source": [
    "#training set preparation\n",
    "training_set = np.ones((int(0.6*x.shape[0]),x.shape[1]))\n",
    "y_train= np.ones((int(0.6*x.shape[0])))\n",
    "count = 0\n",
    "i =0\n",
    "while(count<(int(0.6*x.shape[0]))):\n",
    "      if i not in anamindex[0]:\n",
    "         training_set[count] = x[i]\n",
    "         y_train[count] = y[i]\n",
    "         count = count+1\n",
    "      i = i+1\n",
    "validation_set = np.ones((int(0.2*x.shape[0] +1),x.shape[1]))\n",
    "y_validation = np.ones(int(0.2*x.shape[0] +1))\n",
    "count = 0 \n",
    "while(count<=int(0.2*x.shape[0])-5):\n",
    "          validation_set[count] = x[i]\n",
    "          y_validation[count]= y[i]\n",
    "          count = count +1\n",
    "          i = i+1\n",
    "for j in range(1,6):\n",
    "    validation_set[-j]=x[anamindex[0][j-1]]\n",
    "    y_validation[-j]=y[anamindex[0][j-1]]\n",
    "#testset\n",
    "test_set=np.ones((int(0.2*x.shape[0]),x.shape[1]))\n",
    "y_test = np.ones(int(0.2*x.shape[0]))\n",
    "count =0\n",
    "while(count<int(0.2*x.shape[0])-4):\n",
    "      if i not in anamindex[0]:\n",
    "           test_set[count]=x[i]\n",
    "           y_test[count]=y[i]\n",
    "           count= count+1\n",
    "      i = i+1 \n",
    "for j in range(6,10):\n",
    "      test_set[count]=x[anamindex[0][j-1]]\n",
    "      y_test[count]=y[anamindex[0][j-1]]\n",
    "      count = count+1"
   ]
  },
  {
   "cell_type": "code",
   "execution_count": 43,
   "id": "cordless-jenny",
   "metadata": {},
   "outputs": [],
   "source": [
    "#training model \n",
    "pred_val = gaussian(training_set,validation_set,0.0001)"
   ]
  },
  {
   "cell_type": "code",
   "execution_count": 44,
   "id": "dietary-louisiana",
   "metadata": {},
   "outputs": [
    {
     "data": {
      "text/plain": [
       "(62,)"
      ]
     },
     "execution_count": 44,
     "metadata": {},
     "output_type": "execute_result"
    }
   ],
   "source": [
    "pred_val.shape"
   ]
  },
  {
   "cell_type": "code",
   "execution_count": 45,
   "id": "unauthorized-moldova",
   "metadata": {},
   "outputs": [
    {
     "data": {
      "text/plain": [
       "array([0., 0., 0., 0., 0., 0., 0., 0., 0., 0., 0., 0., 0., 0., 0., 0., 0.,\n",
       "       0., 0., 0., 0., 0., 0., 0., 0., 0., 0., 0., 0., 0., 0., 0., 0., 0.,\n",
       "       0., 0., 0., 0., 0., 0., 0., 0., 0., 0., 0., 0., 0., 0., 0., 0., 0.,\n",
       "       0., 0., 0., 0., 0., 0., 1., 1., 1., 1., 1.])"
      ]
     },
     "execution_count": 45,
     "metadata": {},
     "output_type": "execute_result"
    }
   ],
   "source": [
    "y_validation"
   ]
  },
  {
   "cell_type": "code",
   "execution_count": 46,
   "id": "interior-firmware",
   "metadata": {},
   "outputs": [
    {
     "data": {
      "text/plain": [
       "array([0., 0., 0., 0., 0., 0., 0., 0., 0., 0., 0., 0., 0., 0., 0., 0., 0.,\n",
       "       0., 0., 0., 0., 0., 0., 0., 0., 0., 0., 0., 0., 0., 0., 0., 0., 0.,\n",
       "       0., 0., 0., 0., 0., 0., 0., 0., 0., 0., 0., 0., 0., 0., 0., 0., 0.,\n",
       "       0., 0., 0., 0., 0., 0., 1., 1., 1., 0., 0.])"
      ]
     },
     "execution_count": 46,
     "metadata": {},
     "output_type": "execute_result"
    }
   ],
   "source": [
    "pred_val"
   ]
  },
  {
   "cell_type": "code",
   "execution_count": null,
   "id": "practical-thumbnail",
   "metadata": {},
   "outputs": [],
   "source": [
    "#performance analysis on validation set"
   ]
  },
  {
   "cell_type": "code",
   "execution_count": 48,
   "id": "large-senate",
   "metadata": {},
   "outputs": [
    {
     "name": "stdout",
     "output_type": "stream",
     "text": [
      "validation_accuracy: 0.967741935483871\n",
      "precision on the validation_set: 0.9661016949152542\n",
      "recall on the validation_set: 1.0\n",
      "f1_score on the validation_Set: 0.9827586206896551\n"
     ]
    }
   ],
   "source": [
    "#accuracy calculation\n",
    "k =0\n",
    "for i in range(0,y_validation.shape[0]):\n",
    "    if pred_val[i]==y_validation[i]:\n",
    "        k = k+1\n",
    "accuracy= k/y_validation.shape[0]\n",
    "print(\"validation_accuracy:\",accuracy)\n",
    "#precision calculation \n",
    "tp= fp =0\n",
    "for i in range(0,pred_val.shape[0]):\n",
    "      if (pred_val[i]==y_validation[i]) & (pred_val[i]==0):\n",
    "           tp = tp+1\n",
    "      elif (pred_val[i]==0) and (y_validation[i]==1):\n",
    "           fp = fp+1\n",
    "precision =    tp/(tp+fp)\n",
    "print(\"precision on the validation_set:\",precision)\n",
    "#recall calculation\n",
    "fn = 0\n",
    "for i in range(0,pred_val.shape[0]):\n",
    "    if pred_val[i]==1 and y_validation[i]==0:\n",
    "        fn = fn+1\n",
    "        print(tp,fn)\n",
    "recall = tp/(tp+fn)\n",
    "print(\"recall on the validation_set:\",recall)\n",
    "#f1_score\n",
    "f1_score = (2*precision*recall)/(precision+recall)\n",
    "print(\"f1_score on the validation_Set:\",f1_score)"
   ]
  },
  {
   "cell_type": "code",
   "execution_count": null,
   "id": "photographic-extraction",
   "metadata": {},
   "outputs": [],
   "source": [
    "#scatter plot performance visualization on the validation set"
   ]
  },
  {
   "cell_type": "code",
   "execution_count": 63,
   "id": "instant-racing",
   "metadata": {},
   "outputs": [
    {
     "data": {
      "image/png": "[encoded data removed]",
      "text/plain": [
       "<Figure size 432x288 with 1 Axes>"
      ]
     },
     "metadata": {
      "needs_background": "light"
     },
     "output_type": "display_data"
    },
    {
     "data": {
      "image/png": "[encoded data removed]",
      "text/plain": [
       "<Figure size 432x288 with 1 Axes>"
      ]
     },
     "metadata": {
      "needs_background": "light"
     },
     "output_type": "display_data"
    }
   ],
   "source": [
    "#scatter plot with data point  having actual labels\n",
    "itemindex =np.where(y_validation ==1)\n",
    "validation_non_anomalous = np.zeros((y_validation.shape[0]-itemindex[0].shape[0],validation_set.shape[1]))\n",
    "count = 0\n",
    "for i in range(0,validation_set.shape[0]):\n",
    "    if i not in itemindex[0]:\n",
    "        validation_non_anomalous[count]=validation_set[i]\n",
    "        count = count+1\n",
    "        i = i+1\n",
    "validation_anomalous = np.zeros((itemindex[0].shape[0],validation_set.shape[1]))\n",
    "count =0\n",
    "for i in itemindex[0]:\n",
    "    validation_anomalous[count]=validation_set[i]\n",
    "    count= count+1\n",
    "plt.scatter(validation_non_anomalous.T[0],validation_non_anomalous.T[1],c = \"green\",label = \"non-anomalous\")\n",
    "plt.scatter(validation_anomalous.T[0],validation_anomalous.T[1],c = \"red\",label = \"anomalous\")\n",
    "plt.xlabel(\"latenct(ms)\")\n",
    "plt.ylabel(\"throughout(mb/s)\")\n",
    "plt.legend()\n",
    "plt.show()\n",
    "#scatterplot with dta point having labels given by the model \n",
    "itemindex = np.where(pred_val ==1)\n",
    "val_pred_non_anomalous = np.zeros((y_validation.shape[0]-itemindex[0].shape[0],validation_set.shape[1]))\n",
    "count = 0   \n",
    "for i  in range(0,validation_set.shape[0]):\n",
    "    if i not in itemindex[0]:\n",
    "        val_pred_non_anomalous[count] = validation_set[i]\n",
    "        count= count+1\n",
    "        i= i+1\n",
    "val_pred_anomalous = np.zeros((itemindex[0].shape[0],validation_set.shape[1]))\n",
    "count =  0\n",
    "for i in itemindex[0]:\n",
    "    val_pred_anomalous[count] = validation_set[i]\n",
    "    count = count+1\n",
    "plt.scatter(val_pred_non_anomalous.T[0],val_pred_non_anomalous.T[1],c = \"green\",label = \"non-anomalous\")\n",
    "plt.scatter(val_pred_anomalous.T[0],val_pred_anomalous.T[1],c = \"red\",label = \"anomalous\")\n",
    "plt.xlabel(\"latency(ms)\")\n",
    "plt.ylabel(\"throuhput(mb/s)\")\n",
    "plt.legend()\n",
    "plt.show()"
   ]
  },
  {
   "cell_type": "code",
   "execution_count": null,
   "id": "million-appendix",
   "metadata": {},
   "outputs": [],
   "source": []
  },
  {
   "cell_type": "code",
   "execution_count": 62,
   "id": "secret-exchange",
   "metadata": {},
   "outputs": [
    {
     "name": "stdout",
     "output_type": "stream",
     "text": [
      "test_accuracy: 1.0\n",
      "precision on the test_set: 1.0\n",
      "recall on the test_set: 1.0\n",
      "f1_score on the test_Set: 1.0\n"
     ]
    }
   ],
   "source": [
    " #performance analysis on test set\n",
    "pred_test = gaussian(training_set,test_set,0.0001)\n",
    "#accuracy calculation\n",
    "k=0\n",
    "for i in range(0,y_test.shape[0]):\n",
    "    if pred_test[i]==y_test[i]:\n",
    "        k = k+1\n",
    "accuracy = k/y_test.shape[0]\n",
    "print(\"test_accuracy:\",accuracy)\n",
    "#precision calculation \n",
    "tp= fp =0\n",
    "for i in range(0,pred_test.shape[0]):\n",
    "      if (pred_test[i]==y_test[i]) & (pred_test[i]==0):\n",
    "           tp = tp+1\n",
    "      elif (pred_test[i]==0) and (y_test[i]==1):\n",
    "           fp = fp+1\n",
    "precision =    tp/(tp+fp)\n",
    "print(\"precision on the test_set:\",precision)\n",
    "#recall calculation\n",
    "fn = 0\n",
    "for i in range(0,pred_test.shape[0]):\n",
    "    if pred_test[i]==1 and y_test[i]==0:\n",
    "        fn = fn+1\n",
    "        print(tp,fn)\n",
    "recall = tp/(tp+fn)\n",
    "print(\"recall on the test_set:\",recall)\n",
    "#f1_score\n",
    "f1_score = (2*precision*recall)/(precision+recall)\n",
    "print(\"f1_score on the test_Set:\",f1_score)\n"
   ]
  },
  {
   "cell_type": "code",
   "execution_count": 64,
   "id": "monetary-theta",
   "metadata": {},
   "outputs": [
    {
     "data": {
      "image/png": "[encoded data removed]",
      "text/plain": [
       "<Figure size 432x288 with 1 Axes>"
      ]
     },
     "metadata": {
      "needs_background": "light"
     },
     "output_type": "display_data"
    },
    {
     "data": {
      "image/png": "[encoded data removed]",
      "text/plain": [
       "<Figure size 432x288 with 1 Axes>"
      ]
     },
     "metadata": {
      "needs_background": "light"
     },
     "output_type": "display_data"
    }
   ],
   "source": [
    "#scatter plot with data point  having actual labels\n",
    "itemindex =np.where(y_test ==1)\n",
    "test_non_anomalous = np.zeros((y_test.shape[0]-itemindex[0].shape[0],test_set.shape[1]))\n",
    "count = 0\n",
    "for i in range(0,test_set.shape[0]):\n",
    "    if i not in itemindex[0]:\n",
    "        test_non_anomalous[count]=test_set[i]\n",
    "        count = count+1\n",
    "        i = i+1\n",
    "test_anomalous = np.zeros((itemindex[0].shape[0],test_set.shape[1]))\n",
    "count =0\n",
    "for i in itemindex[0]:\n",
    "    test_anomalous[count]=test_set[i]\n",
    "    count= count+1\n",
    "plt.scatter(test_non_anomalous.T[0],test_non_anomalous.T[1],c = \"green\",label = \"non-anomalous\")\n",
    "plt.scatter(test_anomalous.T[0],test_anomalous.T[1],c = \"red\",label = \"anomalous\")\n",
    "plt.xlabel(\"latenct(ms)\")\n",
    "plt.ylabel(\"throughout(mb/s)\")\n",
    "plt.legend()\n",
    "plt.show()\n",
    "#scatterplot with dta point having labels given by the model \n",
    "itemindex = np.where(pred_test==1)\n",
    "test_pred_non_anomalous = np.zeros((y_test.shape[0]-itemindex[0].shape[0],test_set.shape[1]))\n",
    "count = 0   \n",
    "for i  in range(0,test_set.shape[0]):\n",
    "    if i not in itemindex[0]:\n",
    "        test_pred_non_anomalous[count] = test_set[i]\n",
    "        count= count+1\n",
    "        i= i+1\n",
    "test_pred_anomalous = np.zeros((itemindex[0].shape[0],test_set.shape[1]))\n",
    "count =  0\n",
    "for i in itemindex[0]:\n",
    "    test_pred_anomalous[count] = test_set[i]\n",
    "    count = count+1\n",
    "plt.scatter(test_pred_non_anomalous.T[0],test_pred_non_anomalous.T[1],c = \"green\",label = \"non-anomalous\")\n",
    "plt.scatter(test_pred_anomalous.T[0],test_pred_anomalous.T[1],c = \"red\",label = \"anomalous\")\n",
    "plt.xlabel(\"latency(ms)\")\n",
    "plt.ylabel(\"throuhput(mb/s)\")\n",
    "plt.legend()\n",
    "plt.show()\n"
   ]
  },
  {
   "cell_type": "markdown",
   "id": "relative-council",
   "metadata": {},
   "source": [
    "## multivariate gaussian  mixture"
   ]
  },
  {
   "cell_type": "code",
   "execution_count": 65,
   "id": "verified-render",
   "metadata": {},
   "outputs": [],
   "source": [
    "from sklearn.datasets import make_moons \n",
    "x,y = make_moons(n_samples = 1000,noise = 0.05)\n"
   ]
  },
  {
   "cell_type": "code",
   "execution_count": 81,
   "id": "direct-pepper",
   "metadata": {},
   "outputs": [
    {
     "data": {
      "text/plain": [
       "array([[ 1.13384483e+00],\n",
       "       [-3.14204575e-02],\n",
       "       [-7.35054101e-02],\n",
       "       [-1.27011112e-01],\n",
       "       [ 1.73517454e+00],\n",
       "       [ 1.64115968e+00],\n",
       "       [-8.70302556e-01],\n",
       "       [ 1.49582907e+00],\n",
       "       [-3.46534932e-01],\n",
       "       [ 2.83626996e-01],\n",
       "       [ 3.66637471e-01],\n",
       "       [ 9.83291866e-02],\n",
       "       [ 8.47661445e-01],\n",
       "       [ 9.97399575e-01],\n",
       "       [ 2.10135456e-01],\n",
       "       [-4.18801682e-01],\n",
       "       [ 1.97786141e+00],\n",
       "       [ 1.01413400e+00],\n",
       "       [ 7.37470760e-01],\n",
       "       [ 9.08856850e-01],\n",
       "       [ 8.32009563e-01],\n",
       "       [-1.55415594e-02],\n",
       "       [ 2.01103732e+00],\n",
       "       [ 1.36969911e+00],\n",
       "       [ 9.89463251e-01],\n",
       "       [ 1.80732624e+00],\n",
       "       [-3.35616962e-01],\n",
       "       [ 1.04716211e+00],\n",
       "       [ 3.14498126e-01],\n",
       "       [ 1.48988578e-01],\n",
       "       [ 1.22268972e+00],\n",
       "       [-1.00156581e+00],\n",
       "       [ 1.83663582e+00],\n",
       "       [ 3.55047023e-01],\n",
       "       [-3.81336255e-02],\n",
       "       [ 4.47262512e-02],\n",
       "       [ 3.44526970e-01],\n",
       "       [ 1.42398885e+00],\n",
       "       [-9.03398276e-01],\n",
       "       [ 1.06693709e+00],\n",
       "       [ 1.71260779e+00],\n",
       "       [ 1.19256722e+00],\n",
       "       [ 2.06557524e+00],\n",
       "       [ 8.05792111e-01],\n",
       "       [ 9.57241120e-01],\n",
       "       [-9.96372044e-01],\n",
       "       [ 3.72018520e-01],\n",
       "       [ 1.08498898e+00],\n",
       "       [ 4.83929843e-01],\n",
       "       [ 1.17220266e-01],\n",
       "       [ 1.76899473e+00],\n",
       "       [ 1.66340090e+00],\n",
       "       [ 1.99830470e+00],\n",
       "       [ 5.08755979e-02],\n",
       "       [ 1.46065773e+00],\n",
       "       [ 1.73633232e+00],\n",
       "       [ 8.48879175e-01],\n",
       "       [ 1.96982785e+00],\n",
       "       [ 4.42211999e-01],\n",
       "       [ 4.68681947e-01],\n",
       "       [-6.19216777e-01],\n",
       "       [ 1.70804567e+00],\n",
       "       [ 1.30807721e+00],\n",
       "       [-5.24625383e-01],\n",
       "       [ 8.25402222e-01],\n",
       "       [ 8.51623866e-01],\n",
       "       [-8.20035176e-01],\n",
       "       [-9.42859106e-01],\n",
       "       [-8.76146345e-01],\n",
       "       [-9.48071834e-01],\n",
       "       [ 1.96061778e-01],\n",
       "       [ 1.04695071e-01],\n",
       "       [-4.24148135e-02],\n",
       "       [ 9.50316571e-01],\n",
       "       [ 9.53517202e-01],\n",
       "       [ 1.87879777e+00],\n",
       "       [-6.67153987e-02],\n",
       "       [ 9.70653508e-01],\n",
       "       [ 8.95966303e-03],\n",
       "       [ 1.91453957e+00],\n",
       "       [-7.45617364e-01],\n",
       "       [ 6.45463815e-01],\n",
       "       [-6.41931959e-01],\n",
       "       [ 9.66596405e-01],\n",
       "       [ 5.25741967e-01],\n",
       "       [ 1.54628953e-01],\n",
       "       [-2.10884991e-01],\n",
       "       [ 5.75747098e-01],\n",
       "       [-9.62910639e-01],\n",
       "       [ 7.70960043e-01],\n",
       "       [ 5.51632169e-01],\n",
       "       [-2.04800004e-01],\n",
       "       [ 1.55846729e+00],\n",
       "       [ 1.91688330e-01],\n",
       "       [ 7.32378424e-01],\n",
       "       [ 1.63690746e+00],\n",
       "       [-6.64310453e-02],\n",
       "       [ 6.20045408e-01],\n",
       "       [ 7.26785910e-01],\n",
       "       [-3.50422816e-01],\n",
       "       [ 2.00495231e+00],\n",
       "       [-5.41597807e-01],\n",
       "       [ 9.13175765e-01],\n",
       "       [ 1.08324880e-01],\n",
       "       [ 1.83652478e+00],\n",
       "       [-3.95940153e-01],\n",
       "       [ 9.26639978e-01],\n",
       "       [ 6.34001281e-01],\n",
       "       [-8.45877578e-01],\n",
       "       [ 1.52198552e+00],\n",
       "       [-1.78477598e-01],\n",
       "       [ 2.04692550e+00],\n",
       "       [-1.12939808e-01],\n",
       "       [ 3.62988234e-01],\n",
       "       [ 5.84251917e-01],\n",
       "       [ 8.85363439e-01],\n",
       "       [ 3.18202512e-01],\n",
       "       [-6.97849377e-01],\n",
       "       [ 1.15555658e-01],\n",
       "       [ 4.39125391e-01],\n",
       "       [ 8.27186790e-01],\n",
       "       [ 1.07098599e+00],\n",
       "       [-1.00131241e+00],\n",
       "       [-7.03659918e-01],\n",
       "       [-5.91769031e-01],\n",
       "       [-1.39678636e-01],\n",
       "       [ 8.05603812e-01],\n",
       "       [-9.67286258e-02],\n",
       "       [ 1.80226943e+00],\n",
       "       [ 7.82221374e-01],\n",
       "       [ 7.12226889e-01],\n",
       "       [ 1.28799835e-01],\n",
       "       [ 1.58508327e+00],\n",
       "       [-9.87164023e-01],\n",
       "       [ 8.92883105e-01],\n",
       "       [ 1.04355837e+00],\n",
       "       [-9.71627605e-01],\n",
       "       [-8.26820168e-01],\n",
       "       [ 6.24278758e-01],\n",
       "       [ 1.27067787e-01],\n",
       "       [ 4.67364003e-01],\n",
       "       [ 2.78442086e-01],\n",
       "       [ 1.46330634e+00],\n",
       "       [-6.24208251e-01],\n",
       "       [ 1.99953469e+00],\n",
       "       [ 2.00606964e+00],\n",
       "       [ 6.58810468e-01],\n",
       "       [-6.99758472e-01],\n",
       "       [-9.70471076e-01],\n",
       "       [-6.55064029e-01],\n",
       "       [ 1.58254313e+00],\n",
       "       [ 9.70910503e-01],\n",
       "       [ 1.61410244e+00],\n",
       "       [-6.15946896e-01],\n",
       "       [ 2.68840171e-01],\n",
       "       [ 7.06007814e-01],\n",
       "       [ 7.66895202e-02],\n",
       "       [ 1.33336350e+00],\n",
       "       [-3.29241361e-01],\n",
       "       [ 3.25433693e-01],\n",
       "       [ 9.12345418e-01],\n",
       "       [ 1.96651890e+00],\n",
       "       [ 6.16242622e-01],\n",
       "       [ 1.41580153e+00],\n",
       "       [ 1.06510197e+00],\n",
       "       [ 1.94160271e+00],\n",
       "       [ 1.47651707e-01],\n",
       "       [ 1.95833196e+00],\n",
       "       [-9.08631160e-01],\n",
       "       [ 1.73074997e+00],\n",
       "       [ 6.13255457e-01],\n",
       "       [-8.56785583e-02],\n",
       "       [ 1.72287933e+00],\n",
       "       [-1.89042565e-02],\n",
       "       [-6.16066625e-01],\n",
       "       [ 1.44472295e+00],\n",
       "       [ 9.12868268e-01],\n",
       "       [ 3.03102617e-01],\n",
       "       [ 1.58219452e+00],\n",
       "       [ 8.29786469e-02],\n",
       "       [ 3.23668074e-02],\n",
       "       [ 1.96465301e+00],\n",
       "       [ 3.67381044e-01],\n",
       "       [ 6.81939414e-02],\n",
       "       [ 9.61426530e-02],\n",
       "       [ 1.90257997e+00],\n",
       "       [ 4.43294708e-02],\n",
       "       [-5.32543991e-02],\n",
       "       [-4.22817921e-01],\n",
       "       [-1.09413658e+00],\n",
       "       [ 1.62563765e+00],\n",
       "       [ 1.77314418e+00],\n",
       "       [ 9.31371046e-01],\n",
       "       [ 8.03233412e-01],\n",
       "       [ 6.81847638e-01],\n",
       "       [ 4.04497006e-02],\n",
       "       [-7.60006308e-01],\n",
       "       [ 1.12686661e+00],\n",
       "       [ 1.44715614e-01],\n",
       "       [ 4.18780037e-01],\n",
       "       [ 7.33739976e-01],\n",
       "       [ 1.86437011e+00],\n",
       "       [-3.57779255e-01],\n",
       "       [ 7.95036234e-01],\n",
       "       [ 1.46518049e+00],\n",
       "       [ 9.89153233e-01],\n",
       "       [ 1.87084323e+00],\n",
       "       [ 2.73627392e-01],\n",
       "       [ 3.33506550e-01],\n",
       "       [-9.42615842e-01],\n",
       "       [ 2.00812854e+00],\n",
       "       [ 3.66850905e-01],\n",
       "       [ 1.13085289e+00],\n",
       "       [-4.60234419e-02],\n",
       "       [ 3.31326855e-01],\n",
       "       [-9.75036116e-01],\n",
       "       [ 1.01520314e+00],\n",
       "       [ 3.22546705e-01],\n",
       "       [ 3.50684317e-01],\n",
       "       [ 3.66691178e-01],\n",
       "       [ 4.98548229e-01],\n",
       "       [-1.75050791e-01],\n",
       "       [ 9.01021471e-01],\n",
       "       [-9.37885946e-01],\n",
       "       [ 4.95742108e-01],\n",
       "       [ 1.48308317e+00],\n",
       "       [-1.04744685e+00],\n",
       "       [-8.99619194e-01],\n",
       "       [ 1.93902777e+00],\n",
       "       [-6.40887015e-02],\n",
       "       [-8.52340432e-01],\n",
       "       [ 7.94357817e-02],\n",
       "       [ 4.81765382e-02],\n",
       "       [ 2.75289635e-01],\n",
       "       [ 9.26959404e-01],\n",
       "       [ 1.42465196e+00],\n",
       "       [ 1.63174108e-01],\n",
       "       [ 7.80442532e-01],\n",
       "       [ 6.70512080e-01],\n",
       "       [ 9.33798258e-01],\n",
       "       [-4.58928562e-03],\n",
       "       [ 1.35128217e+00],\n",
       "       [ 3.75346050e-02],\n",
       "       [ 1.28420585e+00],\n",
       "       [-2.20026697e-01],\n",
       "       [-8.86627281e-01],\n",
       "       [ 1.04243689e-01],\n",
       "       [ 1.09763470e-01],\n",
       "       [-8.68295145e-01],\n",
       "       [ 2.57969082e-01],\n",
       "       [ 1.94333451e+00],\n",
       "       [ 5.83929825e-01],\n",
       "       [ 9.04921191e-02],\n",
       "       [ 1.39294671e+00],\n",
       "       [ 7.45353600e-02],\n",
       "       [ 1.25297138e+00],\n",
       "       [ 7.69553935e-02],\n",
       "       [ 1.75223652e+00],\n",
       "       [ 8.11187328e-01],\n",
       "       [ 4.25692563e-04],\n",
       "       [ 9.17485257e-02],\n",
       "       [ 1.64281772e+00],\n",
       "       [ 6.85652193e-03],\n",
       "       [ 1.96596363e+00],\n",
       "       [ 9.92797928e-01],\n",
       "       [ 8.18560205e-01],\n",
       "       [ 1.25499142e+00],\n",
       "       [ 7.13741707e-01],\n",
       "       [ 1.49905675e+00],\n",
       "       [-2.26496285e-01],\n",
       "       [ 8.69159715e-01],\n",
       "       [ 2.08495210e-01],\n",
       "       [ 1.87261243e+00],\n",
       "       [ 4.49507175e-01],\n",
       "       [ 1.97538250e+00],\n",
       "       [ 6.30583472e-01],\n",
       "       [-1.61629011e-01],\n",
       "       [ 5.21263973e-01],\n",
       "       [ 1.09305244e+00],\n",
       "       [ 3.83932748e-01],\n",
       "       [-4.33633885e-01],\n",
       "       [-5.22758536e-01],\n",
       "       [ 1.78701476e-01],\n",
       "       [ 3.22952994e-02],\n",
       "       [ 1.84249954e+00],\n",
       "       [ 1.60624345e-01],\n",
       "       [ 5.46613028e-01],\n",
       "       [-6.54512267e-01],\n",
       "       [ 7.60830270e-02],\n",
       "       [ 8.10098464e-01],\n",
       "       [ 4.39972261e-01],\n",
       "       [-1.07418261e+00],\n",
       "       [ 9.11367939e-01],\n",
       "       [ 1.18171360e+00],\n",
       "       [ 1.31196520e+00],\n",
       "       [ 1.90439977e+00],\n",
       "       [ 7.69739389e-01],\n",
       "       [ 1.24301301e+00],\n",
       "       [ 3.59919786e-01],\n",
       "       [ 4.32230878e-01],\n",
       "       [ 5.89926602e-01],\n",
       "       [-8.21671677e-01],\n",
       "       [-4.82537506e-01],\n",
       "       [-5.44396166e-01],\n",
       "       [-9.95504475e-01],\n",
       "       [ 1.73131366e+00],\n",
       "       [ 1.18850055e+00],\n",
       "       [ 1.92511661e+00],\n",
       "       [ 1.80212837e+00],\n",
       "       [ 4.03294212e-01],\n",
       "       [-7.72096368e-01],\n",
       "       [-7.55336008e-01],\n",
       "       [ 1.97658320e+00],\n",
       "       [ 1.89725205e+00],\n",
       "       [ 9.76540777e-02],\n",
       "       [ 1.49426903e+00],\n",
       "       [ 2.05003454e+00],\n",
       "       [ 1.45806641e+00],\n",
       "       [-6.89469473e-01],\n",
       "       [ 8.61556165e-01],\n",
       "       [ 1.08095397e+00],\n",
       "       [-5.78912741e-01],\n",
       "       [ 7.26589167e-01],\n",
       "       [ 1.74834275e+00],\n",
       "       [ 8.87284828e-01],\n",
       "       [ 1.32702578e+00],\n",
       "       [-8.64288171e-01],\n",
       "       [ 7.02966143e-01],\n",
       "       [ 1.74276786e+00],\n",
       "       [-7.37991413e-01],\n",
       "       [ 1.30041223e+00],\n",
       "       [ 9.34662782e-01],\n",
       "       [-3.82363537e-01],\n",
       "       [-6.31100639e-01],\n",
       "       [ 1.93887805e+00],\n",
       "       [ 6.01452717e-01],\n",
       "       [ 5.31805194e-01],\n",
       "       [ 2.77753799e-01],\n",
       "       [ 9.13129493e-01],\n",
       "       [ 1.16194017e+00],\n",
       "       [ 7.49851619e-01],\n",
       "       [-1.25487764e-01],\n",
       "       [-2.60416901e-01],\n",
       "       [ 1.82741752e+00],\n",
       "       [ 1.26416449e-01],\n",
       "       [-9.65613271e-01],\n",
       "       [-7.20058208e-01],\n",
       "       [ 3.87923929e-01],\n",
       "       [ 1.84057135e+00],\n",
       "       [ 8.52100986e-01],\n",
       "       [-4.41762198e-02],\n",
       "       [ 8.22255502e-01],\n",
       "       [ 4.20579505e-01],\n",
       "       [ 7.99593489e-01],\n",
       "       [-2.45018655e-02],\n",
       "       [-8.49341287e-01],\n",
       "       [ 3.61174119e-01],\n",
       "       [ 6.93388154e-01],\n",
       "       [ 2.02258425e+00],\n",
       "       [ 1.92508205e-01],\n",
       "       [ 5.49246349e-01],\n",
       "       [ 1.18779561e+00],\n",
       "       [-8.80997705e-01],\n",
       "       [ 4.11819968e-01],\n",
       "       [ 1.96144241e+00],\n",
       "       [ 8.93426338e-01],\n",
       "       [ 7.96579045e-01],\n",
       "       [ 2.09557045e+00],\n",
       "       [ 4.07717426e-01],\n",
       "       [ 1.07129226e-01],\n",
       "       [ 1.33769362e+00],\n",
       "       [ 3.83843942e-02],\n",
       "       [ 2.53419279e-01],\n",
       "       [ 1.12548346e+00],\n",
       "       [-9.82937118e-01],\n",
       "       [ 1.33000991e+00],\n",
       "       [-4.98134040e-01],\n",
       "       [ 8.72669602e-01],\n",
       "       [ 6.46990331e-01],\n",
       "       [ 9.19180702e-01],\n",
       "       [ 8.92392396e-01],\n",
       "       [ 1.37971506e-03],\n",
       "       [-7.33158707e-01],\n",
       "       [ 4.04383737e-01],\n",
       "       [-3.94346037e-01],\n",
       "       [ 2.03831180e+00],\n",
       "       [ 7.01368255e-01],\n",
       "       [-5.42671649e-02],\n",
       "       [-9.40578134e-01],\n",
       "       [ 8.94055728e-01],\n",
       "       [ 4.69883922e-01],\n",
       "       [ 2.76364814e-01],\n",
       "       [ 1.36271808e+00],\n",
       "       [ 1.86353900e-01],\n",
       "       [ 8.07143665e-01],\n",
       "       [ 6.31293784e-01],\n",
       "       [ 2.56300083e-01],\n",
       "       [-1.03237307e+00],\n",
       "       [ 5.42066345e-01],\n",
       "       [ 1.61035514e+00],\n",
       "       [-1.03937371e+00],\n",
       "       [ 1.90884274e+00],\n",
       "       [ 6.69286689e-01],\n",
       "       [-9.01654957e-01],\n",
       "       [ 2.04520685e+00],\n",
       "       [ 4.71620416e-01],\n",
       "       [-9.24757972e-01],\n",
       "       [-3.37697731e-02],\n",
       "       [ 1.84576402e+00],\n",
       "       [ 7.75984959e-02],\n",
       "       [ 1.84500548e+00],\n",
       "       [ 2.03807118e+00],\n",
       "       [-6.25181070e-01],\n",
       "       [-7.78950195e-01],\n",
       "       [-9.12414301e-01],\n",
       "       [ 1.87188714e+00],\n",
       "       [ 3.50287368e-01],\n",
       "       [-9.07227946e-01],\n",
       "       [-2.97656186e-01],\n",
       "       [-5.21858366e-01],\n",
       "       [ 3.23618117e-01],\n",
       "       [ 9.58748101e-01],\n",
       "       [ 4.87638138e-01],\n",
       "       [-1.27254942e-02],\n",
       "       [-9.04717135e-01],\n",
       "       [ 5.73146382e-01],\n",
       "       [-9.19661056e-01],\n",
       "       [ 6.27030560e-02],\n",
       "       [ 5.33779623e-01],\n",
       "       [ 1.98824437e+00],\n",
       "       [-5.14793109e-01],\n",
       "       [-3.69655143e-01],\n",
       "       [ 9.94560009e-01],\n",
       "       [ 7.60767084e-01],\n",
       "       [ 8.61465143e-01],\n",
       "       [ 1.89272149e+00],\n",
       "       [-9.22798942e-01],\n",
       "       [-2.14985280e-01],\n",
       "       [ 1.69923443e+00],\n",
       "       [-6.95891184e-01],\n",
       "       [ 7.46267760e-01],\n",
       "       [ 5.12668082e-01],\n",
       "       [ 1.88658669e+00],\n",
       "       [-8.16409665e-01],\n",
       "       [-9.24773693e-01],\n",
       "       [ 1.84144624e+00],\n",
       "       [ 9.24523477e-01],\n",
       "       [ 1.54353089e+00],\n",
       "       [ 9.53431415e-01],\n",
       "       [ 1.85870890e+00],\n",
       "       [ 2.01724602e+00],\n",
       "       [-9.81784985e-01],\n",
       "       [ 1.13517505e+00],\n",
       "       [ 1.04069230e+00],\n",
       "       [ 3.68435078e-01],\n",
       "       [-1.62400144e-01],\n",
       "       [ 1.24791851e+00],\n",
       "       [-4.84208934e-01],\n",
       "       [ 8.93669496e-01],\n",
       "       [-4.72837352e-01],\n",
       "       [ 7.33947527e-01],\n",
       "       [-8.31224894e-01],\n",
       "       [ 3.35316752e-01],\n",
       "       [ 7.35038787e-01],\n",
       "       [-9.75756745e-01],\n",
       "       [ 1.75916679e+00],\n",
       "       [ 8.18049086e-01],\n",
       "       [ 4.10184554e-01],\n",
       "       [-4.09370906e-01],\n",
       "       [ 9.24548732e-01],\n",
       "       [ 1.87878406e+00],\n",
       "       [-5.60973522e-01],\n",
       "       [ 1.48623035e-01],\n",
       "       [ 1.51083000e+00],\n",
       "       [ 2.81807326e-01],\n",
       "       [ 8.24633987e-01],\n",
       "       [-9.37757657e-01],\n",
       "       [ 8.71914340e-01],\n",
       "       [ 4.28739109e-02],\n",
       "       [ 6.68320913e-01],\n",
       "       [ 9.54936194e-01],\n",
       "       [ 6.22161672e-02],\n",
       "       [-9.34887396e-01],\n",
       "       [ 1.88112481e+00],\n",
       "       [ 1.93765721e+00],\n",
       "       [ 1.80670021e+00],\n",
       "       [ 1.67922462e+00],\n",
       "       [ 9.43511387e-01],\n",
       "       [-9.84806465e-01],\n",
       "       [ 5.91038999e-01],\n",
       "       [ 2.03099711e+00],\n",
       "       [-1.30185806e-01],\n",
       "       [ 1.24271897e-02],\n",
       "       [ 1.97187259e+00],\n",
       "       [ 1.00855690e+00],\n",
       "       [ 3.84403476e-01],\n",
       "       [ 8.67208106e-01],\n",
       "       [-5.01564544e-01],\n",
       "       [ 2.99422344e-01],\n",
       "       [-8.29331881e-01],\n",
       "       [-5.40620713e-01],\n",
       "       [ 9.65523338e-01],\n",
       "       [ 2.36220481e-01],\n",
       "       [ 1.85365499e-02],\n",
       "       [-6.85544363e-01],\n",
       "       [ 1.66087488e+00],\n",
       "       [ 1.64873720e-01],\n",
       "       [ 6.09041240e-01],\n",
       "       [-8.75421256e-01],\n",
       "       [ 1.19944867e+00],\n",
       "       [-8.93229412e-01],\n",
       "       [ 7.63226748e-01],\n",
       "       [-8.07299800e-01],\n",
       "       [ 1.31789260e-01],\n",
       "       [ 1.90105289e+00],\n",
       "       [ 8.25998010e-01],\n",
       "       [ 1.04442805e+00],\n",
       "       [ 7.33224641e-01],\n",
       "       [ 1.96227823e+00],\n",
       "       [ 1.66148391e+00],\n",
       "       [-2.60664712e-01],\n",
       "       [-6.70843331e-02],\n",
       "       [ 5.60501085e-01],\n",
       "       [ 7.84884842e-01],\n",
       "       [ 5.87212460e-01],\n",
       "       [ 3.63122677e-01],\n",
       "       [-8.26938737e-01],\n",
       "       [ 8.49511495e-01],\n",
       "       [ 1.01290109e+00],\n",
       "       [-7.21739602e-01],\n",
       "       [ 1.19350606e+00],\n",
       "       [ 5.13235305e-01],\n",
       "       [-4.94526459e-02],\n",
       "       [ 4.17790244e-02],\n",
       "       [-7.21415594e-01],\n",
       "       [ 2.50543657e-01],\n",
       "       [ 1.15327151e-02],\n",
       "       [ 1.32931776e+00],\n",
       "       [-9.48519897e-01],\n",
       "       [ 2.20066578e-01],\n",
       "       [ 1.65012108e-01],\n",
       "       [ 6.98672563e-01],\n",
       "       [-9.37016322e-01],\n",
       "       [ 5.26250010e-01],\n",
       "       [ 1.91464635e+00],\n",
       "       [-8.26325317e-01],\n",
       "       [ 1.12864638e+00],\n",
       "       [-3.15558852e-01],\n",
       "       [ 1.10224345e-01],\n",
       "       [ 9.71573693e-01],\n",
       "       [-1.98557812e-01],\n",
       "       [-8.80495965e-01],\n",
       "       [-4.81613726e-01],\n",
       "       [-5.79193394e-01],\n",
       "       [ 3.88425985e-01],\n",
       "       [ 3.18606408e-02],\n",
       "       [ 1.78297956e-01],\n",
       "       [ 2.23750809e-01],\n",
       "       [ 1.03598294e+00],\n",
       "       [ 1.84402785e-01],\n",
       "       [ 1.75585467e+00],\n",
       "       [ 6.86108265e-02],\n",
       "       [ 9.57728914e-02],\n",
       "       [ 1.88792948e+00],\n",
       "       [-8.89075019e-02],\n",
       "       [ 1.28054153e+00],\n",
       "       [ 8.46549110e-01],\n",
       "       [ 1.61357126e+00],\n",
       "       [ 3.79331380e-01],\n",
       "       [ 8.15893337e-01],\n",
       "       [ 2.85973551e-01],\n",
       "       [ 1.98351965e+00],\n",
       "       [-5.40148977e-01],\n",
       "       [ 9.53070645e-01],\n",
       "       [ 1.11242052e+00],\n",
       "       [-2.77408548e-02],\n",
       "       [ 1.93477037e-01],\n",
       "       [ 7.23935427e-01],\n",
       "       [-5.93975325e-01],\n",
       "       [ 1.08911029e+00],\n",
       "       [ 1.02795217e+00],\n",
       "       [ 1.56174162e+00],\n",
       "       [ 1.29634617e+00],\n",
       "       [ 2.41733373e-01],\n",
       "       [ 1.81714460e+00],\n",
       "       [ 7.59546365e-01],\n",
       "       [ 7.30732695e-01],\n",
       "       [ 1.91725230e+00],\n",
       "       [-9.10131983e-01],\n",
       "       [ 1.61089285e-01],\n",
       "       [ 9.38380360e-01],\n",
       "       [-1.85036948e-02],\n",
       "       [ 2.00329604e+00],\n",
       "       [ 9.90035290e-01],\n",
       "       [-6.33491161e-01],\n",
       "       [-9.14184515e-01],\n",
       "       [-6.14224875e-01],\n",
       "       [ 1.65047220e+00],\n",
       "       [ 1.01494821e+00],\n",
       "       [-9.85292820e-01],\n",
       "       [ 7.88653685e-01],\n",
       "       [ 2.60675074e-01],\n",
       "       [-2.84828127e-01],\n",
       "       [ 1.49354840e+00],\n",
       "       [ 1.24910547e+00],\n",
       "       [-9.97972793e-01],\n",
       "       [ 2.01909661e+00],\n",
       "       [ 6.25163579e-01],\n",
       "       [ 1.89566735e+00],\n",
       "       [ 1.51843139e+00],\n",
       "       [-9.93293897e-02],\n",
       "       [ 9.80437357e-01],\n",
       "       [-6.24142201e-01],\n",
       "       [ 1.33774742e+00],\n",
       "       [-2.86747165e-01],\n",
       "       [-1.07154613e+00],\n",
       "       [ 5.67599110e-02],\n",
       "       [ 5.97710864e-01],\n",
       "       [ 5.87831030e-01],\n",
       "       [ 1.41486045e+00],\n",
       "       [ 1.61765820e-01],\n",
       "       [-8.84948536e-01],\n",
       "       [ 5.55951079e-02],\n",
       "       [ 9.71152954e-01],\n",
       "       [ 1.00151755e+00],\n",
       "       [ 7.29372965e-01],\n",
       "       [ 1.40485298e-01],\n",
       "       [ 1.78323877e+00],\n",
       "       [-9.09761057e-01],\n",
       "       [ 2.61774177e-01],\n",
       "       [ 6.29268441e-02],\n",
       "       [ 6.89458984e-01],\n",
       "       [ 8.41189564e-01],\n",
       "       [ 5.86732387e-01],\n",
       "       [ 1.30636305e+00],\n",
       "       [ 2.68094885e-01],\n",
       "       [ 3.75353652e-03],\n",
       "       [ 6.98023219e-01],\n",
       "       [-1.96847997e-01],\n",
       "       [ 2.05404878e+00],\n",
       "       [ 4.93025042e-01],\n",
       "       [ 4.71529042e-01],\n",
       "       [ 1.02672447e+00],\n",
       "       [ 6.86557189e-01],\n",
       "       [ 1.55294430e-01],\n",
       "       [ 4.28505913e-01],\n",
       "       [ 1.43878729e-01],\n",
       "       [ 1.52212996e+00],\n",
       "       [ 2.07905452e-01],\n",
       "       [ 8.52002272e-01],\n",
       "       [-6.51928982e-01],\n",
       "       [-9.00953043e-01],\n",
       "       [ 2.00725690e+00],\n",
       "       [-8.32148441e-01],\n",
       "       [ 1.96213155e+00],\n",
       "       [-5.40368503e-01],\n",
       "       [ 8.24934511e-01],\n",
       "       [ 6.94624818e-01],\n",
       "       [ 1.33444696e+00],\n",
       "       [ 6.90350426e-01],\n",
       "       [ 1.45347673e+00],\n",
       "       [ 2.06382144e-01],\n",
       "       [-9.27298911e-01],\n",
       "       [ 1.87582175e+00],\n",
       "       [-1.01379602e+00],\n",
       "       [-2.64293211e-02],\n",
       "       [ 1.28075938e+00],\n",
       "       [-1.03305838e+00],\n",
       "       [ 9.81820325e-01],\n",
       "       [-7.43045786e-01],\n",
       "       [ 2.41544631e-01],\n",
       "       [ 4.17806141e-01],\n",
       "       [ 1.18079594e+00],\n",
       "       [ 5.96103537e-01],\n",
       "       [-9.44912100e-01],\n",
       "       [ 1.96808246e-01],\n",
       "       [ 3.58538365e-01],\n",
       "       [ 6.63072262e-01],\n",
       "       [ 1.73815064e-01],\n",
       "       [ 8.82657643e-01],\n",
       "       [-8.60255340e-01],\n",
       "       [ 7.76690285e-01],\n",
       "       [ 3.60666853e-02],\n",
       "       [ 1.54924358e+00],\n",
       "       [ 2.95991516e-01],\n",
       "       [ 1.12651404e-01],\n",
       "       [ 8.24364465e-02],\n",
       "       [-1.02329477e+00],\n",
       "       [ 1.06401688e+00],\n",
       "       [ 9.80277852e-01],\n",
       "       [ 9.54504951e-03],\n",
       "       [-5.03215471e-01],\n",
       "       [ 6.48201533e-01],\n",
       "       [-2.61884651e-01],\n",
       "       [ 1.04063548e+00],\n",
       "       [ 6.18625246e-01],\n",
       "       [ 9.71705563e-01],\n",
       "       [ 4.79188697e-01],\n",
       "       [ 2.02315234e+00],\n",
       "       [ 7.12006707e-01],\n",
       "       [ 6.12682927e-01],\n",
       "       [ 2.30088729e-01],\n",
       "       [ 1.68133126e+00],\n",
       "       [-4.01173651e-01],\n",
       "       [ 8.55671832e-01],\n",
       "       [-2.75545815e-02],\n",
       "       [ 1.68586533e+00],\n",
       "       [ 9.98697210e-01],\n",
       "       [ 4.07476106e-03],\n",
       "       [ 9.55476433e-02],\n",
       "       [ 1.83104313e-02],\n",
       "       [-1.03825609e+00],\n",
       "       [ 7.90793227e-01],\n",
       "       [ 8.98559404e-01],\n",
       "       [ 1.82790609e+00],\n",
       "       [ 1.47140417e-01],\n",
       "       [ 5.02040313e-02],\n",
       "       [ 7.36839799e-02],\n",
       "       [ 9.87422589e-01],\n",
       "       [ 8.11859695e-01],\n",
       "       [-1.24747170e-03],\n",
       "       [ 9.32691256e-01],\n",
       "       [-8.39729039e-01],\n",
       "       [-1.11794206e+00],\n",
       "       [ 1.54212700e+00],\n",
       "       [ 6.71979221e-01],\n",
       "       [ 4.41234197e-01],\n",
       "       [ 9.26154743e-01],\n",
       "       [ 3.02686877e-01],\n",
       "       [-6.91891155e-01],\n",
       "       [ 1.18177659e-01],\n",
       "       [ 1.93540483e+00],\n",
       "       [-9.47903316e-01],\n",
       "       [-2.26479335e-03],\n",
       "       [ 3.80118127e-01],\n",
       "       [ 1.48423864e+00],\n",
       "       [-9.60335556e-01],\n",
       "       [-9.31540584e-01],\n",
       "       [ 1.06042310e-01],\n",
       "       [ 2.19990446e-01],\n",
       "       [ 1.68341663e+00],\n",
       "       [ 2.21492814e-01],\n",
       "       [ 4.47779654e-02],\n",
       "       [ 1.80074809e+00],\n",
       "       [ 1.35431085e+00],\n",
       "       [-8.26136467e-01],\n",
       "       [ 6.07893790e-01],\n",
       "       [ 1.02457520e+00],\n",
       "       [ 1.59872585e+00],\n",
       "       [ 3.43647745e-01],\n",
       "       [ 1.30848068e+00],\n",
       "       [-4.39582792e-02],\n",
       "       [ 6.21994816e-01],\n",
       "       [-2.19299727e-02],\n",
       "       [ 4.15057759e-01],\n",
       "       [ 1.03443843e+00],\n",
       "       [ 5.79578980e-01],\n",
       "       [ 4.38562360e-02],\n",
       "       [ 3.38691788e-01],\n",
       "       [ 9.50077156e-01],\n",
       "       [ 3.82704041e-02],\n",
       "       [ 9.48023813e-01],\n",
       "       [ 1.04664592e+00],\n",
       "       [ 2.68954437e-01],\n",
       "       [ 5.38733948e-01],\n",
       "       [ 6.13943306e-01],\n",
       "       [ 1.94830238e+00],\n",
       "       [ 4.14377409e-02],\n",
       "       [ 2.65486630e-01],\n",
       "       [ 1.88231928e-01],\n",
       "       [ 3.57771193e-02],\n",
       "       [-8.95064902e-01],\n",
       "       [-6.10830808e-01],\n",
       "       [-7.06555064e-01],\n",
       "       [ 1.74180165e+00],\n",
       "       [ 1.83557543e+00],\n",
       "       [-9.99126012e-01],\n",
       "       [ 1.59893536e+00],\n",
       "       [ 2.02253583e+00],\n",
       "       [-6.67769058e-01],\n",
       "       [ 5.17500421e-01],\n",
       "       [ 7.80874167e-01],\n",
       "       [-8.85315206e-01],\n",
       "       [-3.31545795e-01],\n",
       "       [ 1.48686446e-01],\n",
       "       [ 3.03808783e-01],\n",
       "       [ 1.38365233e+00],\n",
       "       [ 1.62987488e+00],\n",
       "       [ 8.62551058e-01],\n",
       "       [-8.11687424e-01],\n",
       "       [ 5.81590051e-02],\n",
       "       [ 8.82709208e-01],\n",
       "       [-1.06714635e+00],\n",
       "       [ 1.65112521e+00],\n",
       "       [-9.69279737e-01],\n",
       "       [ 8.43803537e-01],\n",
       "       [ 9.87970397e-01],\n",
       "       [ 1.09000491e-01],\n",
       "       [ 4.28346433e-01],\n",
       "       [ 4.55209321e-01],\n",
       "       [ 6.06232053e-01],\n",
       "       [ 2.92541132e-01],\n",
       "       [-9.78691206e-01],\n",
       "       [ 7.70434855e-01],\n",
       "       [-9.70758153e-01],\n",
       "       [ 1.16487416e+00],\n",
       "       [ 1.90917813e+00],\n",
       "       [-1.08259211e+00],\n",
       "       [ 1.34300601e+00],\n",
       "       [ 1.00191552e+00],\n",
       "       [ 6.50025549e-01],\n",
       "       [-9.69162164e-01],\n",
       "       [ 3.78451776e-01],\n",
       "       [-6.22126409e-02],\n",
       "       [ 3.83504864e-01],\n",
       "       [-6.08014922e-01],\n",
       "       [ 6.76453159e-01],\n",
       "       [ 1.92545667e+00],\n",
       "       [ 1.68787640e-01],\n",
       "       [ 1.97968553e+00],\n",
       "       [-9.06905237e-01],\n",
       "       [ 1.08935714e+00],\n",
       "       [-1.71691855e-01],\n",
       "       [ 1.00746740e+00],\n",
       "       [ 7.22658906e-01],\n",
       "       [ 1.15194194e+00],\n",
       "       [ 1.43201767e-01],\n",
       "       [ 1.01802124e-02],\n",
       "       [ 9.36551521e-01],\n",
       "       [ 8.47175424e-01],\n",
       "       [ 2.05070733e+00],\n",
       "       [ 1.64137276e+00],\n",
       "       [ 5.57273734e-01],\n",
       "       [-9.59473815e-01],\n",
       "       [ 7.60093052e-01],\n",
       "       [ 4.43031314e-02],\n",
       "       [ 4.58112855e-01],\n",
       "       [ 2.71698463e-01],\n",
       "       [-9.20574813e-01],\n",
       "       [-2.40093740e-01],\n",
       "       [ 2.03077776e+00],\n",
       "       [-5.96586100e-01],\n",
       "       [-8.56915900e-01],\n",
       "       [ 4.42825906e-01],\n",
       "       [-8.24084479e-01],\n",
       "       [ 1.47264888e-01],\n",
       "       [-6.76834851e-02],\n",
       "       [ 8.07473968e-01],\n",
       "       [ 7.12465525e-01],\n",
       "       [-1.00923529e+00],\n",
       "       [ 1.53624288e-01],\n",
       "       [ 2.30990999e-01],\n",
       "       [ 1.75298439e-01],\n",
       "       [ 6.77979869e-01],\n",
       "       [-8.98818784e-01],\n",
       "       [ 1.94933275e+00],\n",
       "       [ 8.89084337e-01],\n",
       "       [-1.56217032e-01],\n",
       "       [-2.99210652e-01],\n",
       "       [ 1.34416982e+00],\n",
       "       [-5.65813971e-01],\n",
       "       [-3.19272808e-01],\n",
       "       [-5.86682910e-01],\n",
       "       [ 1.90782991e+00],\n",
       "       [ 8.95670184e-01],\n",
       "       [ 1.05042177e+00],\n",
       "       [ 9.56992852e-01],\n",
       "       [ 9.24346601e-01],\n",
       "       [-3.53406245e-01],\n",
       "       [ 5.25388802e-01],\n",
       "       [-9.07577543e-01],\n",
       "       [ 3.44261576e-01],\n",
       "       [ 5.16432347e-01],\n",
       "       [-1.57478962e-01],\n",
       "       [ 1.72939692e+00],\n",
       "       [ 1.02091725e+00],\n",
       "       [ 8.33566859e-01],\n",
       "       [ 1.86271584e+00],\n",
       "       [ 7.04871720e-01],\n",
       "       [-7.58635789e-01],\n",
       "       [-1.04000987e+00],\n",
       "       [ 1.02497631e+00],\n",
       "       [-4.02825058e-02],\n",
       "       [-9.65734070e-01],\n",
       "       [ 6.59894634e-01],\n",
       "       [ 2.00768411e+00],\n",
       "       [ 1.03866264e+00],\n",
       "       [ 2.01084043e+00],\n",
       "       [ 2.29449186e-01],\n",
       "       [ 1.29523203e-01],\n",
       "       [ 8.43597275e-01],\n",
       "       [ 6.27714823e-01],\n",
       "       [ 1.85895423e+00],\n",
       "       [ 3.65174757e-01],\n",
       "       [ 2.64005499e-01],\n",
       "       [ 1.99964738e+00],\n",
       "       [-7.19314872e-01],\n",
       "       [ 1.63060761e-02],\n",
       "       [ 7.57936536e-01],\n",
       "       [ 9.93345544e-01],\n",
       "       [-1.67263405e-01],\n",
       "       [ 8.38498758e-01],\n",
       "       [ 2.66606879e-01],\n",
       "       [-7.43869147e-02],\n",
       "       [-6.37089341e-01],\n",
       "       [ 7.35032707e-01],\n",
       "       [ 1.95760415e+00],\n",
       "       [ 2.77864967e-02],\n",
       "       [ 9.27123054e-01],\n",
       "       [-1.01316964e+00],\n",
       "       [ 2.63511916e-01],\n",
       "       [-7.32475502e-01],\n",
       "       [-9.98529612e-01],\n",
       "       [ 1.94538825e+00],\n",
       "       [ 1.88854433e+00],\n",
       "       [ 1.00888323e-01],\n",
       "       [ 1.77121503e+00],\n",
       "       [ 9.70677062e-01],\n",
       "       [ 9.77697425e-01],\n",
       "       [ 1.42958539e+00],\n",
       "       [ 3.71574571e-01],\n",
       "       [-6.85624844e-01],\n",
       "       [ 1.00171665e+00],\n",
       "       [ 7.22400207e-01],\n",
       "       [ 1.83540892e+00],\n",
       "       [ 1.38114091e-01],\n",
       "       [-3.77287008e-01],\n",
       "       [-3.50107699e-01],\n",
       "       [ 1.72333642e+00],\n",
       "       [ 1.05856020e+00],\n",
       "       [ 1.88892179e+00],\n",
       "       [-1.00397217e+00],\n",
       "       [ 9.26369758e-01],\n",
       "       [-2.80431472e-02],\n",
       "       [ 6.41814512e-01],\n",
       "       [ 6.68478626e-01],\n",
       "       [-1.39459284e-02],\n",
       "       [ 7.99524501e-03],\n",
       "       [-9.94518915e-01],\n",
       "       [-1.32466424e-01],\n",
       "       [-4.97279312e-01],\n",
       "       [ 1.33099479e+00],\n",
       "       [ 1.93252020e+00],\n",
       "       [ 3.22754483e-01],\n",
       "       [ 5.72353029e-01],\n",
       "       [ 1.19277101e+00],\n",
       "       [ 1.22721136e+00],\n",
       "       [ 8.14385452e-03],\n",
       "       [ 1.38349531e+00],\n",
       "       [-1.92114681e-01],\n",
       "       [ 6.75069361e-01],\n",
       "       [ 1.66444902e+00],\n",
       "       [-8.05351537e-01],\n",
       "       [ 4.10407032e-01],\n",
       "       [-9.73162543e-01],\n",
       "       [ 8.49124783e-01],\n",
       "       [ 1.10167498e+00],\n",
       "       [ 4.77996385e-01],\n",
       "       [ 1.71550114e+00],\n",
       "       [ 9.96764969e-01],\n",
       "       [ 6.79422366e-01],\n",
       "       [ 4.01458561e-01],\n",
       "       [-3.97692387e-01],\n",
       "       [ 1.93534525e+00],\n",
       "       [ 1.14136395e+00],\n",
       "       [-3.62684685e-01],\n",
       "       [ 1.74728735e+00],\n",
       "       [ 1.54779796e+00],\n",
       "       [ 1.59069270e-02],\n",
       "       [-8.35723478e-01],\n",
       "       [ 1.35812309e+00],\n",
       "       [ 1.54517127e+00],\n",
       "       [ 1.77297215e+00],\n",
       "       [ 9.10936236e-01],\n",
       "       [ 1.02979886e+00],\n",
       "       [ 1.47343495e+00],\n",
       "       [-1.86172153e-01],\n",
       "       [ 1.91365179e+00],\n",
       "       [ 1.70408976e+00],\n",
       "       [ 1.97644315e+00],\n",
       "       [ 8.39458987e-01],\n",
       "       [ 1.26777116e-02],\n",
       "       [ 1.97137274e+00],\n",
       "       [ 8.91841176e-01],\n",
       "       [ 9.59242451e-01],\n",
       "       [ 5.49944482e-01],\n",
       "       [ 2.00371326e+00],\n",
       "       [ 7.36409865e-01],\n",
       "       [-4.18299497e-01],\n",
       "       [ 8.04244607e-03],\n",
       "       [-5.15980806e-01],\n",
       "       [ 3.70914785e-01],\n",
       "       [ 9.67191244e-01],\n",
       "       [ 2.62738951e-01],\n",
       "       [-9.24195918e-01],\n",
       "       [-2.10729374e-01],\n",
       "       [ 8.84752529e-01],\n",
       "       [-6.81717572e-01],\n",
       "       [-3.04638832e-01],\n",
       "       [ 6.16970444e-02]])"
      ]
     },
     "execution_count": 81,
     "metadata": {},
     "output_type": "execute_result"
    }
   ],
   "source": [
    "x.T[0].reshape(-1,1)"
   ]
  },
  {
   "cell_type": "code",
   "execution_count": 88,
   "id": "unauthorized-bottle",
   "metadata": {},
   "outputs": [
    {
     "data": {
      "text/plain": [
       "GaussianMixture(n_components=3, n_init=10)"
      ]
     },
     "execution_count": 88,
     "metadata": {},
     "output_type": "execute_result"
    }
   ],
   "source": [
    "from sklearn.mixture import GaussianMixture\n",
    "gm = GaussianMixture(n_components = 3,n_init= 10)\n",
    "gm.fit(x)"
   ]
  },
  {
   "cell_type": "code",
   "execution_count": 89,
   "id": "norwegian-privilege",
   "metadata": {},
   "outputs": [
    {
     "data": {
      "text/plain": [
       "array([0.20892204, 0.1944806 , 0.59659736])"
      ]
     },
     "execution_count": 89,
     "metadata": {},
     "output_type": "execute_result"
    }
   ],
   "source": [
    "gm.weights_"
   ]
  },
  {
   "cell_type": "code",
   "execution_count": 90,
   "id": "comic-fantasy",
   "metadata": {},
   "outputs": [
    {
     "data": {
      "text/plain": [
       "array([[ 1.72996272, -0.06959614],\n",
       "       [-0.77391108,  0.54233846],\n",
       "       [ 0.48146792,  0.27134779]])"
      ]
     },
     "execution_count": 90,
     "metadata": {},
     "output_type": "execute_result"
    }
   ],
   "source": [
    "gm.means_"
   ]
  },
  {
   "cell_type": "code",
   "execution_count": 92,
   "id": "positive-mailman",
   "metadata": {},
   "outputs": [
    {
     "data": {
      "text/plain": [
       "array([[[ 0.05974107,  0.06536578],\n",
       "        [ 0.06536578,  0.08805899]],\n",
       "\n",
       "       [[ 0.04464232,  0.05449688],\n",
       "        [ 0.05449688,  0.08243656]],\n",
       "\n",
       "       [[ 0.17227809, -0.10537799],\n",
       "        [-0.10537799,  0.2910624 ]]])"
      ]
     },
     "execution_count": 92,
     "metadata": {},
     "output_type": "execute_result"
    }
   ],
   "source": [
    "gm.covariances_"
   ]
  },
  {
   "cell_type": "code",
   "execution_count": 94,
   "id": "compound-harris",
   "metadata": {},
   "outputs": [
    {
     "data": {
      "text/plain": [
       "True"
      ]
     },
     "execution_count": 94,
     "metadata": {},
     "output_type": "execute_result"
    }
   ],
   "source": [
    "gm.converged_"
   ]
  },
  {
   "cell_type": "code",
   "execution_count": 95,
   "id": "mysterious-employee",
   "metadata": {},
   "outputs": [
    {
     "data": {
      "text/plain": [
       "18"
      ]
     },
     "execution_count": 95,
     "metadata": {},
     "output_type": "execute_result"
    }
   ],
   "source": [
    "gm.n_iter_"
   ]
  },
  {
   "cell_type": "code",
   "execution_count": 96,
   "id": "competent-attempt",
   "metadata": {},
   "outputs": [
    {
     "data": {
      "text/plain": [
       "array([2, 2, 2, 2, 0, 0, 1, 0, 1, 2, 2, 2, 2, 2, 2, 1, 0, 2, 2, 2, 2, 2,\n",
       "       0, 0, 2, 0, 2, 2, 2, 2, 0, 1, 0, 2, 2, 2, 2, 0, 1, 2, 0, 2, 0, 2,\n",
       "       2, 1, 2, 2, 2, 2, 0, 0, 0, 2, 0, 0, 2, 0, 2, 2, 1, 0, 0, 1, 2, 2,\n",
       "       1, 1, 1, 1, 2, 2, 2, 2, 2, 0, 2, 2, 2, 0, 1, 2, 1, 2, 2, 2, 2, 2,\n",
       "       1, 2, 2, 2, 0, 2, 2, 0, 2, 2, 2, 1, 0, 1, 2, 2, 0, 1, 2, 2, 1, 0,\n",
       "       2, 0, 2, 2, 2, 2, 2, 1, 2, 2, 2, 2, 1, 1, 1, 2, 2, 2, 0, 2, 2, 2,\n",
       "       0, 1, 2, 2, 1, 1, 2, 2, 2, 2, 0, 1, 0, 0, 2, 1, 1, 1, 0, 2, 0, 1,\n",
       "       2, 2, 2, 0, 2, 2, 2, 0, 2, 0, 2, 0, 2, 0, 1, 0, 2, 2, 0, 2, 1, 0,\n",
       "       2, 2, 0, 2, 2, 0, 2, 2, 2, 0, 2, 2, 1, 1, 0, 0, 2, 2, 2, 2, 1, 2,\n",
       "       2, 2, 2, 0, 1, 2, 0, 2, 0, 2, 2, 1, 0, 2, 2, 2, 2, 1, 2, 2, 2, 2,\n",
       "       2, 2, 2, 1, 2, 0, 1, 1, 0, 2, 1, 2, 2, 2, 2, 0, 2, 2, 2, 2, 2, 0,\n",
       "       2, 0, 2, 1, 2, 2, 1, 2, 0, 2, 2, 0, 2, 0, 2, 0, 2, 2, 2, 0, 2, 0,\n",
       "       2, 2, 0, 2, 0, 2, 2, 2, 0, 2, 0, 2, 2, 2, 2, 2, 1, 1, 2, 2, 0, 2,\n",
       "       2, 1, 2, 2, 2, 1, 2, 2, 0, 0, 2, 2, 2, 2, 2, 1, 1, 1, 1, 0, 2, 0,\n",
       "       0, 2, 1, 1, 0, 0, 2, 0, 0, 0, 1, 2, 2, 1, 2, 0, 2, 0, 1, 2, 0, 1,\n",
       "       0, 2, 1, 1, 0, 2, 2, 2, 2, 2, 2, 2, 2, 0, 2, 1, 1, 2, 0, 2, 2, 2,\n",
       "       2, 2, 2, 1, 2, 2, 0, 2, 2, 2, 1, 2, 0, 2, 2, 0, 2, 2, 0, 2, 2, 2,\n",
       "       1, 0, 1, 2, 2, 2, 2, 2, 1, 2, 1, 0, 2, 2, 1, 2, 2, 2, 0, 2, 2, 2,\n",
       "       2, 1, 2, 0, 1, 0, 2, 1, 0, 2, 1, 2, 0, 2, 0, 0, 1, 1, 1, 0, 2, 1,\n",
       "       2, 1, 2, 2, 2, 2, 1, 2, 1, 2, 2, 0, 1, 1, 2, 2, 2, 0, 1, 2, 0, 1,\n",
       "       2, 2, 0, 1, 1, 0, 2, 0, 2, 0, 0, 1, 2, 2, 2, 2, 0, 1, 2, 1, 2, 1,\n",
       "       2, 2, 1, 0, 2, 2, 1, 2, 0, 1, 2, 0, 2, 2, 1, 2, 2, 2, 2, 2, 1, 0,\n",
       "       0, 0, 0, 2, 1, 2, 0, 2, 2, 0, 2, 2, 2, 1, 2, 1, 1, 2, 2, 2, 1, 0,\n",
       "       2, 2, 1, 2, 1, 2, 1, 2, 0, 2, 2, 2, 0, 0, 2, 2, 2, 2, 2, 2, 1, 2,\n",
       "       2, 1, 2, 2, 2, 2, 1, 2, 2, 0, 1, 2, 2, 2, 1, 2, 0, 1, 2, 2, 2, 2,\n",
       "       2, 1, 1, 1, 2, 2, 2, 2, 2, 2, 0, 2, 2, 0, 2, 0, 2, 0, 2, 2, 2, 0,\n",
       "       1, 2, 2, 2, 2, 2, 1, 2, 2, 0, 0, 2, 0, 2, 2, 0, 1, 2, 2, 2, 0, 2,\n",
       "       1, 1, 1, 0, 2, 1, 2, 2, 2, 0, 0, 1, 0, 2, 0, 0, 2, 2, 1, 0, 2, 1,\n",
       "       2, 2, 2, 0, 2, 1, 2, 2, 2, 2, 2, 0, 1, 2, 2, 2, 2, 2, 0, 2, 2, 2,\n",
       "       2, 0, 2, 2, 2, 2, 2, 2, 2, 0, 2, 2, 1, 1, 0, 1, 0, 1, 2, 2, 0, 2,\n",
       "       0, 2, 1, 0, 1, 2, 0, 1, 2, 1, 2, 2, 2, 2, 1, 2, 2, 2, 2, 2, 1, 2,\n",
       "       2, 0, 2, 2, 2, 1, 2, 2, 2, 1, 2, 2, 2, 2, 2, 2, 0, 2, 2, 2, 0, 1,\n",
       "       2, 2, 0, 2, 2, 2, 2, 1, 2, 2, 0, 2, 2, 2, 2, 2, 2, 2, 1, 1, 0, 2,\n",
       "       2, 2, 2, 1, 2, 0, 1, 2, 2, 0, 1, 1, 2, 2, 0, 2, 2, 0, 0, 1, 2, 2,\n",
       "       0, 2, 0, 2, 2, 2, 2, 2, 2, 2, 2, 2, 2, 2, 2, 2, 2, 2, 0, 2, 2, 2,\n",
       "       2, 1, 1, 1, 0, 0, 1, 0, 0, 1, 2, 2, 1, 2, 2, 2, 0, 0, 2, 1, 2, 2,\n",
       "       1, 0, 1, 2, 2, 2, 2, 2, 2, 2, 1, 2, 1, 2, 0, 1, 0, 2, 2, 1, 2, 2,\n",
       "       2, 1, 2, 0, 2, 0, 1, 2, 2, 2, 2, 2, 2, 2, 2, 2, 0, 0, 2, 1, 2, 2,\n",
       "       2, 2, 1, 2, 0, 1, 1, 2, 1, 2, 2, 2, 2, 1, 2, 2, 2, 2, 1, 0, 2, 2,\n",
       "       2, 0, 1, 1, 1, 0, 2, 2, 2, 2, 2, 2, 1, 2, 2, 2, 0, 2, 2, 0, 2, 1,\n",
       "       1, 2, 2, 1, 2, 0, 2, 0, 2, 2, 2, 2, 0, 2, 2, 0, 1, 2, 2, 2, 2, 2,\n",
       "       2, 2, 1, 2, 0, 2, 2, 1, 2, 1, 1, 0, 0, 2, 0, 2, 2, 0, 2, 1, 2, 2,\n",
       "       0, 2, 1, 1, 0, 2, 0, 1, 2, 2, 2, 2, 2, 2, 1, 2, 1, 0, 0, 2, 2, 2,\n",
       "       0, 2, 0, 2, 2, 0, 1, 2, 1, 2, 2, 2, 0, 2, 2, 2, 1, 0, 2, 1, 0, 0,\n",
       "       2, 1, 0, 0, 0, 2, 2, 0, 2, 0, 0, 0, 2, 2, 0, 2, 2, 2, 0, 2, 1, 2,\n",
       "       1, 2, 2, 2, 1, 2, 2, 1, 2, 2], dtype=int64)"
      ]
     },
     "execution_count": 96,
     "metadata": {},
     "output_type": "execute_result"
    }
   ],
   "source": [
    "gm.predict(x)"
   ]
  },
  {
   "cell_type": "code",
   "execution_count": 99,
   "id": "daily-framing",
   "metadata": {},
   "outputs": [
    {
     "data": {
      "text/plain": [
       "array([[2.07043519e-001, 5.14848306e-178, 7.92956481e-001],\n",
       "       [1.55219729e-090, 4.94471358e-016, 1.00000000e+000],\n",
       "       [4.65325275e-132, 1.58225094e-004, 9.99841775e-001],\n",
       "       ...,\n",
       "       [1.52252142e-172, 9.92596437e-001, 7.40356302e-003],\n",
       "       [2.50525178e-148, 2.16969357e-001, 7.83030643e-001],\n",
       "       [1.10540459e-062, 2.72933766e-032, 1.00000000e+000]])"
      ]
     },
     "execution_count": 99,
     "metadata": {},
     "output_type": "execute_result"
    }
   ],
   "source": [
    "gm.predict_proba(x)"
   ]
  },
  {
   "cell_type": "code",
   "execution_count": 100,
   "id": "jewish-aaron",
   "metadata": {},
   "outputs": [],
   "source": [
    "x_new,y_new = gm.sample(6)"
   ]
  },
  {
   "cell_type": "code",
   "execution_count": 101,
   "id": "coated-fountain",
   "metadata": {},
   "outputs": [
    {
     "data": {
      "text/plain": [
       "array([[ 2.16661764,  0.34861439],\n",
       "       [ 1.95803325,  0.44674948],\n",
       "       [-0.80280427,  0.42970458],\n",
       "       [ 0.65399812, -0.23644206],\n",
       "       [ 0.32416189,  0.54676196],\n",
       "       [ 0.99611142,  0.14786087]])"
      ]
     },
     "execution_count": 101,
     "metadata": {},
     "output_type": "execute_result"
    }
   ],
   "source": [
    "x_new"
   ]
  },
  {
   "cell_type": "code",
   "execution_count": 102,
   "id": "generic-screening",
   "metadata": {},
   "outputs": [
    {
     "data": {
      "text/plain": [
       "array([0, 0, 1, 2, 2, 2])"
      ]
     },
     "execution_count": 102,
     "metadata": {},
     "output_type": "execute_result"
    }
   ],
   "source": [
    "y_new"
   ]
  },
  {
   "cell_type": "code",
   "execution_count": 104,
   "id": "ongoing-location",
   "metadata": {},
   "outputs": [],
   "source": [
    "densities = gm.score_samples(x)"
   ]
  },
  {
   "cell_type": "code",
   "execution_count": 115,
   "id": "beginning-pension",
   "metadata": {},
   "outputs": [],
   "source": [
    "density_threshold =np.percentile(densities,4)\n",
    "anomalies = x[densities<density_threshold]\n",
    "n_anomalies = x[densities>density_threshold]"
   ]
  },
  {
   "cell_type": "code",
   "execution_count": 116,
   "id": "ruled-albania",
   "metadata": {},
   "outputs": [
    {
     "data": {
      "text/plain": [
       "array([[ 1.13384483, -0.55885325],\n",
       "       [-0.03142046,  0.45957661],\n",
       "       [-0.07350541,  0.98505777],\n",
       "       ...,\n",
       "       [ 0.88475253, -0.4350123 ],\n",
       "       [-0.68171757,  0.67938073],\n",
       "       [ 0.06169704,  0.10617013]])"
      ]
     },
     "execution_count": 116,
     "metadata": {},
     "output_type": "execute_result"
    }
   ],
   "source": [
    "n_anomalies"
   ]
  },
  {
   "cell_type": "code",
   "execution_count": 117,
   "id": "understanding-donna",
   "metadata": {},
   "outputs": [
    {
     "data": {
      "text/plain": [
       "<matplotlib.collections.PathCollection at 0x24a7b0017f0>"
      ]
     },
     "execution_count": 117,
     "metadata": {},
     "output_type": "execute_result"
    },
    {
     "data": {
      "image/png": "[encoded data removed]",
      "text/plain": [
       "<Figure size 432x288 with 1 Axes>"
      ]
     },
     "metadata": {
      "needs_background": "light"
     },
     "output_type": "display_data"
    }
   ],
   "source": [
    "plt.scatter(anomalies.T[0],anomalies.T[1],c = \"green\",label = \"anomalies\")\n",
    "plt.scatter(n_anomalies.T[0],n_anomalies.T[1],c = \"red\",label = \"non_anomalies\")"
   ]
  },
  {
   "cell_type": "code",
   "execution_count": 122,
   "id": "behind-hormone",
   "metadata": {},
   "outputs": [
    {
     "data": {
      "text/plain": [
       "[<matplotlib.lines.Line2D at 0x24a7b167d00>]"
      ]
     },
     "execution_count": 122,
     "metadata": {},
     "output_type": "execute_result"
    },
    {
     "data": {
      "image/png": "[encoded data removed]",
      "text/plain": [
       "<Figure size 432x288 with 1 Axes>"
      ]
     },
     "metadata": {
      "needs_background": "light"
     },
     "output_type": "display_data"
    }
   ],
   "source": [
    "# to decide no. of cluters\n",
    "b =[]\n",
    "a =[]\n",
    "for n in range(1,19):\n",
    "    gm = GaussianMixture(n_components = n,n_init= 10)\n",
    "    gm.fit(x)\n",
    "    a.append(gm.aic(x))\n",
    "    b.append(gm.bic(x))\n",
    "plt.plot(range(1,19),a,\"b--\")\n",
    "plt.plot(range(1,19),b,\"r-\")\n"
   ]
  },
  {
   "cell_type": "code",
   "execution_count": 125,
   "id": "deluxe-consensus",
   "metadata": {},
   "outputs": [
    {
     "name": "stdout",
     "output_type": "stream",
     "text": [
      "1244.9054969708714\n",
      "1416.6769317352462\n"
     ]
    }
   ],
   "source": [
    "# n= 6\n",
    "gm = GaussianMixture(n_components = 6,n_init= 10)\n",
    "gm.fit(x)\n",
    "print(gm.aic(x))\n",
    "print(gm.bic(x))"
   ]
  },
  {
   "cell_type": "code",
   "execution_count": 126,
   "id": "severe-dining",
   "metadata": {},
   "outputs": [
    {
     "data": {
      "text/plain": [
       "array([0.16248005, 0.17261097, 0.17551949, 0.16961553, 0.16449127,\n",
       "       0.15528268])"
      ]
     },
     "execution_count": 126,
     "metadata": {},
     "output_type": "execute_result"
    }
   ],
   "source": [
    "gm.weights_"
   ]
  },
  {
   "cell_type": "code",
   "execution_count": 127,
   "id": "bored-material",
   "metadata": {},
   "outputs": [
    {
     "data": {
      "text/plain": [
       "array([[ 0.83279966,  0.4721334 ],\n",
       "       [-0.82458396,  0.49180542],\n",
       "       [ 1.04206942, -0.44432639],\n",
       "       [ 0.17348602,  0.02402011],\n",
       "       [ 0.0344757 ,  0.9567997 ],\n",
       "       [ 1.84938633,  0.04987555]])"
      ]
     },
     "execution_count": 127,
     "metadata": {},
     "output_type": "execute_result"
    }
   ],
   "source": [
    "gm.means_"
   ]
  },
  {
   "cell_type": "code",
   "execution_count": 128,
   "id": "equivalent-moisture",
   "metadata": {},
   "outputs": [
    {
     "data": {
      "text/plain": [
       "array([[[ 0.02103515, -0.03287701],\n",
       "        [-0.03287701,  0.06623216]],\n",
       "\n",
       "       [[ 0.02705273,  0.03866998],\n",
       "        [ 0.03866998,  0.07008719]],\n",
       "\n",
       "       [[ 0.09494095,  0.00493507],\n",
       "        [ 0.00493507,  0.00388386]],\n",
       "\n",
       "       [[ 0.02726584, -0.04082424],\n",
       "        [-0.04082424,  0.07484403]],\n",
       "\n",
       "       [[ 0.08733728, -0.00367473],\n",
       "        [-0.00367473,  0.00428948]],\n",
       "\n",
       "       [[ 0.02049506,  0.03093753],\n",
       "        [ 0.03093753,  0.0617387 ]]])"
      ]
     },
     "execution_count": 128,
     "metadata": {},
     "output_type": "execute_result"
    }
   ],
   "source": [
    "gm.covariances_"
   ]
  },
  {
   "cell_type": "code",
   "execution_count": 129,
   "id": "covered-single",
   "metadata": {},
   "outputs": [
    {
     "data": {
      "text/plain": [
       "True"
      ]
     },
     "execution_count": 129,
     "metadata": {},
     "output_type": "execute_result"
    }
   ],
   "source": [
    "gm.converged_"
   ]
  },
  {
   "cell_type": "code",
   "execution_count": 130,
   "id": "brazilian-volume",
   "metadata": {},
   "outputs": [
    {
     "data": {
      "text/plain": [
       "array([2, 3, 4, 4, 5, 5, 1, 2, 4, 3, 4, 3, 0, 0, 3, 4, 5, 0, 0, 0, 0, 3,\n",
       "       5, 2, 0, 5, 4, 0, 4, 3, 2, 1, 5, 4, 3, 3, 3, 2, 1, 2, 5, 2, 5, 0,\n",
       "       0, 1, 3, 0, 4, 4, 5, 5, 5, 4, 2, 5, 0, 5, 3, 4, 1, 5, 2, 1, 0, 0,\n",
       "       1, 1, 1, 1, 3, 3, 3, 2, 0, 5, 4, 2, 4, 5, 1, 2, 1, 0, 2, 3, 4, 2,\n",
       "       1, 0, 2, 4, 5, 4, 0, 5, 3, 0, 0, 4, 5, 1, 0, 3, 5, 4, 0, 0, 1, 2,\n",
       "       4, 5, 4, 3, 2, 0, 3, 1, 3, 3, 0, 2, 1, 1, 1, 4, 2, 4, 5, 0, 2, 3,\n",
       "       5, 1, 2, 0, 1, 1, 0, 3, 3, 3, 2, 1, 5, 5, 2, 1, 1, 1, 5, 0, 5, 1,\n",
       "       3, 0, 4, 2, 4, 4, 0, 5, 0, 2, 0, 5, 3, 5, 1, 5, 2, 4, 5, 3, 1, 2,\n",
       "       0, 3, 5, 3, 3, 5, 3, 3, 4, 5, 3, 4, 4, 1, 5, 5, 2, 0, 0, 4, 1, 2,\n",
       "       3, 3, 2, 5, 4, 0, 2, 2, 5, 3, 3, 1, 5, 3, 2, 3, 3, 1, 2, 4, 3, 4,\n",
       "       4, 4, 2, 1, 4, 2, 1, 1, 5, 3, 1, 4, 3, 3, 0, 2, 3, 0, 2, 0, 3, 2,\n",
       "       3, 2, 4, 1, 4, 3, 1, 3, 5, 2, 4, 2, 3, 2, 4, 5, 0, 3, 3, 5, 3, 5,\n",
       "       2, 2, 2, 0, 2, 4, 0, 4, 5, 3, 5, 0, 4, 4, 2, 3, 4, 1, 4, 3, 5, 3,\n",
       "       4, 1, 3, 0, 4, 1, 0, 2, 2, 5, 0, 2, 4, 3, 2, 1, 4, 1, 1, 5, 2, 5,\n",
       "       5, 4, 1, 1, 5, 5, 3, 2, 5, 2, 1, 2, 2, 1, 0, 5, 0, 2, 1, 0, 5, 1,\n",
       "       2, 2, 4, 1, 5, 2, 4, 4, 2, 2, 0, 4, 4, 5, 3, 1, 1, 3, 5, 2, 3, 0,\n",
       "       4, 2, 4, 1, 3, 0, 5, 3, 4, 2, 1, 3, 5, 0, 0, 5, 3, 4, 2, 3, 4, 2,\n",
       "       1, 2, 1, 0, 2, 0, 0, 3, 1, 3, 4, 5, 2, 4, 1, 0, 3, 4, 2, 3, 0, 0,\n",
       "       3, 1, 0, 5, 1, 5, 2, 1, 5, 3, 1, 3, 5, 3, 5, 5, 1, 1, 1, 5, 4, 1,\n",
       "       4, 1, 4, 0, 3, 4, 1, 2, 1, 3, 0, 5, 1, 4, 0, 0, 0, 5, 1, 4, 5, 1,\n",
       "       0, 4, 5, 1, 1, 5, 2, 5, 0, 5, 5, 1, 2, 2, 3, 4, 2, 1, 0, 4, 0, 1,\n",
       "       3, 2, 1, 5, 0, 4, 4, 0, 5, 1, 4, 2, 4, 0, 1, 0, 3, 0, 0, 4, 1, 5,\n",
       "       5, 5, 5, 0, 1, 0, 5, 3, 4, 5, 0, 4, 0, 1, 4, 1, 1, 0, 3, 3, 1, 5,\n",
       "       3, 0, 1, 2, 1, 0, 1, 3, 5, 2, 2, 0, 5, 5, 4, 3, 0, 2, 0, 4, 1, 0,\n",
       "       0, 1, 2, 4, 4, 3, 1, 3, 3, 2, 1, 3, 3, 2, 1, 2, 5, 1, 2, 4, 3, 0,\n",
       "       4, 1, 1, 1, 3, 4, 3, 4, 2, 3, 5, 4, 4, 5, 4, 2, 2, 5, 3, 2, 3, 5,\n",
       "       1, 0, 2, 3, 3, 2, 1, 2, 0, 2, 2, 3, 5, 0, 0, 5, 1, 4, 2, 4, 5, 0,\n",
       "       1, 1, 1, 5, 0, 1, 2, 4, 4, 2, 2, 1, 5, 0, 5, 2, 4, 0, 1, 2, 4, 1,\n",
       "       3, 0, 2, 2, 3, 1, 3, 0, 0, 2, 3, 5, 1, 3, 3, 0, 0, 2, 2, 3, 3, 2,\n",
       "       4, 5, 4, 4, 0, 2, 3, 3, 3, 2, 4, 0, 1, 1, 5, 1, 5, 1, 0, 2, 2, 0,\n",
       "       2, 4, 1, 5, 1, 4, 2, 1, 0, 1, 3, 4, 2, 2, 1, 3, 3, 0, 3, 0, 1, 2,\n",
       "       3, 5, 4, 3, 3, 1, 2, 0, 3, 1, 0, 4, 2, 2, 0, 4, 5, 2, 2, 3, 5, 4,\n",
       "       0, 4, 5, 0, 4, 4, 4, 1, 2, 0, 5, 4, 3, 3, 2, 0, 4, 0, 1, 1, 5, 0,\n",
       "       4, 0, 3, 1, 3, 5, 1, 3, 3, 2, 1, 1, 4, 3, 5, 3, 3, 5, 2, 1, 2, 2,\n",
       "       5, 3, 2, 3, 0, 3, 3, 0, 2, 4, 3, 0, 3, 2, 0, 4, 0, 0, 5, 3, 4, 4,\n",
       "       3, 1, 1, 1, 5, 5, 1, 5, 5, 1, 2, 2, 1, 4, 3, 4, 2, 5, 2, 1, 4, 0,\n",
       "       1, 5, 1, 0, 0, 3, 4, 3, 2, 3, 1, 0, 1, 2, 5, 1, 2, 0, 0, 1, 4, 3,\n",
       "       4, 1, 2, 5, 4, 5, 1, 2, 4, 0, 0, 2, 4, 3, 2, 2, 5, 5, 2, 1, 0, 3,\n",
       "       3, 4, 1, 4, 5, 1, 1, 4, 1, 3, 4, 0, 0, 1, 3, 4, 4, 0, 1, 5, 0, 4,\n",
       "       4, 2, 1, 4, 1, 5, 2, 2, 2, 2, 4, 3, 1, 3, 4, 4, 5, 2, 0, 5, 2, 1,\n",
       "       1, 0, 3, 1, 0, 5, 0, 5, 4, 3, 0, 2, 5, 4, 4, 5, 1, 4, 2, 0, 4, 0,\n",
       "       3, 3, 1, 0, 5, 3, 2, 1, 4, 1, 1, 5, 5, 3, 5, 0, 0, 2, 3, 1, 0, 0,\n",
       "       5, 3, 4, 4, 5, 2, 5, 1, 0, 4, 0, 0, 3, 3, 1, 4, 1, 2, 5, 4, 0, 2,\n",
       "       2, 3, 2, 4, 2, 5, 1, 3, 1, 2, 2, 3, 5, 0, 2, 3, 4, 5, 2, 4, 5, 2,\n",
       "       3, 1, 2, 2, 5, 0, 0, 2, 4, 5, 5, 5, 2, 3, 5, 0, 2, 0, 5, 2, 4, 3,\n",
       "       1, 4, 0, 4, 1, 4, 2, 1, 4, 3], dtype=int64)"
      ]
     },
     "execution_count": 130,
     "metadata": {},
     "output_type": "execute_result"
    }
   ],
   "source": [
    "gm.predict(x)"
   ]
  },
  {
   "cell_type": "code",
   "execution_count": 131,
   "id": "suspected-jenny",
   "metadata": {},
   "outputs": [
    {
     "data": {
      "text/plain": [
       "array([[2.13343328e-005, 5.25526569e-248, 9.99978649e-001,\n",
       "        8.34750120e-019, 2.74631768e-116, 1.61737539e-008],\n",
       "       [5.29799876e-035, 4.04762636e-025, 7.19775055e-058,\n",
       "        1.00000000e+000, 2.82815905e-013, 5.17013597e-190],\n",
       "       [4.61155924e-021, 3.89647641e-010, 6.52579169e-136,\n",
       "        1.11107303e-006, 9.99998889e-001, 1.62993295e-252],\n",
       "       ...,\n",
       "       [1.93502001e-092, 9.99999155e-001, 1.92536977e-095,\n",
       "        1.46421196e-012, 8.44874600e-007, 0.00000000e+000],\n",
       "       [2.33965577e-040, 5.12853113e-004, 5.46898980e-123,\n",
       "        2.48597334e-002, 9.74627414e-001, 1.64103093e-291],\n",
       "       [9.82515528e-043, 7.34248036e-047, 2.47271168e-024,\n",
       "        1.00000000e+000, 2.04221096e-038, 5.93152899e-144]])"
      ]
     },
     "execution_count": 131,
     "metadata": {},
     "output_type": "execute_result"
    }
   ],
   "source": [
    "gm.predict_proba(x)"
   ]
  },
  {
   "cell_type": "code",
   "execution_count": 133,
   "id": "careful-salvation",
   "metadata": {},
   "outputs": [],
   "source": [
    "densities = gm.score_samples(x)\n",
    "density_threshold =np.percentile(densities,4)\n",
    "anomalies = x[densities<density_threshold]\n",
    "n_anomalies = x[densities>density_threshold]"
   ]
  },
  {
   "cell_type": "code",
   "execution_count": 134,
   "id": "aggregate-decade",
   "metadata": {},
   "outputs": [
    {
     "data": {
      "text/plain": [
       "<matplotlib.collections.PathCollection at 0x24a7b1c1910>"
      ]
     },
     "execution_count": 134,
     "metadata": {},
     "output_type": "execute_result"
    },
    {
     "data": {
      "image/png": "[encoded data removed]",
      "text/plain": [
       "<Figure size 432x288 with 1 Axes>"
      ]
     },
     "metadata": {
      "needs_background": "light"
     },
     "output_type": "display_data"
    }
   ],
   "source": [
    "plt.scatter(anomalies.T[0],anomalies.T[1],c = \"green\",label = \"anomalies\")\n",
    "plt.scatter(n_anomalies.T[0],n_anomalies.T[1],c = \"red\",label = \"non_anomalies\")"
   ]
  },
  {
   "cell_type": "markdown",
   "id": "level-reservoir",
   "metadata": {},
   "source": [
    "## bayesian gaussian mixture model"
   ]
  },
  {
   "cell_type": "code",
   "execution_count": 135,
   "id": "injured-shield",
   "metadata": {},
   "outputs": [
    {
     "data": {
      "text/plain": [
       "array([0.16, 0.11, 0.14, 0.13, 0.14, 0.13, 0.1 , 0.  , 0.1 , 0.  ])"
      ]
     },
     "execution_count": 135,
     "metadata": {},
     "output_type": "execute_result"
    }
   ],
   "source": [
    "#it selects the no. of clusters byitself\n",
    "from sklearn.mixture import BayesianGaussianMixture\n",
    "bgm =  BayesianGaussianMixture(n_components= 10,n_init= 10)\n",
    "bgm.fit(x)\n",
    "np.round(bgm.weights_,2)\n"
   ]
  },
  {
   "cell_type": "code",
   "execution_count": null,
   "id": "agricultural-boring",
   "metadata": {},
   "outputs": [],
   "source": []
  },
  {
   "cell_type": "code",
   "execution_count": null,
   "id": "biblical-westminster",
   "metadata": {},
   "outputs": [],
   "source": []
  },
  {
   "cell_type": "code",
   "execution_count": null,
   "id": "coastal-instruction",
   "metadata": {},
   "outputs": [],
   "source": []
  }
 ],
 "metadata": {
  "kernelspec": {
   "display_name": "Python 3 (ipykernel)",
   "language": "python",
   "name": "python3"
  },
  "language_info": {
   "codemirror_mode": {
    "name": "ipython",
    "version": 3
   },
   "file_extension": ".py",
   "mimetype": "text/x-python",
   "name": "python",
   "nbconvert_exporter": "python",
   "pygments_lexer": "ipython3",
   "version": "3.9.6"
  }
 },
 "nbformat": 4,
 "nbformat_minor": 5
}

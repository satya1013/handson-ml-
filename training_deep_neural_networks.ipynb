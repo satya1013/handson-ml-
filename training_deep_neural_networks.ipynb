{
 "cells": [
  {
   "cell_type": "code",
   "execution_count": 1,
   "id": "hazardous-infection",
   "metadata": {},
   "outputs": [],
   "source": [
    "import tensorflow as tf\n",
    "from tensorflow import keras\n",
    "import numpy as np\n",
    "import os\n",
    "import matplotlib as mlt\n",
    "import matplotlib.pyplot as plt\n",
    "%matplotlib inline\n"
   ]
  },
  {
   "cell_type": "markdown",
   "id": "automated-truck",
   "metadata": {},
   "source": [
    "## vanishing/exploding gradients problem\n"
   ]
  },
  {
   "cell_type": "code",
   "execution_count": null,
   "id": "dynamic-headline",
   "metadata": {},
   "outputs": [],
   "source": [
    "def logit(z):\n",
    "    return 1/(1+np.exp(-z))"
   ]
  },
  {
   "cell_type": "code",
   "execution_count": null,
   "id": "auburn-messaging",
   "metadata": {},
   "outputs": [],
   "source": [
    "z = np.linspace(-5,5,200)"
   ]
  },
  {
   "cell_type": "code",
   "execution_count": null,
   "id": "documented-farmer",
   "metadata": {},
   "outputs": [],
   "source": [
    "plt.plot([-5,5],[0,0],\"b-\")\n",
    "plt.plot([0,0],[-0.2,1.3],\"b-\")\n",
    "plt.plot([-5,5],[1,1],\"b--\")\n",
    "plt.plot(z,logit(z),linewidth = 5)\n",
    "plt.plot([-5,5],[-0.72,1.75])\n",
    "plt.axis([-5, 5, -0.2, 1.2])\n",
    "props = {\"Facecolor\": \"black\", \"shrink\":0.1}\n",
    "plt.annotate(\"Saturating\",xytext = (3.5,0.7) , xy = (5,1), arrowprops = props,fontsize = 14, ha = \"center\")\n",
    "plt.annotate(\"Saturating\",xytext = (-3,0.3) , xy = (-5,0), arrowprops = props,fontsize = 14, ha = \"center\")\n",
    "plt.annotate(\"linear\",xytext = (1,0.4) , xy = (1,0.8), arrowprops = props,fontsize = 14, ha = \"center\")\n",
    "plt.grid(True)\n",
    "plt.title(\"Sigmoid activation function\", fontsize = 14)\n",
    "plt.show()"
   ]
  },
  {
   "cell_type": "code",
   "execution_count": null,
   "id": "prostate-romantic",
   "metadata": {},
   "outputs": [],
   "source": [
    "[name for name in dir(keras.initializers) if not name.startswith(\"_\")]"
   ]
  },
  {
   "cell_type": "code",
   "execution_count": null,
   "id": "complicated-domain",
   "metadata": {},
   "outputs": [],
   "source": [
    "keras.layers.Dense(10,activation = \"relu\",kernel_initializer = \"he_normal\")"
   ]
  },
  {
   "cell_type": "code",
   "execution_count": null,
   "id": "virtual-essence",
   "metadata": {},
   "outputs": [],
   "source": [
    "init = keras.initializers.VarianceScaling(scale = 2,mode = \"fan_avg\",distribution = \"uniform\")\n",
    "keras.layers.Dense(10,activation = \"relu\",kernel_initializer = init)"
   ]
  },
  {
   "cell_type": "markdown",
   "id": "under-maryland",
   "metadata": {},
   "source": [
    "## non saturating activation functions"
   ]
  },
  {
   "cell_type": "code",
   "execution_count": null,
   "id": "metropolitan-savannah",
   "metadata": {},
   "outputs": [],
   "source": [
    "#leaky ReLU"
   ]
  },
  {
   "cell_type": "code",
   "execution_count": null,
   "id": "nearby-market",
   "metadata": {},
   "outputs": [],
   "source": [
    "def leaky_relu(z,alpha = 0.01):\n",
    "    return np.maximum(z,alpha*z)"
   ]
  },
  {
   "cell_type": "code",
   "execution_count": null,
   "id": "continent-pension",
   "metadata": {},
   "outputs": [],
   "source": [
    "plt.plot(z,leaky_relu(z,0.05),\"b-\",linewidth =2)\n",
    "plt.plot([-5,5],[0,0],\"k--\")\n",
    "plt.plot([0,0],[0,5],\"k--\")\n",
    "plt.grid(True)\n",
    "plt.axis([-5,5,-1,4.2])\n",
    "props = {\"Facecolor\": \"black\", \"shrink\":0.1}\n",
    "plt.annotate(\"Leak\",xytext = (-2,0.2) , xy = (-4,-0.2), arrowprops = props,fontsize = 14, ha = \"center\")\n"
   ]
  },
  {
   "cell_type": "code",
   "execution_count": null,
   "id": "departmental-mercy",
   "metadata": {},
   "outputs": [],
   "source": [
    "# Where to save the figures\n",
    "PROJECT_ROOT_DIR = \".\"\n",
    "CHAPTER_ID = \"deep\"\n",
    "IMAGES_PATH = os.path.join(PROJECT_ROOT_DIR, \"images\", CHAPTER_ID)\n",
    "os.makedirs(IMAGES_PATH, exist_ok=True)\n",
    "def save_fig(fig_id, tight_layout=True, fig_extension=\"png\", resolution=300):\n",
    "    path = os.path.join(IMAGES_PATH, fig_id + \".\" + fig_extension)\n",
    "    print(\"Saving figure\", fig_id)\n",
    "    if tight_layout:\n",
    "        plt.tight_layout()\n",
    "    plt.savefig(path, format=fig_extension, dpi=resolution)"
   ]
  },
  {
   "cell_type": "code",
   "execution_count": null,
   "id": "colored-midwest",
   "metadata": {},
   "outputs": [],
   "source": [
    "plt.plot(z, leaky_relu(z, 0.05), \"b-\", linewidth=2)\n",
    "plt.plot([-5, 5], [0, 0], 'k-')\n",
    "plt.plot([0, 0], [-0.5, 4.2], 'k-')\n",
    "plt.grid(True)\n",
    "props = dict(facecolor='black', shrink=0.1)\n",
    "plt.annotate('Leak', xytext=(-3.5, 0.5), xy=(-5, -0.2), arrowprops=props, fontsize=14, ha=\"center\")\n",
    "plt.title(\"Leaky ReLU activation function\", fontsize=14)\n",
    "plt.axis([-5, 5, -0.5, 4.2])\n",
    "\n",
    "save_fig(\"leaky_relu_plot\")\n",
    "plt.show()"
   ]
  },
  {
   "cell_type": "code",
   "execution_count": null,
   "id": "sealed-antibody",
   "metadata": {},
   "outputs": [],
   "source": [
    "[m for m in dir(keras.activations) if not m.startswith(\"_\")]"
   ]
  },
  {
   "cell_type": "code",
   "execution_count": null,
   "id": "expensive-jackson",
   "metadata": {},
   "outputs": [],
   "source": [
    "\n",
    "[m for m in dir(keras.layers) if \"relu\" in m.lower()]"
   ]
  },
  {
   "cell_type": "code",
   "execution_count": 2,
   "id": "waiting-cloud",
   "metadata": {},
   "outputs": [],
   "source": [
    "(x_train_full,y_train_full),(x_test, y_test) = keras.datasets.fashion_mnist.load_data()\n",
    "x_train_full  = x_train_full/255.0\n",
    "x_test = x_test/255.0\n",
    "x_train,x_val = x_train_full[:50000],x_train_full[50000:]\n",
    "y_train,y_val = y_train_full[:50000],y_train_full[50000:]"
   ]
  },
  {
   "cell_type": "code",
   "execution_count": null,
   "id": "flexible-roots",
   "metadata": {},
   "outputs": [],
   "source": [
    "tf.random.set_seed(42)\n",
    "np.random.seed(42)\n",
    "model = keras.models.Sequential([\n",
    "                                keras.layers.Flatten(input_shape = [28,28]),\n",
    "                                keras.layers.Dense(400,kernel_initializer = \"he_normal\"),\n",
    "                                keras.layers.LeakyReLU(),\n",
    "                                keras.layers.Dense(100,kernel_initializer = \"he_normal\"),\n",
    "                                keras.layers.LeakyReLU(),\n",
    "                                keras.layers.Dense(10,activation = \"softmax\")\n",
    "])"
   ]
  },
  {
   "cell_type": "code",
   "execution_count": null,
   "id": "invisible-calgary",
   "metadata": {},
   "outputs": [],
   "source": [
    "model.compile(loss = \"sparse_categorical_crossentropy\", metrics = [\"accuracy\"],optimizer = keras.optimizers.SGD(lr = 1e-3))"
   ]
  },
  {
   "cell_type": "code",
   "execution_count": null,
   "id": "shared-balance",
   "metadata": {},
   "outputs": [],
   "source": [
    "history = model.fit(x_train,y_train,epochs = 10,validation_data = (x_val,y_val))"
   ]
  },
  {
   "cell_type": "code",
   "execution_count": null,
   "id": "listed-stock",
   "metadata": {},
   "outputs": [],
   "source": [
    "tf.random.set_seed(42)\n",
    "np.random.seed(42)\n",
    "model = keras.models.Sequential([\n",
    "                                keras.layers.Flatten(input_shape = [28,28]),\n",
    "                                keras.layers.Dense(400,kernel_initializer = \"he_normal\"),\n",
    "                                keras.layers.PReLU(),\n",
    "                                keras.layers.Dense(100,kernel_initializer = \"he_normal\"),\n",
    "                                keras.layers.PReLU(),\n",
    "                                keras.layers.Dense(10,activation = \"softmax\")\n",
    "])"
   ]
  },
  {
   "cell_type": "code",
   "execution_count": null,
   "id": "proof-microphone",
   "metadata": {},
   "outputs": [],
   "source": [
    "model.compile(loss = \"sparse_categorical_crossentropy\", metrics = [\"accuracy\"],optimizer = keras.optimizers.SGD(lr = 1e-3))"
   ]
  },
  {
   "cell_type": "code",
   "execution_count": null,
   "id": "challenging-channel",
   "metadata": {},
   "outputs": [],
   "source": [
    "history = model.fit(x_train,y_train,epochs = 10,validation_data = (x_val,y_val))"
   ]
  },
  {
   "cell_type": "code",
   "execution_count": null,
   "id": "aware-pacific",
   "metadata": {},
   "outputs": [],
   "source": [
    "#elu\n",
    "def elu(z, alpha = 1):\n",
    "    return np.where(z<0,alpha*(np.exp(z)-1),z)"
   ]
  },
  {
   "cell_type": "code",
   "execution_count": null,
   "id": "recent-challenge",
   "metadata": {},
   "outputs": [],
   "source": [
    "plt.plot(z,elu(z),\"b-\",linewidth = 2)\n",
    "plt.plot([-5, 5], [0, 0], 'k-')\n",
    "plt.plot([-5, 5], [-1, -1], 'k--')\n",
    "plt.plot([0, 0], [-2.2, 3.2], 'k-')\n",
    "plt.grid(True)\n",
    "plt.title(r\"ELU activation function ($\\alpha=1$)\", fontsize=14)\n",
    "plt.axis([-5, 5, -2.2, 3.2])\n",
    "\n",
    "save_fig(\"elu_plot\")\n",
    "plt.show()"
   ]
  },
  {
   "cell_type": "code",
   "execution_count": null,
   "id": "iraqi-halloween",
   "metadata": {},
   "outputs": [],
   "source": [
    "keras.layers.Dense(10, activation = elu)"
   ]
  },
  {
   "cell_type": "code",
   "execution_count": null,
   "id": "naked-shaft",
   "metadata": {},
   "outputs": [],
   "source": [
    "from scipy.special import erfc\n",
    "\n",
    "# alpha and scale to self normalize with mean 0 and standard deviation 1\n",
    "# (see equation 14 in the paper):\n",
    "alpha_0_1 = -np.sqrt(2 / np.pi) / (erfc(1/np.sqrt(2)) * np.exp(1/2) - 1)\n",
    "scale_0_1 = (1 - erfc(1 / np.sqrt(2)) * np.sqrt(np.e)) * np.sqrt(2 * np.pi) * (2 * erfc(np.sqrt(2))*np.e**2 + np.pi*erfc(1/np.sqrt(2))**2*np.e - 2*(2+np.pi)*erfc(1/np.sqrt(2))*np.sqrt(np.e)+np.pi+2)**(-1/2)"
   ]
  },
  {
   "cell_type": "code",
   "execution_count": null,
   "id": "intended-veteran",
   "metadata": {},
   "outputs": [],
   "source": [
    "def selu(z, scale=scale_0_1, alpha=alpha_0_1):\n",
    "    return scale * elu(z, alpha)"
   ]
  },
  {
   "cell_type": "code",
   "execution_count": null,
   "id": "disciplinary-account",
   "metadata": {},
   "outputs": [],
   "source": [
    "plt.plot(z, selu(z), \"b-\", linewidth=2)\n",
    "plt.plot([-5, 5], [0, 0], 'k-')\n",
    "plt.plot([-5, 5], [-1.758, -1.758], 'k--')\n",
    "plt.plot([0, 0], [-2.2, 3.2], 'k-')\n",
    "plt.grid(True)\n",
    "plt.title(\"SELU activation function\", fontsize=14)\n",
    "plt.axis([-5, 5, -2.2, 3.2])\n",
    "\n",
    "save_fig(\"selu_plot\")\n",
    "plt.show()"
   ]
  },
  {
   "cell_type": "code",
   "execution_count": null,
   "id": "played-display",
   "metadata": {},
   "outputs": [],
   "source": [
    "Z = np.random.normal(size=(500, 100)) # standardized inputs\n",
    "for layer in range(1000):\n",
    "    W = np.random.normal(size=(100, 100), scale=np.sqrt(1 / 100)) # LeCun initialization\n",
    "    Z = selu(np.dot(Z, W))\n",
    "    means = np.mean(Z, axis=0).mean()\n",
    "    stds = np.std(Z, axis=0).mean()\n",
    "    if layer % 100 == 0:\n",
    "        print(\"Layer {}: mean {:.2f}, std deviation {:.2f}\".format(layer, means, stds))"
   ]
  },
  {
   "cell_type": "code",
   "execution_count": null,
   "id": "corrected-province",
   "metadata": {},
   "outputs": [],
   "source": [
    "keras.layers.Dense(10, activation=\"selu\",\n",
    "                   kernel_initializer=\"lecun_normal\")"
   ]
  },
  {
   "cell_type": "code",
   "execution_count": null,
   "id": "exempt-service",
   "metadata": {},
   "outputs": [],
   "source": [
    "model = keras.models.Sequential()\n",
    "model.add(keras.layers.Flatten(input_shape = [28,28])),\n",
    "model.add(keras.layers.Dense(300,activation = \"selu\", kernel_initializer = \"lecun_normal\"))\n",
    "for layer in range(99):\n",
    "    model.add(keras.layers.Dense(100,activation = \"selu\", kernel_initializer = \"lecun_normal\"))\n",
    "model.add(keras.layers.Dense(10, activation = \"softmax\"))\n",
    "    "
   ]
  },
  {
   "cell_type": "code",
   "execution_count": null,
   "id": "martial-mouse",
   "metadata": {},
   "outputs": [],
   "source": [
    "model.compile(loss = \"sparse_categorical_crossentropy\",optimizer = keras.optimizers.SGD(lr = 1e-3),\n",
    "            metrics = [\"accuracy\"])"
   ]
  },
  {
   "cell_type": "code",
   "execution_count": 3,
   "id": "individual-right",
   "metadata": {},
   "outputs": [],
   "source": [
    "pixel_means = x_train.mean(axis=0, keepdims=True)\n",
    "pixel_stds = x_train.std(axis=0, keepdims=True)\n",
    "x_train_scaled = (x_train - pixel_means) / pixel_stds\n",
    "x_val_scaled = (x_val- pixel_means) / pixel_stds\n",
    "x_test_scaled = (x_test - pixel_means) / pixel_stds"
   ]
  },
  {
   "cell_type": "code",
   "execution_count": null,
   "id": "silver-triangle",
   "metadata": {},
   "outputs": [],
   "source": [
    "history = model.fit(x_train_scaled, y_train, epochs=5,\n",
    "                    validation_data=(x_val_scaled, y_val))"
   ]
  },
  {
   "cell_type": "code",
   "execution_count": null,
   "id": "chicken-broadcast",
   "metadata": {},
   "outputs": [],
   "source": [
    "np.random.seed(42)\n",
    "tf.random.set_seed(42)\n",
    "model = keras.models.Sequential()\n",
    "model.add(keras.layers.Flatten(input_shape=[28, 28]))\n",
    "model.add(keras.layers.Dense(300, activation=\"relu\", kernel_initializer=\"he_normal\"))\n",
    "for layer in range(99):\n",
    "    model.add(keras.layers.Dense(100, activation=\"relu\", kernel_initializer=\"he_normal\"))\n",
    "model.add(keras.layers.Dense(10, activation=\"softmax\"))\n",
    "\n"
   ]
  },
  {
   "cell_type": "code",
   "execution_count": null,
   "id": "distant-polish",
   "metadata": {},
   "outputs": [],
   "source": [
    "model.compile(loss=\"sparse_categorical_crossentropy\",\n",
    "              optimizer=keras.optimizers.SGD(lr=1e-3),\n",
    "              metrics=[\"accuracy\"])\n",
    "\n",
    "history = model.fit(x_train_scaled, y_train, epochs=5,\n",
    "                    validation_data=(x_val_scaled, y_val))"
   ]
  },
  {
   "cell_type": "code",
   "execution_count": null,
   "id": "primary-salon",
   "metadata": {},
   "outputs": [],
   "source": [
    "#batch normalization\n",
    "model = keras.models.Sequential([\n",
    "    keras.layers.Flatten(input_shape = [28,28]),\n",
    "    keras.layers.BatchNormalization(),\n",
    "    keras.layers.Dense(300,activation = \"elu\",kernel_initializer = \"he_normal\"),\n",
    "    keras.layers.BatchNormalization(),\n",
    "    keras.layers.Dense(100,activation = \"elu\",kernel_initializer = \"he_normal\"),\n",
    "    keras.layers.BatchNormalization(),\n",
    "    keras.layers.Dense(10,activation = \"softmax\")\n",
    "])\n",
    "\n"
   ]
  },
  {
   "cell_type": "code",
   "execution_count": null,
   "id": "occupied-alias",
   "metadata": {},
   "outputs": [],
   "source": [
    "model.summary()"
   ]
  },
  {
   "cell_type": "code",
   "execution_count": null,
   "id": "muslim-repository",
   "metadata": {},
   "outputs": [],
   "source": [
    "model.layers"
   ]
  },
  {
   "cell_type": "code",
   "execution_count": null,
   "id": "informative-integral",
   "metadata": {},
   "outputs": [],
   "source": [
    "bn1 = model.layers[1]\n",
    "[(var.name,var.trainable) for var in bn1.variables]"
   ]
  },
  {
   "cell_type": "code",
   "execution_count": null,
   "id": "consolidated-block",
   "metadata": {},
   "outputs": [],
   "source": [
    "model.compile(loss = \"sparse_categorical_crossentropy\", metrics =[\"accuracy\"],optimizer = keras.optimizers.SGD(lr = 1e-3))"
   ]
  },
  {
   "cell_type": "code",
   "execution_count": null,
   "id": "interstate-symphony",
   "metadata": {},
   "outputs": [],
   "source": [
    "history = model.fit(x_train,y_train,epochs = 10 ,validation_data = (x_val,y_val))"
   ]
  },
  {
   "cell_type": "code",
   "execution_count": null,
   "id": "damaged-treasurer",
   "metadata": {},
   "outputs": [],
   "source": [
    "#when using bn we dont need bias term because anywy it is going to be subtracted during batch normalizatio0n\n",
    "#sometimes using bn before activation function works better\n",
    "model = keras.models.Sequential([\n",
    "    keras.layers.Flatten(input_shape = [28,28]),\n",
    "    keras.layers.BatchNormalization(),\n",
    "    keras.layers.Dense(300,use_bias = False),\n",
    "    keras.layers.BatchNormalization(),\n",
    "    keras.layers.Activation(\"relu\"),\n",
    "    keras.layers.Dense(100,use_bias= False),\n",
    "    keras.layers.BatchNormalization(),\n",
    "    keras.layers.Activation(\"relu\"),\n",
    "    keras.layers.Dense(10,activation = \"softmax\")\n",
    "])"
   ]
  },
  {
   "cell_type": "code",
   "execution_count": null,
   "id": "sweet-pricing",
   "metadata": {},
   "outputs": [],
   "source": [
    "model.compile(loss=\"sparse_categorical_crossentropy\",\n",
    "              optimizer=keras.optimizers.SGD(lr=1e-3),\n",
    "              metrics=[\"accuracy\"])"
   ]
  },
  {
   "cell_type": "code",
   "execution_count": null,
   "id": "aging-twins",
   "metadata": {},
   "outputs": [],
   "source": [
    "\n",
    "history = model.fit(x_train, y_train, epochs=10,\n",
    "                    validation_data=(x_val, y_val))"
   ]
  },
  {
   "cell_type": "markdown",
   "id": "bored-railway",
   "metadata": {},
   "source": [
    "## gradient clipping"
   ]
  },
  {
   "cell_type": "code",
   "execution_count": null,
   "id": "civic-celebrity",
   "metadata": {},
   "outputs": [],
   "source": [
    "#all keras optimizers accept clipnorm or clipvalue\n",
    "optimizer = keras.optimizers.SGD(clipvalue = 1.0)\n"
   ]
  },
  {
   "cell_type": "code",
   "execution_count": null,
   "id": "lasting-majority",
   "metadata": {},
   "outputs": [],
   "source": [
    "optimizer = keras.optimizers.SGD(clipnorm = 1.0)"
   ]
  },
  {
   "cell_type": "markdown",
   "id": "ultimate-verification",
   "metadata": {},
   "source": [
    "## reusing pretrained model"
   ]
  },
  {
   "cell_type": "raw",
   "id": "young-clinton",
   "metadata": {},
   "source": [
    "Reusing Pretrained Layers\n",
    "Reusing a Keras model\n",
    "Let's split the fashion MNIST training set in two:\n",
    "\n",
    "X_train_A: all images of all items except for sandals and shirts (classes 5 and 6).\n",
    "X_train_B: a much smaller training set of just the first 200 images of sandals or shirts.\n",
    "The validation set and the test set are also split this way, but without restricting the number of images.\n",
    "\n",
    "We will train a model on set A (classification task with 8 classes), and try to reuse it to tackle set B (binary classification). We hope to transfer a little bit of knowledge from task A to task B, since classes in set A (sneakers, ankle boots, coats, t-shirts, etc.) are somewhat similar to classes in set B (sandals and shirts). However, since we are using Dense layers, only patterns that occur at the same location can be reused (in contrast, convolutional layers will transfer much better, since learned patterns can be detected anywhere on the image, as we will see in the CNN chapter)."
   ]
  },
  {
   "cell_type": "code",
   "execution_count": null,
   "id": "incorrect-bundle",
   "metadata": {},
   "outputs": [],
   "source": [
    "def split_dataset(x,y):\n",
    "    y_5_or_6= (y==5)|(y==6) #sandals or shirts\n",
    "    y_a = y[~y_5_or_6]\n",
    "    y_a[y_a>6] -=2 #indices 789 should be moved to 567\n",
    "    y_b = (y[y_5_or_6] == 6).astype(np.float32)#binary classification\n",
    "    return (x[~y_5_or_6],y_a),(x[y_5_or_6],y_b)\n",
    "(x_train_a, y_train_a), (x_train_b, y_train_b) = split_dataset(x_train, y_train)\n",
    "(x_val_a, y_val_a), (x_val_b, y_val_b) = split_dataset(x_val, y_val)\n",
    "(x_test_a, y_test_a), (x_test_b, y_test_b) = split_dataset(x_test, y_test)\n",
    "x_train_b = x_train_b[:200]\n",
    "y_train_b = y_train_b[:200]"
   ]
  },
  {
   "cell_type": "code",
   "execution_count": null,
   "id": "characteristic-fruit",
   "metadata": {},
   "outputs": [],
   "source": [
    "x_train_a.shape\n"
   ]
  },
  {
   "cell_type": "code",
   "execution_count": null,
   "id": "pending-medication",
   "metadata": {},
   "outputs": [],
   "source": [
    "x_train_b.shape"
   ]
  },
  {
   "cell_type": "code",
   "execution_count": null,
   "id": "forbidden-imperial",
   "metadata": {},
   "outputs": [],
   "source": [
    "y_train_a[:30]"
   ]
  },
  {
   "cell_type": "code",
   "execution_count": null,
   "id": "regional-fellowship",
   "metadata": {},
   "outputs": [],
   "source": [
    "y_train_b[:30]"
   ]
  },
  {
   "cell_type": "code",
   "execution_count": null,
   "id": "wrapped-exhaust",
   "metadata": {},
   "outputs": [],
   "source": [
    "tf.random.set_seed(42)\n",
    "np.random.seed(42)"
   ]
  },
  {
   "cell_type": "code",
   "execution_count": null,
   "id": "legal-central",
   "metadata": {},
   "outputs": [],
   "source": [
    "model_a =  keras.models.Sequential()\n",
    "model_a.add(keras.layers.Flatten(input_shape = [28,28]))\n",
    "for n_hidden in (30,100,50,50):\n",
    "    model_a.add(keras.layers.Dense(n_hidden,activation = \"selu\"))\n",
    "model_a.add(keras.layers.Dense(8,activation = \"softmax\"))"
   ]
  },
  {
   "cell_type": "code",
   "execution_count": null,
   "id": "continental-associate",
   "metadata": {},
   "outputs": [],
   "source": [
    "model_a.compile(loss=\"sparse_categorical_crossentropy\",\n",
    "                optimizer=keras.optimizers.SGD(lr=1e-3),\n",
    "                metrics=[\"accuracy\"])\n",
    "history = model_a.fit(x_train_a, y_train_a, epochs=20,\n",
    "                    validation_data=(x_val_a, y_val_a))"
   ]
  },
  {
   "cell_type": "code",
   "execution_count": null,
   "id": "aware-logic",
   "metadata": {},
   "outputs": [],
   "source": [
    "model_a.save(\"my_model_A.h5\")"
   ]
  },
  {
   "cell_type": "code",
   "execution_count": null,
   "id": "present-puppy",
   "metadata": {},
   "outputs": [],
   "source": [
    "model_b = keras.models.Sequential()\n",
    "model_b.add(keras.layers.Flatten(input_shape=[28, 28]))\n",
    "for n_hidden in (300, 100, 50, 50, 50):\n",
    "    model_b.add(keras.layers.Dense(n_hidden, activation=\"selu\"))\n",
    "model_b.add(keras.layers.Dense(1, activation=\"sigmoid\"))"
   ]
  },
  {
   "cell_type": "code",
   "execution_count": null,
   "id": "conditional-study",
   "metadata": {},
   "outputs": [],
   "source": [
    "model_b.compile(loss=\"binary_crossentropy\",\n",
    "                optimizer=keras.optimizers.SGD(lr=1e-3),\n",
    "                metrics=[\"accuracy\"])\n",
    "history = model_b.fit(x_train_b, y_train_b, epochs=20,\n",
    "                      validation_data=(x_val_b, y_val_b))"
   ]
  },
  {
   "cell_type": "code",
   "execution_count": null,
   "id": "intense-fancy",
   "metadata": {},
   "outputs": [],
   "source": [
    "model_b.summary()"
   ]
  },
  {
   "cell_type": "code",
   "execution_count": null,
   "id": "dutch-panama",
   "metadata": {},
   "outputs": [],
   "source": [
    "model_a = keras.models.load_model(\"my_model_A.h5\")\n",
    "model_b_on_a = keras.models.Sequential(model_a.layers[:-1])\n",
    "model_b_on_a.add(keras.layers.Dense(1, activation=\"sigmoid\"))"
   ]
  },
  {
   "cell_type": "code",
   "execution_count": null,
   "id": "searching-corps",
   "metadata": {},
   "outputs": [],
   "source": [
    "model_a_clone = keras.models.clone_model(model_a)\n",
    "model_a_clone.set_weights(model_a.get_weights())"
   ]
  },
  {
   "cell_type": "code",
   "execution_count": null,
   "id": "hungry-visibility",
   "metadata": {},
   "outputs": [],
   "source": [
    "for layer in model_b_on_a.layers[:-1]:\n",
    "    layer.trainable = False\n",
    "\n",
    "model_b_on_a.compile(loss=\"binary_crossentropy\",\n",
    "                     optimizer=keras.optimizers.SGD(lr=1e-3),\n",
    "                     metrics=[\"accuracy\"])"
   ]
  },
  {
   "cell_type": "code",
   "execution_count": null,
   "id": "another-namibia",
   "metadata": {},
   "outputs": [],
   "source": [
    "history = model_b_on_a.fit(x_train_b, y_train_b, epochs=4,\n",
    "                           validation_data=(x_val_b, y_val_b))\n",
    "\n",
    "for layer in model_b_on_a.layers[:-1]:\n",
    "    layer.trainable = True\n",
    "\n",
    "model_b_on_a.compile(loss=\"binary_crossentropy\",\n",
    "                     optimizer=keras.optimizers.SGD(lr=1e-3),\n",
    "                     metrics=[\"accuracy\"])\n",
    "history = model_b_on_a.fit(x_train_b, y_train_b, epochs=16,\n",
    "                           validation_data=(x_val_b, y_val_b))"
   ]
  },
  {
   "cell_type": "code",
   "execution_count": null,
   "id": "secondary-cedar",
   "metadata": {},
   "outputs": [],
   "source": [
    "model_b.evaluate(x_test_b, y_test_b)"
   ]
  },
  {
   "cell_type": "code",
   "execution_count": null,
   "id": "minimal-sympathy",
   "metadata": {},
   "outputs": [],
   "source": [
    "model_b_on_a.evaluate(x_test_b, y_test_b)"
   ]
  },
  {
   "cell_type": "code",
   "execution_count": null,
   "id": "indoor-constraint",
   "metadata": {},
   "outputs": [],
   "source": [
    "(100 - 96.89) / (100 - 98.94)"
   ]
  },
  {
   "cell_type": "raw",
   "id": "banned-raising",
   "metadata": {},
   "source": [
    "Faster Optimizers\n",
    "Momentum optimization"
   ]
  },
  {
   "cell_type": "code",
   "execution_count": null,
   "id": "wired-charger",
   "metadata": {},
   "outputs": [],
   "source": [
    "optimizer = keras.optimizers.SGD(lr=0.001, momentum=0.9)"
   ]
  },
  {
   "cell_type": "code",
   "execution_count": null,
   "id": "flexible-serial",
   "metadata": {},
   "outputs": [],
   "source": [
    "#Nesterov Accelerated Gradient\n",
    "optimizer = keras.optimizers.SGD(lr=0.001, momentum=0.9, nesterov=True)"
   ]
  },
  {
   "cell_type": "code",
   "execution_count": null,
   "id": "ideal-finland",
   "metadata": {},
   "outputs": [],
   "source": [
    "#AdaGrad\n",
    "optimizer = keras.optimizers.Adagrad(lr=0.001)"
   ]
  },
  {
   "cell_type": "code",
   "execution_count": null,
   "id": "final-rates",
   "metadata": {},
   "outputs": [],
   "source": [
    "#RMSProp\n",
    "optimizer = keras.optimizers.RMSprop(lr=0.001, rho=0.9)"
   ]
  },
  {
   "cell_type": "code",
   "execution_count": null,
   "id": "hungarian-technique",
   "metadata": {},
   "outputs": [],
   "source": [
    "#Adam Optimization\n",
    "optimizer = keras.optimizers.Adam(lr=0.001, beta_1=0.9, beta_2=0.999)\n"
   ]
  },
  {
   "cell_type": "code",
   "execution_count": null,
   "id": "proper-electron",
   "metadata": {},
   "outputs": [],
   "source": [
    "#Adamax Optimization\n",
    "optimizer = keras.optimizers.Adamax(lr=0.001, beta_1=0.9, beta_2=0.999)"
   ]
  },
  {
   "cell_type": "code",
   "execution_count": null,
   "id": "smaller-acrylic",
   "metadata": {},
   "outputs": [],
   "source": [
    "#Nadam Optimization\n",
    "optimizer = keras.optimizers.Nadam(lr=0.001, beta_1=0.9, beta_2=0.999)"
   ]
  },
  {
   "cell_type": "raw",
   "id": "grand-arena",
   "metadata": {},
   "source": [
    "Learning Rate Scheduling\n",
    "Power Scheduling\n",
    "lr = lr0 / (1 + steps / s)**c\n",
    "\n",
    "Keras uses c=1 and s = 1 / decay"
   ]
  },
  {
   "cell_type": "code",
   "execution_count": null,
   "id": "reflected-philip",
   "metadata": {},
   "outputs": [],
   "source": [
    "optimizer = keras.optimizers.SGD(lr=0.01, decay=1e-4)"
   ]
  },
  {
   "cell_type": "code",
   "execution_count": null,
   "id": "every-violation",
   "metadata": {},
   "outputs": [],
   "source": [
    "model = keras.models.Sequential([\n",
    "    keras.layers.Flatten(input_shape=[28, 28]),\n",
    "    keras.layers.Dense(300, activation=\"selu\", kernel_initializer=\"lecun_normal\"),\n",
    "    keras.layers.Dense(100, activation=\"selu\", kernel_initializer=\"lecun_normal\"),\n",
    "    keras.layers.Dense(10, activation=\"softmax\")\n",
    "])\n",
    "model.compile(loss=\"sparse_categorical_crossentropy\", optimizer=optimizer, metrics=[\"accuracy\"])"
   ]
  },
  {
   "cell_type": "code",
   "execution_count": null,
   "id": "individual-addition",
   "metadata": {},
   "outputs": [],
   "source": [
    "n_epochs = 25\n",
    "history = model.fit(x_train_scaled, y_train, epochs=n_epochs,\n",
    "                    validation_data=(x_val_scaled, y_val))"
   ]
  },
  {
   "cell_type": "code",
   "execution_count": null,
   "id": "quarterly-change",
   "metadata": {},
   "outputs": [],
   "source": [
    "import math\n",
    "\n",
    "learning_rate = 0.01\n",
    "decay = 1e-4\n",
    "batch_size = 32\n",
    "n_steps_per_epoch = math.ceil(len(x_train) / batch_size)\n",
    "epochs = np.arange(n_epochs)\n",
    "lrs = learning_rate / (1 + decay * epochs * n_steps_per_epoch)\n",
    "\n",
    "plt.plot(epochs, lrs,  \"o-\")\n",
    "plt.axis([0, n_epochs - 1, 0, 0.01])\n",
    "plt.xlabel(\"Epoch\")\n",
    "plt.ylabel(\"Learning Rate\")\n",
    "plt.title(\"Power Scheduling\", fontsize=14)\n",
    "plt.grid(True)\n",
    "plt.show()"
   ]
  },
  {
   "cell_type": "markdown",
   "id": "congressional-youth",
   "metadata": {},
   "source": [
    "## Exponential Scheduling"
   ]
  },
  {
   "cell_type": "raw",
   "id": "meaning-eclipse",
   "metadata": {},
   "source": [
    "lr = lr0 * 0.1**(epoch / s)"
   ]
  },
  {
   "cell_type": "code",
   "execution_count": null,
   "id": "white-rally",
   "metadata": {},
   "outputs": [],
   "source": [
    "\n",
    "def exponential_decay_fn(epoch):\n",
    "    return 0.01 * 0.1**(epoch / 20)"
   ]
  },
  {
   "cell_type": "code",
   "execution_count": null,
   "id": "norman-cemetery",
   "metadata": {},
   "outputs": [],
   "source": [
    "def exponential_decay(lr0, s):\n",
    "    def exponential_decay_fn(epoch):\n",
    "        return lr0 * 0.1**(epoch / s)\n",
    "    return exponential_decay_fn\n",
    "\n",
    "exponential_decay_fn = exponential_decay(lr0=0.01, s=20)"
   ]
  },
  {
   "cell_type": "code",
   "execution_count": null,
   "id": "generous-composer",
   "metadata": {},
   "outputs": [],
   "source": [
    "\n",
    "model = keras.models.Sequential([\n",
    "    keras.layers.Flatten(input_shape=[28, 28]),\n",
    "    keras.layers.Dense(300, activation=\"selu\", kernel_initializer=\"lecun_normal\"),\n",
    "    keras.layers.Dense(100, activation=\"selu\", kernel_initializer=\"lecun_normal\"),\n",
    "    keras.layers.Dense(10, activation=\"softmax\")\n",
    "])\n",
    "model.compile(loss=\"sparse_categorical_crossentropy\", optimizer=\"nadam\", metrics=[\"accuracy\"])\n",
    "n_epochs = 25"
   ]
  },
  {
   "cell_type": "code",
   "execution_count": null,
   "id": "encouraging-grammar",
   "metadata": {},
   "outputs": [],
   "source": [
    "lr_scheduler = keras.callbacks.LearningRateScheduler(exponential_decay_fn)\n",
    "history = model.fit(x_train_scaled, y_train, epochs=n_epochs,\n",
    "                    validation_data=(x_val_scaled, y_val),\n",
    "                    callbacks=[lr_scheduler])"
   ]
  },
  {
   "cell_type": "code",
   "execution_count": null,
   "id": "happy-temple",
   "metadata": {},
   "outputs": [],
   "source": [
    "\n",
    "plt.plot(history.epoch, history.history[\"lr\"], \"o-\")\n",
    "plt.axis([0, n_epochs - 1, 0, 0.011])\n",
    "plt.xlabel(\"Epoch\")\n",
    "plt.ylabel(\"Learning Rate\")\n",
    "plt.title(\"Exponential Scheduling\", fontsize=14)\n",
    "plt.grid(True)\n",
    "plt.show()\n"
   ]
  },
  {
   "cell_type": "code",
   "execution_count": null,
   "id": "extensive-ministry",
   "metadata": {},
   "outputs": [],
   "source": [
    "\n",
    "def exponential_decay_fn(epoch, lr):\n",
    "    return lr * 0.1**(1 / 20)"
   ]
  },
  {
   "cell_type": "code",
   "execution_count": null,
   "id": "threatened-assistant",
   "metadata": {},
   "outputs": [],
   "source": [
    "#If you want to update the learning rate at each iteration rather than at each epoch, you must write your own callback class:"
   ]
  },
  {
   "cell_type": "code",
   "execution_count": null,
   "id": "modern-bosnia",
   "metadata": {},
   "outputs": [],
   "source": [
    "k = keras.backend\n",
    "class ExponentialDecay(keras.callbacks.Callback):\n",
    "     def __init__(self, s=40000):\n",
    "        super().__init__()\n",
    "        self.s = s\n",
    "     def on_batch_begin(self,batch,logs = None):\n",
    "        # Note: the `batch` argument is reset at each epoch\n",
    "        lr = k.get_value(self.model.optimizer.lr)\n",
    "        k.set_value(self.model.optimizer.lr, lr * 0.1**(1 / s))\n",
    "     def on_epoch_end(self,batch,logs=None):\n",
    "        logs = logs or {}\n",
    "        logs[\"lr\"] = k.get_value(self.model.optimizer.lr)\n",
    "model = keras.models.Sequential([\n",
    "    keras.layers.Flatten(input_shape=[28, 28]),\n",
    "    keras.layers.Dense(300, activation=\"selu\", kernel_initializer=\"lecun_normal\"),\n",
    "    keras.layers.Dense(100, activation=\"selu\", kernel_initializer=\"lecun_normal\"),\n",
    "    keras.layers.Dense(10, activation=\"softmax\")\n",
    "])\n",
    "lr0 = 0.01\n",
    "optimizer = keras.optimizers.Nadam(lr=lr0)\n",
    "model.compile(loss=\"sparse_categorical_crossentropy\", optimizer=optimizer, metrics=[\"accuracy\"])\n",
    "n_epochs = 25\n",
    "\n",
    "s = 20 * len(x_train) // 32 # number of steps in 20 epochs (batch size = 32)\n",
    "exp_decay = ExponentialDecay(s)\n",
    "history = model.fit(x_train_scaled, y_train, epochs=n_epochs,\n",
    "                    validation_data=(x_val_scaled, y_val),\n",
    "                    callbacks=[exp_decay])"
   ]
  },
  {
   "cell_type": "code",
   "execution_count": null,
   "id": "entertaining-ministry",
   "metadata": {},
   "outputs": [],
   "source": [
    "n_steps = n_epochs * len(x_train) // 32\n",
    "steps = np.arange(n_steps)\n",
    "lrs = lr0 * 0.1**(steps / s)"
   ]
  },
  {
   "cell_type": "code",
   "execution_count": null,
   "id": "genetic-assurance",
   "metadata": {},
   "outputs": [],
   "source": [
    "\n",
    "plt.plot(steps, lrs, \"-\", linewidth=2)\n",
    "plt.axis([0, n_steps - 1, 0, lr0 * 1.1])\n",
    "plt.xlabel(\"Batch\")\n",
    "plt.ylabel(\"Learning Rate\")\n",
    "plt.title(\"Exponential Scheduling (per batch)\", fontsize=14)\n",
    "plt.grid(True)\n",
    "plt.show()"
   ]
  },
  {
   "cell_type": "markdown",
   "id": "alike-enzyme",
   "metadata": {},
   "source": [
    "## piecewise constant scheduling"
   ]
  },
  {
   "cell_type": "code",
   "execution_count": null,
   "id": "absent-france",
   "metadata": {},
   "outputs": [],
   "source": [
    "def piecewise_constant_fn(epoch):\n",
    "    if epoch<5:\n",
    "        return 0.01\n",
    "    elif epoch<15:\n",
    "        return 0.005\n",
    "    else:\n",
    "        return 0.001\n",
    "    "
   ]
  },
  {
   "cell_type": "code",
   "execution_count": null,
   "id": "median-trustee",
   "metadata": {},
   "outputs": [],
   "source": [
    "\n",
    "def piecewise_constant(boundaries, values):\n",
    "    boundaries = np.array([0] + boundaries)\n",
    "    values = np.array(values)\n",
    "    def piecewise_constant_fn(epoch):\n",
    "        return values[np.argmax(boundaries > epoch) - 1]\n",
    "    return piecewise_constant_fn\n",
    "\n",
    "piecewise_constant_fn = piecewise_constant([5, 15], [0.01, 0.005, 0.001])\n"
   ]
  },
  {
   "cell_type": "code",
   "execution_count": null,
   "id": "acoustic-stake",
   "metadata": {},
   "outputs": [],
   "source": [
    "lr_scheduler = keras.callbacks.LearningRateScheduler(piecewise_constant_fn)\n",
    "\n",
    "model = keras.models.Sequential([\n",
    "    keras.layers.Flatten(input_shape=[28, 28]),\n",
    "    keras.layers.Dense(300, activation=\"selu\", kernel_initializer=\"lecun_normal\"),\n",
    "    keras.layers.Dense(100, activation=\"selu\", kernel_initializer=\"lecun_normal\"),\n",
    "    keras.layers.Dense(10, activation=\"softmax\")\n",
    "])\n",
    "model.compile(loss=\"sparse_categorical_crossentropy\", optimizer=\"nadam\", metrics=[\"accuracy\"])\n",
    "n_epochs = 25\n",
    "history = model.fit(x_train_scaled, y_train, epochs=n_epochs,\n",
    "                    validation_data=(x_val_scaled, y_val),\n",
    "                    callbacks=[lr_scheduler])"
   ]
  },
  {
   "cell_type": "code",
   "execution_count": null,
   "id": "precious-spyware",
   "metadata": {},
   "outputs": [],
   "source": [
    "\n",
    "plt.plot(history.epoch, [piecewise_constant_fn(epoch) for epoch in history.epoch], \"o-\")\n",
    "plt.axis([0, n_epochs - 1, 0, 0.011])\n",
    "plt.xlabel(\"Epoch\")\n",
    "plt.ylabel(\"Learning Rate\")\n",
    "plt.title(\"Piecewise Constant Scheduling\", fontsize=14)\n",
    "plt.grid(True)\n",
    "plt.show()"
   ]
  },
  {
   "cell_type": "code",
   "execution_count": 5,
   "id": "active-subdivision",
   "metadata": {},
   "outputs": [
    {
     "name": "stdout",
     "output_type": "stream",
     "text": [
      "Epoch 1/25\n",
      "1563/1563 [==============================] - 8s 5ms/step - loss: 0.7455 - accuracy: 0.7684 - val_loss: 0.5169 - val_accuracy: 0.8392\n",
      "Epoch 2/25\n",
      "1563/1563 [==============================] - 5s 3ms/step - loss: 0.5082 - accuracy: 0.8351 - val_loss: 0.5365 - val_accuracy: 0.8411\n",
      "Epoch 3/25\n",
      "1563/1563 [==============================] - 5s 3ms/step - loss: 0.4627 - accuracy: 0.8524 - val_loss: 0.6066 - val_accuracy: 0.8276\n",
      "Epoch 4/25\n",
      "1563/1563 [==============================] - 5s 3ms/step - loss: 0.4834 - accuracy: 0.8507 - val_loss: 0.6790 - val_accuracy: 0.7941\n",
      "Epoch 5/25\n",
      "1563/1563 [==============================] - 5s 3ms/step - loss: 0.5158 - accuracy: 0.8469 - val_loss: 0.5117 - val_accuracy: 0.8509\n",
      "Epoch 6/25\n",
      "1563/1563 [==============================] - 5s 3ms/step - loss: 0.4906 - accuracy: 0.8563 - val_loss: 0.8909 - val_accuracy: 0.8049\n",
      "Epoch 7/25\n",
      "1563/1563 [==============================] - 5s 3ms/step - loss: 0.5374 - accuracy: 0.8526 - val_loss: 0.5881 - val_accuracy: 0.8466\n",
      "Epoch 8/25\n",
      "1563/1563 [==============================] - 6s 4ms/step - loss: 0.4848 - accuracy: 0.8609 - val_loss: 0.6666 - val_accuracy: 0.8538\n",
      "Epoch 9/25\n",
      "1563/1563 [==============================] - 4s 3ms/step - loss: 0.5078 - accuracy: 0.8601 - val_loss: 0.8036 - val_accuracy: 0.8388\n",
      "Epoch 10/25\n",
      "1563/1563 [==============================] - 4s 3ms/step - loss: 0.5041 - accuracy: 0.8633 - val_loss: 0.7700 - val_accuracy: 0.8027\n",
      "Epoch 11/25\n",
      "1563/1563 [==============================] - 4s 3ms/step - loss: 0.3300 - accuracy: 0.8928 - val_loss: 0.4645 - val_accuracy: 0.8756\n",
      "Epoch 12/25\n",
      "1563/1563 [==============================] - 4s 3ms/step - loss: 0.2309 - accuracy: 0.9136 - val_loss: 0.4702 - val_accuracy: 0.8697\n",
      "Epoch 13/25\n",
      "1563/1563 [==============================] - 5s 3ms/step - loss: 0.2146 - accuracy: 0.9195 - val_loss: 0.4470 - val_accuracy: 0.8758\n",
      "Epoch 14/25\n",
      "1563/1563 [==============================] - 4s 3ms/step - loss: 0.1933 - accuracy: 0.9287 - val_loss: 0.5353 - val_accuracy: 0.8729\n",
      "Epoch 15/25\n",
      "1563/1563 [==============================] - 4s 3ms/step - loss: 0.1846 - accuracy: 0.9321 - val_loss: 0.4585 - val_accuracy: 0.8751\n",
      "Epoch 16/25\n",
      "1563/1563 [==============================] - 5s 3ms/step - loss: 0.1687 - accuracy: 0.9364 - val_loss: 0.4876 - val_accuracy: 0.8785\n",
      "Epoch 17/25\n",
      "1563/1563 [==============================] - 5s 3ms/step - loss: 0.1655 - accuracy: 0.9371 - val_loss: 0.5112 - val_accuracy: 0.8783\n",
      "Epoch 18/25\n",
      "1563/1563 [==============================] - 18s 12ms/step - loss: 0.1548 - accuracy: 0.9419 - val_loss: 0.5181 - val_accuracy: 0.8798\n",
      "Epoch 19/25\n",
      "1563/1563 [==============================] - 6s 4ms/step - loss: 0.1107 - accuracy: 0.9556 - val_loss: 0.5097 - val_accuracy: 0.8863\n",
      "Epoch 20/25\n",
      "1563/1563 [==============================] - 18s 12ms/step - loss: 0.0929 - accuracy: 0.9648 - val_loss: 0.5156 - val_accuracy: 0.8919\n",
      "Epoch 21/25\n",
      "1563/1563 [==============================] - 20s 13ms/step - loss: 0.0854 - accuracy: 0.9663 - val_loss: 0.5303 - val_accuracy: 0.8939\n",
      "Epoch 22/25\n",
      "1563/1563 [==============================] - 5s 3ms/step - loss: 0.0801 - accuracy: 0.9696 - val_loss: 0.5712 - val_accuracy: 0.8870\n",
      "Epoch 23/25\n",
      "1563/1563 [==============================] - 7s 4ms/step - loss: 0.0711 - accuracy: 0.9737 - val_loss: 0.5721 - val_accuracy: 0.8887\n",
      "Epoch 24/25\n",
      "1563/1563 [==============================] - 6s 4ms/step - loss: 0.0597 - accuracy: 0.9789 - val_loss: 0.5767 - val_accuracy: 0.8944\n",
      "Epoch 25/25\n",
      "1563/1563 [==============================] - 7s 5ms/step - loss: 0.0521 - accuracy: 0.9820 - val_loss: 0.5881 - val_accuracy: 0.8953\n"
     ]
    }
   ],
   "source": [
    "lr_scheduler = keras.callbacks.ReduceLROnPlateau(factor=0.5, patience=5)\n",
    "\n",
    "model = keras.models.Sequential([\n",
    "    keras.layers.Flatten(input_shape=[28, 28]),\n",
    "    keras.layers.Dense(300, activation=\"selu\", kernel_initializer=\"lecun_normal\"),\n",
    "    keras.layers.Dense(100, activation=\"selu\", kernel_initializer=\"lecun_normal\"),\n",
    "    keras.layers.Dense(10, activation=\"softmax\")\n",
    "])\n",
    "optimizer = keras.optimizers.SGD(lr=0.02, momentum=0.9)\n",
    "model.compile(loss=\"sparse_categorical_crossentropy\", optimizer=optimizer, metrics=[\"accuracy\"])\n",
    "n_epochs = 25\n",
    "history = model.fit(x_train_scaled, y_train, epochs=n_epochs,\n",
    "                    validation_data=(x_val_scaled, y_val),\n",
    "                    callbacks=[lr_scheduler])"
   ]
  },
  {
   "cell_type": "code",
   "execution_count": 6,
   "id": "seasonal-proposition",
   "metadata": {},
   "outputs": [
    {
     "data": {
      "image/png": "[encoded data removed]",
      "text/plain": [
       "<Figure size 432x288 with 2 Axes>"
      ]
     },
     "metadata": {
      "needs_background": "light"
     },
     "output_type": "display_data"
    }
   ],
   "source": [
    "plt.plot(history.epoch, history.history[\"lr\"], \"bo-\")\n",
    "plt.xlabel(\"Epoch\")\n",
    "plt.ylabel(\"Learning Rate\", color='b')\n",
    "plt.tick_params('y', colors='b')\n",
    "plt.gca().set_xlim(0, n_epochs - 1)\n",
    "plt.grid(True)\n",
    "\n",
    "ax2 = plt.gca().twinx()\n",
    "ax2.plot(history.epoch, history.history[\"val_loss\"], \"r^-\")\n",
    "ax2.set_ylabel('Validation Loss', color='r')\n",
    "ax2.tick_params('y', colors='r')\n",
    "\n",
    "plt.title(\"Reduce LR on Plateau\", fontsize=14)\n",
    "plt.show()"
   ]
  },
  {
   "cell_type": "code",
   "execution_count": 23,
   "id": "recovered-witch",
   "metadata": {},
   "outputs": [
    {
     "data": {
      "text/plain": [
       "{'loss': [0.6006370782852173,\n",
       "  0.5083778500556946,\n",
       "  0.4859870672225952,\n",
       "  0.5086763501167297,\n",
       "  0.5048837065696716,\n",
       "  0.4946487247943878,\n",
       "  0.5260151028633118,\n",
       "  0.5097629427909851,\n",
       "  0.5347229838371277,\n",
       "  0.5175421833992004,\n",
       "  0.2917076051235199,\n",
       "  0.23738326132297516,\n",
       "  0.21766537427902222,\n",
       "  0.2027854174375534,\n",
       "  0.18995487689971924,\n",
       "  0.18108037114143372,\n",
       "  0.17110192775726318,\n",
       "  0.15860991179943085,\n",
       "  0.10742174834012985,\n",
       "  0.09315134584903717,\n",
       "  0.08611530065536499,\n",
       "  0.08046223968267441,\n",
       "  0.07512518763542175,\n",
       "  0.058208975940942764,\n",
       "  0.05255109444260597],\n",
       " 'accuracy': [0.803820013999939,\n",
       "  0.8366000056266785,\n",
       "  0.8466600179672241,\n",
       "  0.8464800119400024,\n",
       "  0.851859986782074,\n",
       "  0.8545799851417542,\n",
       "  0.8540599942207336,\n",
       "  0.8580399751663208,\n",
       "  0.8574000000953674,\n",
       "  0.8608599901199341,\n",
       "  0.9002199769020081,\n",
       "  0.9127799868583679,\n",
       "  0.9197800159454346,\n",
       "  0.9257000088691711,\n",
       "  0.9301599860191345,\n",
       "  0.9325199723243713,\n",
       "  0.9356799721717834,\n",
       "  0.9409199953079224,\n",
       "  0.9571800231933594,\n",
       "  0.9638800024986267,\n",
       "  0.966159999370575,\n",
       "  0.968559980392456,\n",
       "  0.9714400172233582,\n",
       "  0.9791399836540222,\n",
       "  0.9808400273323059],\n",
       " 'val_loss': [0.5168563723564148,\n",
       "  0.5364592671394348,\n",
       "  0.6065968871116638,\n",
       "  0.6790211796760559,\n",
       "  0.5116883516311646,\n",
       "  0.8909274339675903,\n",
       "  0.5881295800209045,\n",
       "  0.6665522456169128,\n",
       "  0.8035944104194641,\n",
       "  0.7700324654579163,\n",
       "  0.4645267724990845,\n",
       "  0.47022151947021484,\n",
       "  0.44699013233184814,\n",
       "  0.5353334546089172,\n",
       "  0.4585193991661072,\n",
       "  0.48757368326187134,\n",
       "  0.5111900568008423,\n",
       "  0.5181472897529602,\n",
       "  0.5097224712371826,\n",
       "  0.5156294703483582,\n",
       "  0.5303469896316528,\n",
       "  0.571224570274353,\n",
       "  0.5720933675765991,\n",
       "  0.5767029523849487,\n",
       "  0.5880967974662781],\n",
       " 'val_accuracy': [0.8392000198364258,\n",
       "  0.8410999774932861,\n",
       "  0.8276000022888184,\n",
       "  0.7940999865531921,\n",
       "  0.8508999943733215,\n",
       "  0.8048999905586243,\n",
       "  0.8465999960899353,\n",
       "  0.8537999987602234,\n",
       "  0.8388000130653381,\n",
       "  0.8026999831199646,\n",
       "  0.8755999803543091,\n",
       "  0.869700014591217,\n",
       "  0.8758000135421753,\n",
       "  0.8729000091552734,\n",
       "  0.8751000165939331,\n",
       "  0.8784999847412109,\n",
       "  0.8783000111579895,\n",
       "  0.879800021648407,\n",
       "  0.8863000273704529,\n",
       "  0.8919000029563904,\n",
       "  0.8938999772071838,\n",
       "  0.8870000243186951,\n",
       "  0.888700008392334,\n",
       "  0.8944000005722046,\n",
       "  0.8952999711036682],\n",
       " 'lr': [0.02,\n",
       "  0.02,\n",
       "  0.02,\n",
       "  0.02,\n",
       "  0.02,\n",
       "  0.02,\n",
       "  0.02,\n",
       "  0.02,\n",
       "  0.02,\n",
       "  0.02,\n",
       "  0.01,\n",
       "  0.01,\n",
       "  0.01,\n",
       "  0.01,\n",
       "  0.01,\n",
       "  0.01,\n",
       "  0.01,\n",
       "  0.01,\n",
       "  0.005,\n",
       "  0.005,\n",
       "  0.005,\n",
       "  0.005,\n",
       "  0.005,\n",
       "  0.0025,\n",
       "  0.0025]}"
      ]
     },
     "execution_count": 23,
     "metadata": {},
     "output_type": "execute_result"
    }
   ],
   "source": [
    "history.history"
   ]
  },
  {
   "cell_type": "code",
   "execution_count": null,
   "id": "placed-referral",
   "metadata": {},
   "outputs": [],
   "source": [
    "model = keras.models.Sequential([\n",
    "    keras.layers.Flatten(input_shape=[28, 28]),\n",
    "    keras.layers.Dense(300, activation=\"selu\", kernel_initializer=\"lecun_normal\"),\n",
    "    keras.layers.Dense(100, activation=\"selu\", kernel_initializer=\"lecun_normal\"),\n",
    "    keras.layers.Dense(10, activation=\"softmax\")\n",
    "])\n",
    "s = 20 * len(X_train) // 32 # number of steps in 20 epochs (batch size = 32)\n",
    "learning_rate = keras.optimizers.schedules.ExponentialDecay(0.01, s, 0.1)\n",
    "optimizer = keras.optimizers.SGD(learning_rate)\n",
    "model.compile(loss=\"sparse_categorical_crossentropy\", optimizer=optimizer, metrics=[\"accuracy\"])\n",
    "n_epochs = 25\n",
    "history = model.fit(X_train_scaled, y_train, epochs=n_epochs,\n",
    "                    validation_data=(X_valid_scaled, y_valid))"
   ]
  },
  {
   "cell_type": "code",
   "execution_count": null,
   "id": "demanding-dealer",
   "metadata": {},
   "outputs": [],
   "source": []
  },
  {
   "cell_type": "code",
   "execution_count": null,
   "id": "forbidden-blind",
   "metadata": {},
   "outputs": [],
   "source": []
  },
  {
   "cell_type": "code",
   "execution_count": null,
   "id": "ambient-property",
   "metadata": {},
   "outputs": [],
   "source": []
  },
  {
   "cell_type": "code",
   "execution_count": null,
   "id": "nutritional-timer",
   "metadata": {},
   "outputs": [],
   "source": []
  },
  {
   "cell_type": "code",
   "execution_count": null,
   "id": "thousand-married",
   "metadata": {},
   "outputs": [],
   "source": []
  },
  {
   "cell_type": "code",
   "execution_count": null,
   "id": "bronze-wiring",
   "metadata": {},
   "outputs": [],
   "source": []
  },
  {
   "cell_type": "markdown",
   "id": "auburn-tiffany",
   "metadata": {},
   "source": [
    "## avoiding overfitting through regularization\n"
   ]
  },
  {
   "cell_type": "code",
   "execution_count": null,
   "id": "complex-clinton",
   "metadata": {},
   "outputs": [],
   "source": [
    "#l1 and l2 regularization"
   ]
  },
  {
   "cell_type": "code",
   "execution_count": null,
   "id": "perfect-cycle",
   "metadata": {},
   "outputs": [],
   "source": [
    "layer = keras.layers.Dense(100,activation = \"elu\",kernel_initializer = \"he_normal\",kernel_regularizer=\n",
    "                           keras.regularizers.l2(0.01))"
   ]
  },
  {
   "cell_type": "code",
   "execution_count": null,
   "id": "built-contractor",
   "metadata": {},
   "outputs": [],
   "source": [
    "model = keras.models.Sequential([\n",
    "    keras.layers.Flatten(input_shape=[28, 28]),\n",
    "    keras.layers.Dense(300, activation=\"elu\",\n",
    "                       kernel_initializer=\"he_normal\",\n",
    "                       kernel_regularizer=keras.regularizers.l2(0.01)),\n",
    "    keras.layers.Dense(100, activation=\"elu\",\n",
    "                       kernel_initializer=\"he_normal\",\n",
    "                       kernel_regularizer=keras.regularizers.l2(0.01)),\n",
    "    keras.layers.Dense(10, activation=\"softmax\",\n",
    "                       kernel_regularizer=keras.regularizers.l2(0.01))\n",
    "])\n",
    "model.compile(loss=\"sparse_categorical_crossentropy\", optimizer=\"nadam\", metrics=[\"accuracy\"])\n",
    "n_epochs = 2\n",
    "history = model.fit(x_train_scaled, y_train, epochs=n_epochs,\n",
    "                    validation_data=(x_val_scaled, y_val))"
   ]
  },
  {
   "cell_type": "code",
   "execution_count": null,
   "id": "extensive-worse",
   "metadata": {},
   "outputs": [],
   "source": [
    "from functools import partial\n",
    "regularizeddense = partial(keras.layers.Dense,activation = \"elu\",kernel_initializer= \"he_normal\"\n",
    "                           ,kernel_regularizer = keras.regularizers.l2(0.01))\n",
    "model = keras.models.Sequential([\n",
    "    keras.layers.Flatten(input_shape=[28, 28]),\n",
    "    regularizeddense(300),\n",
    "    regularizeddense(100),\n",
    "    regularizeddense(10, activation=\"softmax\")\n",
    "])\n",
    "model.compile(loss=\"sparse_categorical_crossentropy\", optimizer=\"nadam\", metrics=[\"accuracy\"])\n",
    "n_epochs = 2\n",
    "history = model.fit(x_train_scaled, y_train, epochs=n_epochs,\n",
    "                    validation_data=(x_val_scaled, y_val))\n"
   ]
  },
  {
   "cell_type": "markdown",
   "id": "dependent-motel",
   "metadata": {},
   "source": [
    "## dropout"
   ]
  },
  {
   "cell_type": "code",
   "execution_count": null,
   "id": "cloudy-emperor",
   "metadata": {},
   "outputs": [],
   "source": [
    "\n",
    "model = keras.models.Sequential([\n",
    "    keras.layers.Flatten(input_shape=[28, 28]),\n",
    "    keras.layers.Dropout(rate=0.2),\n",
    "    keras.layers.Dense(300, activation=\"elu\", kernel_initializer=\"he_normal\"),\n",
    "    keras.layers.Dropout(rate=0.2),\n",
    "    keras.layers.Dense(100, activation=\"elu\", kernel_initializer=\"he_normal\"),\n",
    "    keras.layers.Dropout(rate=0.2),\n",
    "    keras.layers.Dense(10, activation=\"softmax\")\n",
    "])\n",
    "model.compile(loss=\"sparse_categorical_crossentropy\", optimizer=\"nadam\", metrics=[\"accuracy\"])\n",
    "n_epochs = 2\n",
    "history = model.fit(x_train_scaled, y_train, epochs=n_epochs,\n",
    "                    validation_data=(x_val_scaled, y_val))"
   ]
  },
  {
   "cell_type": "code",
   "execution_count": null,
   "id": "legislative-helen",
   "metadata": {},
   "outputs": [],
   "source": [
    "tf.random.set_seed(42)\n",
    "np.random.seed(42)\n",
    "model = keras.models.Sequential([\n",
    "    keras.layers.Flatten(input_shape=[28, 28]),\n",
    "    keras.layers.AlphaDropout(rate=0.2),\n",
    "    keras.layers.Dense(300, activation=\"selu\", kernel_initializer=\"lecun_normal\"),\n",
    "    keras.layers.AlphaDropout(rate=0.2),\n",
    "    keras.layers.Dense(100, activation=\"selu\", kernel_initializer=\"lecun_normal\"),\n",
    "    keras.layers.AlphaDropout(rate=0.2),\n",
    "    keras.layers.Dense(10, activation=\"softmax\")\n",
    "])\n",
    "optimizer = keras.optimizers.SGD(lr=0.01, momentum=0.9, nesterov=True)\n",
    "model.compile(loss=\"sparse_categorical_crossentropy\", optimizer=optimizer, metrics=[\"accuracy\"])\n",
    "n_epochs = 20\n",
    "history = model.fit(x_train_scaled, y_train, epochs=n_epochs,\n",
    "                    validation_data=(x_val_scaled, y_val))"
   ]
  },
  {
   "cell_type": "code",
   "execution_count": null,
   "id": "closed-refrigerator",
   "metadata": {},
   "outputs": [],
   "source": [
    "model.evaluate(x_test_scaled, y_test)"
   ]
  },
  {
   "cell_type": "code",
   "execution_count": null,
   "id": "other-destiny",
   "metadata": {},
   "outputs": [],
   "source": [
    "model.evaluate(x_train_scaled, y_train)"
   ]
  },
  {
   "cell_type": "code",
   "execution_count": null,
   "id": "inner-kazakhstan",
   "metadata": {},
   "outputs": [],
   "source": [
    "\n",
    "history = model.fit(x_train_scaled, y_train)"
   ]
  },
  {
   "cell_type": "markdown",
   "id": "covered-dover",
   "metadata": {},
   "source": [
    "## mc dropout"
   ]
  },
  {
   "cell_type": "code",
   "execution_count": null,
   "id": "brave-madagascar",
   "metadata": {},
   "outputs": [],
   "source": [
    "tf.random.set_seed(42)\n",
    "np.random.seed(42)"
   ]
  },
  {
   "cell_type": "code",
   "execution_count": null,
   "id": "human-confusion",
   "metadata": {},
   "outputs": [],
   "source": [
    "y_probas = np.stack([model(x_test_scaled,training = True) for sample in range(100)])\n",
    "y_proba = y_probas.mean(axis = 0)\n",
    "y_std = y_probas.std(axis=0)"
   ]
  },
  {
   "cell_type": "code",
   "execution_count": null,
   "id": "placed-career",
   "metadata": {},
   "outputs": [],
   "source": [
    "y_proba[:1]"
   ]
  },
  {
   "cell_type": "code",
   "execution_count": null,
   "id": "bulgarian-engagement",
   "metadata": {},
   "outputs": [],
   "source": [
    "np.round(model.predict(x_test_scaled[:1]),2)"
   ]
  },
  {
   "cell_type": "code",
   "execution_count": null,
   "id": "attached-proposition",
   "metadata": {},
   "outputs": [],
   "source": []
  },
  {
   "cell_type": "code",
   "execution_count": null,
   "id": "disciplinary-newton",
   "metadata": {},
   "outputs": [],
   "source": [
    "np.round(y_probas[:,:1],2)"
   ]
  },
  {
   "cell_type": "code",
   "execution_count": null,
   "id": "excess-flight",
   "metadata": {},
   "outputs": [],
   "source": [
    "np.round(y_proba[:1],2)"
   ]
  },
  {
   "cell_type": "code",
   "execution_count": null,
   "id": "tested-filling",
   "metadata": {},
   "outputs": [],
   "source": [
    "np.round(y_std[:1],2)"
   ]
  },
  {
   "cell_type": "code",
   "execution_count": null,
   "id": "hispanic-object",
   "metadata": {},
   "outputs": [],
   "source": [
    "y_pred = model.predict_classes(x_test_scaled)\n",
    "accuracy = np.sum(y_pred== y_test)/len(y_test)"
   ]
  },
  {
   "cell_type": "code",
   "execution_count": null,
   "id": "simple-parish",
   "metadata": {},
   "outputs": [],
   "source": [
    "y_pred1 = np.argmax(y_proba,axis =1)\n",
    "accuracy1 = np.sum(y_pred1== y_test)/len(y_test)"
   ]
  },
  {
   "cell_type": "code",
   "execution_count": null,
   "id": "buried-titanium",
   "metadata": {},
   "outputs": [],
   "source": [
    "accuracy\n",
    "accuracy1"
   ]
  },
  {
   "cell_type": "code",
   "execution_count": null,
   "id": "possible-victoria",
   "metadata": {},
   "outputs": [],
   "source": [
    "class MCDropout (keras.layers.Dropout):\n",
    "    def call(self,input):\n",
    "        return super().call(inputs,training = True)\n",
    "class MCAlphaDropout (keras.layers.AlphaDropout):\n",
    "    def call(self,input):\n",
    "        return super().call(inputs,training = True)"
   ]
  },
  {
   "cell_type": "code",
   "execution_count": null,
   "id": "hazardous-store",
   "metadata": {},
   "outputs": [],
   "source": [
    "tf.random.set_seed(42)\n",
    "np.random.seed(42)"
   ]
  },
  {
   "cell_type": "markdown",
   "id": "incorporated-event",
   "metadata": {},
   "source": [
    "## max norm"
   ]
  },
  {
   "cell_type": "code",
   "execution_count": null,
   "id": "subtle-light",
   "metadata": {},
   "outputs": [],
   "source": [
    "layer = keras.layers.Dense(100,activation =\"selu\", kernel_initializer = \"lecun_normal\",kernel_constraint = keras.constraints.\n",
    "                           max_norm(1.))"
   ]
  },
  {
   "cell_type": "code",
   "execution_count": null,
   "id": "available-sheep",
   "metadata": {},
   "outputs": [],
   "source": [
    "from functools import partial"
   ]
  },
  {
   "cell_type": "code",
   "execution_count": null,
   "id": "hairy-virtue",
   "metadata": {},
   "outputs": [],
   "source": [
    "MaxNormDense = partial(keras.layers.Dense,\n",
    "                       activation=\"selu\", kernel_initializer=\"lecun_normal\",\n",
    "                       kernel_constraint=keras.constraints.max_norm(1.))\n",
    "\n",
    "model = keras.models.Sequential([\n",
    "    keras.layers.Flatten(input_shape=[28, 28]),\n",
    "    MaxNormDense(300),\n",
    "    MaxNormDense(100),\n",
    "    keras.layers.Dense(10, activation=\"softmax\")\n",
    "])\n",
    "model.compile(loss=\"sparse_categorical_crossentropy\", optimizer=\"nadam\", metrics=[\"accuracy\"])\n",
    "n_epochs = 2\n",
    "history = model.fit(x_train_scaled, y_train, epochs=n_epochs,\n",
    "                    validation_data=(x_val_scaled, y_val))"
   ]
  },
  {
   "cell_type": "markdown",
   "id": "latin-brush",
   "metadata": {},
   "source": [
    "## exercises"
   ]
  },
  {
   "cell_type": "code",
   "execution_count": 2,
   "id": "remarkable-lunch",
   "metadata": {},
   "outputs": [],
   "source": [
    "keras.backend.clear_session()\n",
    "tf.random.set_seed(42)\n",
    "np.random.seed(42)"
   ]
  },
  {
   "cell_type": "code",
   "execution_count": 55,
   "id": "tested-program",
   "metadata": {},
   "outputs": [],
   "source": [
    "model = keras.models.Sequential()\n",
    "model.add(keras.layers.Flatten(input_shape = [32,32,3]))\n",
    "for _ in range(20):\n",
    "        model.add(keras.layers.Dense(100,activation= \"elu\",kernel_initializer = \"he_normal\"))\n",
    "#b\n",
    "model.add(keras.layers.Dense(10,activation = \"softmax\"))\n",
    "\n",
    "    "
   ]
  },
  {
   "cell_type": "code",
   "execution_count": null,
   "id": "decimal-stupid",
   "metadata": {},
   "outputs": [],
   "source": []
  },
  {
   "cell_type": "code",
   "execution_count": 3,
   "id": "wrapped-bradley",
   "metadata": {},
   "outputs": [],
   "source": [
    "#lets load dataset\n",
    "(x_train_full,y_train_full) ,(x_test,y_test)= keras.datasets.cifar10.load_data()\n"
   ]
  },
  {
   "cell_type": "code",
   "execution_count": 4,
   "id": "inclusive-homeless",
   "metadata": {},
   "outputs": [
    {
     "data": {
      "text/plain": [
       "(50000, 32, 32, 3)"
      ]
     },
     "execution_count": 4,
     "metadata": {},
     "output_type": "execute_result"
    }
   ],
   "source": [
    "x_train_full.shape"
   ]
  },
  {
   "cell_type": "code",
   "execution_count": 5,
   "id": "sweet-functionality",
   "metadata": {},
   "outputs": [
    {
     "data": {
      "text/plain": [
       "(10000, 32, 32, 3)"
      ]
     },
     "execution_count": 5,
     "metadata": {},
     "output_type": "execute_result"
    }
   ],
   "source": [
    "x_test.shape"
   ]
  },
  {
   "cell_type": "code",
   "execution_count": 6,
   "id": "successful-criminal",
   "metadata": {},
   "outputs": [],
   "source": [
    "x_train = x_train_full[5000:]\n",
    "y_train = y_train_full[5000:]\n",
    "x_val = x_train_full[:5000]\n",
    "y_val = y_train_full[:5000]"
   ]
  },
  {
   "cell_type": "code",
   "execution_count": 81,
   "id": "elegant-element",
   "metadata": {},
   "outputs": [
    {
     "name": "stdout",
     "output_type": "stream",
     "text": [
      "Epoch 1/10\n",
      "1407/1407 [==============================] - 23s 14ms/step - loss: 1.3890 - accuracy: 0.5056 - val_loss: 1.7986 - val_accuracy: 0.3820\n",
      "Epoch 2/10\n",
      "1407/1407 [==============================] - 19s 13ms/step - loss: 1.3791 - accuracy: 0.5027 - val_loss: 1.8310 - val_accuracy: 0.3776\n",
      "Epoch 3/10\n",
      "1407/1407 [==============================] - 19s 13ms/step - loss: 1.3679 - accuracy: 0.5106 - val_loss: 1.6167 - val_accuracy: 0.4336\n",
      "Epoch 4/10\n",
      "1407/1407 [==============================] - 19s 13ms/step - loss: 1.3567 - accuracy: 0.5122 - val_loss: 1.5966 - val_accuracy: 0.4468\n",
      "Epoch 5/10\n",
      "1407/1407 [==============================] - 18s 13ms/step - loss: 1.3333 - accuracy: 0.5253 - val_loss: 1.5819 - val_accuracy: 0.4444\n",
      "Epoch 6/10\n",
      "1407/1407 [==============================] - 18s 13ms/step - loss: 1.3207 - accuracy: 0.5246 - val_loss: 1.5214 - val_accuracy: 0.4694\n",
      "Epoch 7/10\n",
      "1407/1407 [==============================] - 18s 13ms/step - loss: 1.3155 - accuracy: 0.5267 - val_loss: 1.5577 - val_accuracy: 0.4480\n",
      "Epoch 8/10\n",
      "1407/1407 [==============================] - 18s 12ms/step - loss: 1.3010 - accuracy: 0.5351 - val_loss: 1.5283 - val_accuracy: 0.4736\n",
      "Epoch 9/10\n",
      "1407/1407 [==============================] - 18s 13ms/step - loss: 1.3002 - accuracy: 0.5278 - val_loss: 1.5713 - val_accuracy: 0.4470\n",
      "Epoch 10/10\n",
      "1407/1407 [==============================] - 18s 13ms/step - loss: 1.2949 - accuracy: 0.5354 - val_loss: 1.5677 - val_accuracy: 0.4492\n"
     ]
    }
   ],
   "source": [
    "optimizer = keras.optimizers.Nadam(lr =1e-4 )\n",
    "model.compile(loss = \"sparse_categorical_crossentropy\",metrics = [\"accuracy\"],optimizer = optimizer)\n",
    "history = model.fit(x_train, y_train, epochs=10,\n",
    "                    validation_data=(x_val, y_val),\n",
    "                )"
   ]
  },
  {
   "cell_type": "code",
   "execution_count": 83,
   "id": "miniature-spice",
   "metadata": {},
   "outputs": [
    {
     "name": "stdout",
     "output_type": "stream",
     "text": [
      "Epoch 1/10\n",
      "1407/1407 [==============================] - 24s 13ms/step - loss: 1.1711 - accuracy: 0.5826 - val_loss: 1.4778 - val_accuracy: 0.4880\n",
      "Epoch 2/10\n",
      "1407/1407 [==============================] - 18s 13ms/step - loss: 1.1345 - accuracy: 0.5902 - val_loss: 1.4799 - val_accuracy: 0.4896\n",
      "Epoch 3/10\n",
      "1407/1407 [==============================] - 18s 13ms/step - loss: 1.1332 - accuracy: 0.5943 - val_loss: 1.4677 - val_accuracy: 0.4996\n",
      "Epoch 4/10\n",
      "1407/1407 [==============================] - 18s 13ms/step - loss: 1.1193 - accuracy: 0.5979 - val_loss: 1.4770 - val_accuracy: 0.5026\n",
      "Epoch 5/10\n",
      "1407/1407 [==============================] - 18s 12ms/step - loss: 1.1081 - accuracy: 0.6037 - val_loss: 1.5013 - val_accuracy: 0.4952\n",
      "Epoch 6/10\n",
      "1407/1407 [==============================] - 18s 12ms/step - loss: 1.1029 - accuracy: 0.6042 - val_loss: 1.4820 - val_accuracy: 0.4958\n",
      "Epoch 7/10\n",
      "1407/1407 [==============================] - 17s 12ms/step - loss: 1.0928 - accuracy: 0.6076 - val_loss: 1.4904 - val_accuracy: 0.4978\n",
      "Epoch 8/10\n",
      "1407/1407 [==============================] - 18s 12ms/step - loss: 1.0887 - accuracy: 0.6084 - val_loss: 1.4882 - val_accuracy: 0.4986\n",
      "Epoch 9/10\n",
      "1407/1407 [==============================] - 18s 13ms/step - loss: 1.0864 - accuracy: 0.6072 - val_loss: 1.4920 - val_accuracy: 0.4980\n",
      "Epoch 10/10\n",
      "1407/1407 [==============================] - 17s 12ms/step - loss: 1.0807 - accuracy: 0.6127 - val_loss: 1.4922 - val_accuracy: 0.5046\n"
     ]
    }
   ],
   "source": [
    "optimizer = keras.optimizers.Nadam(lr =2e-5 )\n",
    "model.compile(loss = \"sparse_categorical_crossentropy\",metrics = [\"accuracy\"],optimizer = optimizer)\n",
    "history = model.fit(x_train, y_train, epochs=10,\n",
    "                    validation_data=(x_val, y_val),\n",
    "                    )"
   ]
  },
  {
   "cell_type": "code",
   "execution_count": 84,
   "id": "opponent-gothic",
   "metadata": {},
   "outputs": [
    {
     "name": "stdout",
     "output_type": "stream",
     "text": [
      "Epoch 1/10\n",
      "1407/1407 [==============================] - 20s 12ms/step - loss: 1.2297 - accuracy: 0.5640 - val_loss: 1.5687 - val_accuracy: 0.4580\n",
      "Epoch 2/10\n",
      "1407/1407 [==============================] - 18s 13ms/step - loss: 1.2278 - accuracy: 0.5597 - val_loss: 1.6745 - val_accuracy: 0.4304\n",
      "Epoch 3/10\n",
      "1407/1407 [==============================] - 19s 14ms/step - loss: 1.2293 - accuracy: 0.5595 - val_loss: 1.5348 - val_accuracy: 0.4778\n",
      "Epoch 4/10\n",
      "1407/1407 [==============================] - 19s 13ms/step - loss: 1.2164 - accuracy: 0.5658 - val_loss: 1.5109 - val_accuracy: 0.4828\n",
      "Epoch 5/10\n",
      "1407/1407 [==============================] - 19s 13ms/step - loss: 1.1993 - accuracy: 0.5686 - val_loss: 1.5373 - val_accuracy: 0.4694\n",
      "Epoch 6/10\n",
      "1407/1407 [==============================] - 18s 13ms/step - loss: 1.1975 - accuracy: 0.5667 - val_loss: 1.5072 - val_accuracy: 0.4754\n",
      "Epoch 7/10\n",
      "1407/1407 [==============================] - 18s 13ms/step - loss: 1.1897 - accuracy: 0.5750 - val_loss: 1.5178 - val_accuracy: 0.4748\n",
      "Epoch 8/10\n",
      "1407/1407 [==============================] - 18s 13ms/step - loss: 1.1741 - accuracy: 0.5771 - val_loss: 1.4914 - val_accuracy: 0.4920\n",
      "Epoch 9/10\n",
      "1407/1407 [==============================] - 18s 13ms/step - loss: 1.1756 - accuracy: 0.5768 - val_loss: 1.5321 - val_accuracy: 0.4780\n",
      "Epoch 10/10\n",
      "1407/1407 [==============================] - 20s 14ms/step - loss: 1.1687 - accuracy: 0.5758 - val_loss: 1.5584 - val_accuracy: 0.4722\n"
     ]
    }
   ],
   "source": [
    "optimizer = keras.optimizers.Nadam(lr =1e-4 )\n",
    "model.compile(loss = \"sparse_categorical_crossentropy\",metrics = [\"accuracy\"],optimizer = optimizer)\n",
    "history = model.fit(x_train, y_train, epochs=10,\n",
    "                    validation_data=(x_val, y_val),\n",
    "                    )"
   ]
  },
  {
   "cell_type": "code",
   "execution_count": 85,
   "id": "powerful-casting",
   "metadata": {},
   "outputs": [
    {
     "name": "stdout",
     "output_type": "stream",
     "text": [
      "Epoch 1/10\n",
      "1407/1407 [==============================] - 23s 14ms/step - loss: 23.6324 - accuracy: 0.1037 - val_loss: 2.3691 - val_accuracy: 0.1038\n",
      "Epoch 2/10\n",
      "1407/1407 [==============================] - 19s 13ms/step - loss: 2.3272 - accuracy: 0.1034 - val_loss: 2.3583 - val_accuracy: 0.1038\n",
      "Epoch 3/10\n",
      "1407/1407 [==============================] - 19s 13ms/step - loss: 2.3303 - accuracy: 0.0974 - val_loss: 2.4068 - val_accuracy: 0.0920\n",
      "Epoch 4/10\n",
      "1407/1407 [==============================] - 18s 13ms/step - loss: 428280.6514 - accuracy: 0.0979 - val_loss: 6.4986 - val_accuracy: 0.1038\n",
      "Epoch 5/10\n",
      "1407/1407 [==============================] - 18s 13ms/step - loss: 4.3526 - accuracy: 0.0990 - val_loss: 2.3035 - val_accuracy: 0.0972\n",
      "Epoch 6/10\n",
      "1407/1407 [==============================] - 19s 13ms/step - loss: 2.3037 - accuracy: 0.1005 - val_loss: 2.3030 - val_accuracy: 0.1038\n",
      "Epoch 7/10\n",
      "1407/1407 [==============================] - 18s 13ms/step - loss: 2.3038 - accuracy: 0.0983 - val_loss: 2.3060 - val_accuracy: 0.0976\n",
      "Epoch 8/10\n",
      "1407/1407 [==============================] - 18s 13ms/step - loss: 2.3039 - accuracy: 0.0990 - val_loss: 2.3032 - val_accuracy: 0.1038\n",
      "Epoch 9/10\n",
      "1407/1407 [==============================] - 19s 14ms/step - loss: 2.3039 - accuracy: 0.0970 - val_loss: 2.3042 - val_accuracy: 0.1040\n",
      "Epoch 10/10\n",
      "1407/1407 [==============================] - 20s 14ms/step - loss: 2.3041 - accuracy: 0.1002 - val_loss: 2.3039 - val_accuracy: 0.0996\n"
     ]
    }
   ],
   "source": [
    "optimizer = keras.optimizers.Nadam(lr =1e-2 )\n",
    "model.compile(loss = \"sparse_categorical_crossentropy\",metrics = [\"accuracy\"],optimizer = optimizer)\n",
    "history = model.fit(x_train, y_train, epochs=10,\n",
    "                    validation_data=(x_val, y_val),\n",
    "                    )"
   ]
  },
  {
   "cell_type": "code",
   "execution_count": 86,
   "id": "lucky-subdivision",
   "metadata": {},
   "outputs": [
    {
     "name": "stdout",
     "output_type": "stream",
     "text": [
      "Epoch 1/10\n",
      "1407/1407 [==============================] - 22s 13ms/step - loss: 2.3067 - accuracy: 0.1011 - val_loss: 2.3030 - val_accuracy: 0.1040\n",
      "Epoch 2/10\n",
      "1407/1407 [==============================] - 19s 13ms/step - loss: 2.3075 - accuracy: 0.1010 - val_loss: 2.3079 - val_accuracy: 0.0976\n",
      "Epoch 3/10\n",
      "1407/1407 [==============================] - 19s 13ms/step - loss: 2.3075 - accuracy: 0.1015 - val_loss: 2.3088 - val_accuracy: 0.1010\n",
      "Epoch 4/10\n",
      "1407/1407 [==============================] - 17s 12ms/step - loss: 2.3085 - accuracy: 0.0951 - val_loss: 2.3128 - val_accuracy: 0.0996\n",
      "Epoch 5/10\n",
      "1407/1407 [==============================] - 19s 13ms/step - loss: 2.3073 - accuracy: 0.1005 - val_loss: 2.3084 - val_accuracy: 0.0972\n",
      "Epoch 6/10\n",
      "1407/1407 [==============================] - 19s 13ms/step - loss: 2.3073 - accuracy: 0.0995 - val_loss: 2.3056 - val_accuracy: 0.1038\n",
      "Epoch 7/10\n",
      "1407/1407 [==============================] - 18s 13ms/step - loss: 2.3074 - accuracy: 0.1012 - val_loss: 2.3061 - val_accuracy: 0.0976\n",
      "Epoch 8/10\n",
      "1407/1407 [==============================] - 17s 12ms/step - loss: 2.3073 - accuracy: 0.0979 - val_loss: 2.3036 - val_accuracy: 0.0972\n",
      "Epoch 9/10\n",
      "1407/1407 [==============================] - 17s 12ms/step - loss: 2.3075 - accuracy: 0.1009 - val_loss: 2.3064 - val_accuracy: 0.0996\n",
      "Epoch 10/10\n",
      "1407/1407 [==============================] - 19s 13ms/step - loss: 2.3076 - accuracy: 0.0978 - val_loss: 2.3116 - val_accuracy: 0.0996\n"
     ]
    }
   ],
   "source": [
    "optimizer = keras.optimizers.Nadam(lr =4e-4 )\n",
    "model.compile(loss = \"sparse_categorical_crossentropy\",metrics = [\"accuracy\"],optimizer = optimizer)\n",
    "history = model.fit(x_train, y_train, epochs=10,\n",
    "                    validation_data=(x_val, y_val),\n",
    "                   )"
   ]
  },
  {
   "cell_type": "code",
   "execution_count": 87,
   "id": "armed-committee",
   "metadata": {},
   "outputs": [
    {
     "name": "stdout",
     "output_type": "stream",
     "text": [
      "Epoch 1/10\n",
      "1407/1407 [==============================] - 23s 13ms/step - loss: 2.3040 - accuracy: 0.1001 - val_loss: 2.3029 - val_accuracy: 0.0976\n",
      "Epoch 2/10\n",
      "1407/1407 [==============================] - 19s 13ms/step - loss: 2.3029 - accuracy: 0.1039 - val_loss: 2.3037 - val_accuracy: 0.0976\n",
      "Epoch 3/10\n",
      "1407/1407 [==============================] - 18s 13ms/step - loss: 2.3035 - accuracy: 0.1000 - val_loss: 2.3033 - val_accuracy: 0.1010\n",
      "Epoch 4/10\n",
      "1407/1407 [==============================] - 18s 13ms/step - loss: 2.3036 - accuracy: 0.0953 - val_loss: 2.3029 - val_accuracy: 0.0996\n",
      "Epoch 5/10\n",
      "1407/1407 [==============================] - 19s 13ms/step - loss: 2.3034 - accuracy: 0.0998 - val_loss: 2.3033 - val_accuracy: 0.1010\n",
      "Epoch 6/10\n",
      "1407/1407 [==============================] - 18s 13ms/step - loss: 2.3035 - accuracy: 0.0987 - val_loss: 2.3027 - val_accuracy: 0.0920\n",
      "Epoch 7/10\n",
      "1407/1407 [==============================] - 19s 13ms/step - loss: 2.3033 - accuracy: 0.0976 - val_loss: 2.3044 - val_accuracy: 0.0976\n",
      "Epoch 8/10\n",
      "1407/1407 [==============================] - 19s 14ms/step - loss: 2.3033 - accuracy: 0.0969 - val_loss: 2.3033 - val_accuracy: 0.1038\n",
      "Epoch 9/10\n",
      "1407/1407 [==============================] - 19s 14ms/step - loss: 2.3032 - accuracy: 0.0981 - val_loss: 2.3032 - val_accuracy: 0.1040\n",
      "Epoch 10/10\n",
      "1407/1407 [==============================] - 20s 14ms/step - loss: 2.3033 - accuracy: 0.0990 - val_loss: 2.3028 - val_accuracy: 0.0996\n"
     ]
    }
   ],
   "source": [
    "optimizer = keras.optimizers.Nadam(lr =5e-5 )\n",
    "model.compile(loss = \"sparse_categorical_crossentropy\",metrics = [\"accuracy\"],optimizer = optimizer)\n",
    "history = model.fit(x_train, y_train, epochs=10,\n",
    "                    validation_data=(x_val, y_val),\n",
    "                    )"
   ]
  },
  {
   "cell_type": "code",
   "execution_count": null,
   "id": "bronze-blair",
   "metadata": {},
   "outputs": [],
   "source": []
  },
  {
   "cell_type": "code",
   "execution_count": 88,
   "id": "reasonable-blank",
   "metadata": {},
   "outputs": [],
   "source": [
    "def build_model(n_hidden= 20,input_shape = [32,32,3],n_neurons = 100,learning_rate = 1e-3 ):\n",
    "     model = keras.models.Sequential()\n",
    "     model.add(keras.layers.Flatten(input_shape = input_shape))\n",
    "     #model.add(keras.layers.BatchNormalization())\n",
    "     for _ in range(n_hidden):\n",
    "        model.add(keras.layers.Dense(100,activation= \"elu\",kernel_initializer = \"he_normal\"))\n",
    "        #model.add(keras.layers.BatchNormalization())\n",
    "     #b\n",
    "     model.add(keras.layers.Dense(10,activation = \"softmax\"))\n",
    "     optimizer = keras.optimizers.Nadam(lr =learning_rate )\n",
    "     model.compile(loss = \"sparse_categorical_crossentropy\",metrics = [\"accuracy\"],optimizer = optimizer)\n",
    "     return model "
   ]
  },
  {
   "cell_type": "code",
   "execution_count": 89,
   "id": "danish-present",
   "metadata": {},
   "outputs": [],
   "source": [
    "keras_clf = keras.wrappers.scikit_learn.KerasClassifier(build_model)"
   ]
  },
  {
   "cell_type": "code",
   "execution_count": null,
   "id": "dominant-punch",
   "metadata": {},
   "outputs": [],
   "source": []
  },
  {
   "cell_type": "code",
   "execution_count": 90,
   "id": "coastal-latter",
   "metadata": {},
   "outputs": [
    {
     "name": "stdout",
     "output_type": "stream",
     "text": [
      "Epoch 1/10\n",
      "1407/1407 [==============================] - 23s 14ms/step - loss: 15.5226 - accuracy: 0.1355 - val_loss: 2.1522 - val_accuracy: 0.2124\n",
      "Epoch 2/10\n",
      "1407/1407 [==============================] - 20s 14ms/step - loss: 2.0919 - accuracy: 0.2346 - val_loss: 2.0710 - val_accuracy: 0.2384\n",
      "Epoch 3/10\n",
      "1407/1407 [==============================] - 19s 13ms/step - loss: 1.9571 - accuracy: 0.2807 - val_loss: 1.9630 - val_accuracy: 0.2730\n",
      "Epoch 4/10\n",
      "1407/1407 [==============================] - 18s 13ms/step - loss: 1.8884 - accuracy: 0.3120 - val_loss: 1.8981 - val_accuracy: 0.3152\n",
      "Epoch 5/10\n",
      "1407/1407 [==============================] - 20s 14ms/step - loss: 1.8167 - accuracy: 0.3376 - val_loss: 1.7997 - val_accuracy: 0.3450\n",
      "Epoch 6/10\n",
      "1407/1407 [==============================] - 19s 14ms/step - loss: 1.7549 - accuracy: 0.3659 - val_loss: 1.7675 - val_accuracy: 0.3668\n",
      "Epoch 7/10\n",
      "1407/1407 [==============================] - 20s 14ms/step - loss: 1.7174 - accuracy: 0.3786 - val_loss: 1.7056 - val_accuracy: 0.3728\n",
      "Epoch 8/10\n",
      "1407/1407 [==============================] - 20s 14ms/step - loss: 1.6759 - accuracy: 0.3932 - val_loss: 1.6476 - val_accuracy: 0.4080\n",
      "Epoch 9/10\n",
      "1407/1407 [==============================] - 19s 14ms/step - loss: 1.6507 - accuracy: 0.4053 - val_loss: 1.6653 - val_accuracy: 0.3976\n",
      "Epoch 10/10\n",
      "1407/1407 [==============================] - 20s 14ms/step - loss: 1.6135 - accuracy: 0.4190 - val_loss: 1.6594 - val_accuracy: 0.4014\n"
     ]
    }
   ],
   "source": [
    "history = keras_clf.fit(x_train,y_train,epochs = 10,validation_data = (x_val,y_val))"
   ]
  },
  {
   "cell_type": "code",
   "execution_count": 91,
   "id": "sufficient-socket",
   "metadata": {},
   "outputs": [
    {
     "data": {
      "image/png": "[encoded data removed]",
      "text/plain": [
       "<Figure size 432x288 with 2 Axes>"
      ]
     },
     "metadata": {
      "needs_background": "light"
     },
     "output_type": "display_data"
    }
   ],
   "source": [
    "plt.plot(history.epoch, history.history[\"accuracy\"], \"bo-\")\n",
    "plt.xlabel(\"Epoch\")\n",
    "plt.ylabel(\"accuracy\", color='b')\n",
    "plt.tick_params('y', colors='b')\n",
    "plt.gca().set_xlim(0, 10)\n",
    "plt.grid(True)\n",
    "\n",
    "ax2 = plt.gca().twinx()\n",
    "ax2.plot(history.epoch, history.history[\"val_loss\"], \"r^-\")\n",
    "ax2.set_ylabel('Validation Loss', color='r')\n",
    "ax2.tick_params('y', colors='r')\n",
    "\n",
    "plt.title(\"Reduce LR on Plateau\", fontsize=14)\n",
    "plt.show()"
   ]
  },
  {
   "cell_type": "code",
   "execution_count": null,
   "id": "turkish-appearance",
   "metadata": {},
   "outputs": [],
   "source": []
  },
  {
   "cell_type": "code",
   "execution_count": 95,
   "id": "sustained-halifax",
   "metadata": {},
   "outputs": [
    {
     "name": "stderr",
     "output_type": "stream",
     "text": [
      "c:\\users\\1042g\\appdata\\local\\programs\\python\\python38\\lib\\site-packages\\sklearn\\model_selection\\_search.py:278: UserWarning: The total space of parameters 9 is smaller than n_iter=10. Running 9 iterations. For exhaustive searches, use GridSearchCV.\n",
      "  warnings.warn(\n"
     ]
    },
    {
     "name": "stdout",
     "output_type": "stream",
     "text": [
      "Epoch 1/5\n",
      "704/704 [==============================] - 14s 14ms/step - loss: 21.6708 - accuracy: 0.1188 - val_loss: 2.3799 - val_accuracy: 0.1848\n",
      "Epoch 2/5\n",
      "704/704 [==============================] - 10s 14ms/step - loss: 2.2744 - accuracy: 0.1879 - val_loss: 2.1544 - val_accuracy: 0.2116\n",
      "Epoch 3/5\n",
      "704/704 [==============================] - 10s 14ms/step - loss: 2.1122 - accuracy: 0.2310 - val_loss: 2.1340 - val_accuracy: 0.2284\n",
      "Epoch 4/5\n",
      "704/704 [==============================] - 10s 14ms/step - loss: 2.0349 - accuracy: 0.2482 - val_loss: 2.3615 - val_accuracy: 0.2000\n",
      "Epoch 5/5\n",
      "704/704 [==============================] - 9s 13ms/step - loss: 1.9834 - accuracy: 0.2679 - val_loss: 2.0585 - val_accuracy: 0.2474\n",
      "704/704 [==============================] - 3s 4ms/step - loss: 2.0778 - accuracy: 0.2378\n",
      "Epoch 1/5\n",
      "704/704 [==============================] - 13s 14ms/step - loss: 13.5389 - accuracy: 0.1138 - val_loss: 4.2184 - val_accuracy: 0.1094\n",
      "Epoch 2/5\n",
      "704/704 [==============================] - 10s 14ms/step - loss: 2.3360 - accuracy: 0.1810 - val_loss: 2.2975 - val_accuracy: 0.2048\n",
      "Epoch 3/5\n",
      "704/704 [==============================] - 10s 14ms/step - loss: 2.1190 - accuracy: 0.2297 - val_loss: 2.4605 - val_accuracy: 0.1788\n",
      "Epoch 4/5\n",
      "704/704 [==============================] - 10s 14ms/step - loss: 2.0433 - accuracy: 0.2525 - val_loss: 2.0113 - val_accuracy: 0.2664\n",
      "Epoch 5/5\n",
      "704/704 [==============================] - 10s 14ms/step - loss: 1.9753 - accuracy: 0.2793 - val_loss: 2.7123 - val_accuracy: 0.1596\n",
      "704/704 [==============================] - 3s 4ms/step - loss: 2.7030 - accuracy: 0.1689\n",
      "Epoch 1/5\n",
      "704/704 [==============================] - 13s 14ms/step - loss: 18.3574 - accuracy: 0.1159 - val_loss: 2.3187 - val_accuracy: 0.1792\n",
      "Epoch 2/5\n",
      "704/704 [==============================] - 10s 14ms/step - loss: 2.2614 - accuracy: 0.1882 - val_loss: 2.1895 - val_accuracy: 0.2084\n",
      "Epoch 3/5\n",
      "704/704 [==============================] - 10s 14ms/step - loss: 2.1098 - accuracy: 0.2357 - val_loss: 2.1822 - val_accuracy: 0.2084\n",
      "Epoch 4/5\n",
      "704/704 [==============================] - 10s 14ms/step - loss: 2.0484 - accuracy: 0.2478 - val_loss: 2.1034 - val_accuracy: 0.2410\n",
      "Epoch 5/5\n",
      "704/704 [==============================] - 10s 15ms/step - loss: 1.9890 - accuracy: 0.2674 - val_loss: 2.0737 - val_accuracy: 0.2602\n",
      "704/704 [==============================] - 3s 3ms/step - loss: 2.0926 - accuracy: 0.2480\n",
      "Epoch 1/5\n",
      "704/704 [==============================] - 16s 18ms/step - loss: 14.4089 - accuracy: 0.1241 - val_loss: 3.8187 - val_accuracy: 0.1182\n",
      "Epoch 2/5\n",
      "704/704 [==============================] - 10s 15ms/step - loss: 2.3694 - accuracy: 0.1924 - val_loss: 2.7997 - val_accuracy: 0.1686\n",
      "Epoch 3/5\n",
      "704/704 [==============================] - 10s 15ms/step - loss: 2.1465 - accuracy: 0.2292 - val_loss: 2.9748 - val_accuracy: 0.1384\n",
      "Epoch 4/5\n",
      "704/704 [==============================] - 10s 14ms/step - loss: 2.0409 - accuracy: 0.2597 - val_loss: 2.0168 - val_accuracy: 0.2624\n",
      "Epoch 5/5\n",
      "704/704 [==============================] - 10s 14ms/step - loss: 1.9513 - accuracy: 0.2900 - val_loss: 2.6642 - val_accuracy: 0.1524\n",
      "704/704 [==============================] - 2s 3ms/step - loss: 2.6632 - accuracy: 0.1606\n",
      "Epoch 1/5\n",
      "704/704 [==============================] - 12s 13ms/step - loss: 34.7681 - accuracy: 0.1124 - val_loss: 2.4746 - val_accuracy: 0.1774\n",
      "Epoch 2/5\n",
      "704/704 [==============================] - 9s 13ms/step - loss: 2.2903 - accuracy: 0.1927 - val_loss: 2.3301 - val_accuracy: 0.1804\n",
      "Epoch 3/5\n",
      "704/704 [==============================] - 9s 13ms/step - loss: 2.1105 - accuracy: 0.2378 - val_loss: 2.4250 - val_accuracy: 0.1718\n",
      "Epoch 4/5\n",
      "704/704 [==============================] - 9s 13ms/step - loss: 2.0412 - accuracy: 0.2568 - val_loss: 2.2222 - val_accuracy: 0.2210\n",
      "Epoch 5/5\n",
      "704/704 [==============================] - 10s 14ms/step - loss: 1.9845 - accuracy: 0.2723 - val_loss: 2.0184 - val_accuracy: 0.2516\n",
      "704/704 [==============================] - 3s 4ms/step - loss: 2.0453 - accuracy: 0.2452\n",
      "Epoch 1/5\n",
      "704/704 [==============================] - 13s 14ms/step - loss: 45.8066 - accuracy: 0.1155 - val_loss: 3.0311 - val_accuracy: 0.1192\n",
      "Epoch 2/5\n",
      "704/704 [==============================] - 10s 14ms/step - loss: 2.3570 - accuracy: 0.1793 - val_loss: 2.4695 - val_accuracy: 0.1768\n",
      "Epoch 3/5\n",
      "704/704 [==============================] - 11s 15ms/step - loss: 2.1153 - accuracy: 0.2377 - val_loss: 2.5056 - val_accuracy: 0.1784\n",
      "Epoch 4/5\n",
      "704/704 [==============================] - 10s 14ms/step - loss: 2.0283 - accuracy: 0.2601 - val_loss: 2.1234 - val_accuracy: 0.2376\n",
      "Epoch 5/5\n",
      "704/704 [==============================] - 10s 14ms/step - loss: 1.9706 - accuracy: 0.2766 - val_loss: 2.2998 - val_accuracy: 0.2074\n",
      "704/704 [==============================] - 3s 3ms/step - loss: 2.3056 - accuracy: 0.2070\n",
      "Epoch 1/5\n",
      "704/704 [==============================] - 13s 15ms/step - loss: 32.7492 - accuracy: 0.1081 - val_loss: 2.5706 - val_accuracy: 0.1642\n",
      "Epoch 2/5\n",
      "704/704 [==============================] - 10s 14ms/step - loss: 2.4057 - accuracy: 0.1800 - val_loss: 2.2428 - val_accuracy: 0.2118\n",
      "Epoch 3/5\n",
      "704/704 [==============================] - 10s 14ms/step - loss: 2.1625 - accuracy: 0.2255 - val_loss: 2.8458 - val_accuracy: 0.1390\n",
      "Epoch 4/5\n",
      "704/704 [==============================] - 10s 14ms/step - loss: 2.0798 - accuracy: 0.2416 - val_loss: 2.5787 - val_accuracy: 0.1924\n",
      "Epoch 5/5\n",
      "704/704 [==============================] - 10s 14ms/step - loss: 2.0111 - accuracy: 0.2672 - val_loss: 2.1191 - val_accuracy: 0.2344\n",
      "704/704 [==============================] - 3s 4ms/step - loss: 2.1385 - accuracy: 0.2397\n",
      "Epoch 1/5\n",
      "704/704 [==============================] - 15s 14ms/step - loss: 12.6054 - accuracy: 0.1165 - val_loss: 2.8939 - val_accuracy: 0.1222\n",
      "Epoch 2/5\n",
      "704/704 [==============================] - 11s 15ms/step - loss: 2.2717 - accuracy: 0.1894 - val_loss: 2.5632 - val_accuracy: 0.1592\n",
      "Epoch 3/5\n",
      "704/704 [==============================] - 10s 15ms/step - loss: 2.1014 - accuracy: 0.2273 - val_loss: 2.3232 - val_accuracy: 0.1708\n",
      "Epoch 4/5\n",
      "704/704 [==============================] - 10s 14ms/step - loss: 2.0162 - accuracy: 0.2559 - val_loss: 2.0653 - val_accuracy: 0.2402\n",
      "Epoch 5/5\n",
      "704/704 [==============================] - 10s 14ms/step - loss: 1.9469 - accuracy: 0.2862 - val_loss: 2.1387 - val_accuracy: 0.2328\n",
      "704/704 [==============================] - 3s 4ms/step - loss: 2.1383 - accuracy: 0.2335\n",
      "Epoch 1/5\n",
      "704/704 [==============================] - 13s 14ms/step - loss: 23.7501 - accuracy: 0.1160 - val_loss: 2.6135 - val_accuracy: 0.1556\n",
      "Epoch 2/5\n",
      "704/704 [==============================] - 10s 14ms/step - loss: 2.3490 - accuracy: 0.1846 - val_loss: 2.1462 - val_accuracy: 0.2180\n",
      "Epoch 3/5\n",
      "704/704 [==============================] - 10s 14ms/step - loss: 2.0986 - accuracy: 0.2403 - val_loss: 2.0960 - val_accuracy: 0.2258\n",
      "Epoch 4/5\n",
      "704/704 [==============================] - 10s 14ms/step - loss: 2.0115 - accuracy: 0.2688 - val_loss: 2.6274 - val_accuracy: 0.1806\n",
      "Epoch 5/5\n",
      "704/704 [==============================] - 10s 14ms/step - loss: 1.9634 - accuracy: 0.2826 - val_loss: 2.0526 - val_accuracy: 0.2606\n",
      "704/704 [==============================] - 3s 4ms/step - loss: 2.0540 - accuracy: 0.2474\n",
      "Epoch 1/5\n",
      "704/704 [==============================] - 13s 14ms/step - loss: 13.5064 - accuracy: 0.1207 - val_loss: 2.4653 - val_accuracy: 0.1404\n",
      "Epoch 2/5\n",
      "704/704 [==============================] - 10s 14ms/step - loss: 2.2090 - accuracy: 0.2043 - val_loss: 2.2187 - val_accuracy: 0.2196\n",
      "Epoch 3/5\n",
      "704/704 [==============================] - 10s 14ms/step - loss: 2.0889 - accuracy: 0.2372 - val_loss: 2.2582 - val_accuracy: 0.1904\n",
      "Epoch 4/5\n",
      "704/704 [==============================] - 10s 14ms/step - loss: 2.0034 - accuracy: 0.2731 - val_loss: 2.0177 - val_accuracy: 0.2662\n",
      "Epoch 5/5\n",
      "704/704 [==============================] - 10s 14ms/step - loss: 1.9359 - accuracy: 0.2899 - val_loss: 2.0872 - val_accuracy: 0.2404\n",
      "704/704 [==============================] - 3s 3ms/step - loss: 2.0887 - accuracy: 0.2419\n",
      "Epoch 1/5\n",
      "704/704 [==============================] - 14s 15ms/step - loss: 51.8519 - accuracy: 0.1104 - val_loss: 2.4936 - val_accuracy: 0.1496\n",
      "Epoch 2/5\n"
     ]
    },
    {
     "name": "stdout",
     "output_type": "stream",
     "text": [
      "704/704 [==============================] - 12s 17ms/step - loss: 2.3925 - accuracy: 0.1628 - val_loss: 2.1994 - val_accuracy: 0.2026\n",
      "Epoch 3/5\n",
      "704/704 [==============================] - 11s 15ms/step - loss: 2.1560 - accuracy: 0.2191 - val_loss: 2.1135 - val_accuracy: 0.2270\n",
      "Epoch 4/5\n",
      "704/704 [==============================] - 11s 15ms/step - loss: 2.0636 - accuracy: 0.2466 - val_loss: 2.0643 - val_accuracy: 0.2478\n",
      "Epoch 5/5\n",
      "704/704 [==============================] - 10s 15ms/step - loss: 2.0026 - accuracy: 0.2608 - val_loss: 2.0253 - val_accuracy: 0.2688\n",
      "704/704 [==============================] - 3s 4ms/step - loss: 2.0426 - accuracy: 0.2488\n",
      "Epoch 1/5\n",
      "704/704 [==============================] - 13s 14ms/step - loss: 15.5985 - accuracy: 0.1176 - val_loss: 2.4073 - val_accuracy: 0.1578\n",
      "Epoch 2/5\n",
      "704/704 [==============================] - 10s 14ms/step - loss: 2.2876 - accuracy: 0.1892 - val_loss: 2.1881 - val_accuracy: 0.2186\n",
      "Epoch 3/5\n",
      "704/704 [==============================] - 10s 14ms/step - loss: 2.0904 - accuracy: 0.2332 - val_loss: 2.0556 - val_accuracy: 0.2506\n",
      "Epoch 4/5\n",
      "704/704 [==============================] - 10s 14ms/step - loss: 2.0193 - accuracy: 0.2615 - val_loss: 2.0089 - val_accuracy: 0.2690\n",
      "Epoch 5/5\n",
      "704/704 [==============================] - 10s 14ms/step - loss: 1.9561 - accuracy: 0.2773 - val_loss: 1.9664 - val_accuracy: 0.2814\n",
      "704/704 [==============================] - 3s 4ms/step - loss: 1.9894 - accuracy: 0.2748\n",
      "Epoch 1/5\n",
      "704/704 [==============================] - 13s 15ms/step - loss: 24.5951 - accuracy: 0.1227 - val_loss: 2.4816 - val_accuracy: 0.1656\n",
      "Epoch 2/5\n",
      "704/704 [==============================] - 10s 14ms/step - loss: 2.3518 - accuracy: 0.1813 - val_loss: 2.2084 - val_accuracy: 0.1934\n",
      "Epoch 3/5\n",
      "704/704 [==============================] - 10s 14ms/step - loss: 2.1343 - accuracy: 0.2259 - val_loss: 2.2175 - val_accuracy: 0.1866\n",
      "Epoch 4/5\n",
      "704/704 [==============================] - 10s 14ms/step - loss: 2.0592 - accuracy: 0.2435 - val_loss: 2.0540 - val_accuracy: 0.2382\n",
      "Epoch 5/5\n",
      "704/704 [==============================] - 10s 14ms/step - loss: 1.9961 - accuracy: 0.2638 - val_loss: 1.9882 - val_accuracy: 0.2582\n",
      "704/704 [==============================] - 3s 4ms/step - loss: 2.0225 - accuracy: 0.2531\n",
      "Epoch 1/5\n",
      "704/704 [==============================] - 14s 15ms/step - loss: 16.9362 - accuracy: 0.1148 - val_loss: 2.6536 - val_accuracy: 0.1288\n",
      "Epoch 2/5\n",
      "704/704 [==============================] - 11s 15ms/step - loss: 2.2993 - accuracy: 0.1878 - val_loss: 2.4336 - val_accuracy: 0.1846\n",
      "Epoch 3/5\n",
      "704/704 [==============================] - 11s 15ms/step - loss: 2.1179 - accuracy: 0.2260 - val_loss: 2.2482 - val_accuracy: 0.1968\n",
      "Epoch 4/5\n",
      "704/704 [==============================] - 11s 15ms/step - loss: 2.0470 - accuracy: 0.2479 - val_loss: 2.0920 - val_accuracy: 0.2602\n",
      "Epoch 5/5\n",
      "704/704 [==============================] - 10s 15ms/step - loss: 1.9800 - accuracy: 0.2750 - val_loss: 1.9958 - val_accuracy: 0.2592\n",
      "704/704 [==============================] - 3s 4ms/step - loss: 2.0025 - accuracy: 0.2742\n",
      "Epoch 1/5\n",
      "704/704 [==============================] - 15s 14ms/step - loss: 17.2042 - accuracy: 0.1155 - val_loss: 2.3946 - val_accuracy: 0.1830\n",
      "Epoch 2/5\n",
      "704/704 [==============================] - 10s 14ms/step - loss: 2.3185 - accuracy: 0.1891 - val_loss: 2.1745 - val_accuracy: 0.2204\n",
      "Epoch 3/5\n",
      "704/704 [==============================] - 10s 14ms/step - loss: 2.1012 - accuracy: 0.2333 - val_loss: 2.0937 - val_accuracy: 0.2332\n",
      "Epoch 4/5\n",
      "704/704 [==============================] - 11s 15ms/step - loss: 2.0262 - accuracy: 0.2553 - val_loss: 2.0698 - val_accuracy: 0.2334\n",
      "Epoch 5/5\n",
      "704/704 [==============================] - 11s 16ms/step - loss: 1.9719 - accuracy: 0.2707 - val_loss: 1.9437 - val_accuracy: 0.2910\n",
      "704/704 [==============================] - 3s 4ms/step - loss: 1.9540 - accuracy: 0.2795\n",
      "Epoch 1/5\n",
      "704/704 [==============================] - 15s 16ms/step - loss: 15.9972 - accuracy: 0.1197 - val_loss: 3.1479 - val_accuracy: 0.1184\n",
      "Epoch 2/5\n",
      "704/704 [==============================] - 11s 15ms/step - loss: 2.2899 - accuracy: 0.1956 - val_loss: 2.6598 - val_accuracy: 0.1836\n",
      "Epoch 3/5\n",
      "704/704 [==============================] - 11s 15ms/step - loss: 2.1112 - accuracy: 0.2326 - val_loss: 2.4254 - val_accuracy: 0.1698\n",
      "Epoch 4/5\n",
      "704/704 [==============================] - 11s 16ms/step - loss: 2.0243 - accuracy: 0.2622 - val_loss: 2.0143 - val_accuracy: 0.2690\n",
      "Epoch 5/5\n",
      "704/704 [==============================] - 12s 17ms/step - loss: 1.9585 - accuracy: 0.2894 - val_loss: 1.9950 - val_accuracy: 0.2698\n",
      "704/704 [==============================] - 3s 5ms/step - loss: 2.0052 - accuracy: 0.2622\n",
      "Epoch 1/5\n",
      "704/704 [==============================] - 16s 18ms/step - loss: 12.2027 - accuracy: 0.1134 - val_loss: 2.4595 - val_accuracy: 0.1616\n",
      "Epoch 2/5\n",
      "704/704 [==============================] - 12s 17ms/step - loss: 2.3175 - accuracy: 0.1852 - val_loss: 2.1453 - val_accuracy: 0.2140\n",
      "Epoch 3/5\n",
      "704/704 [==============================] - 12s 17ms/step - loss: 2.0934 - accuracy: 0.2374 - val_loss: 2.1516 - val_accuracy: 0.2184\n",
      "Epoch 4/5\n",
      "704/704 [==============================] - 12s 17ms/step - loss: 2.0169 - accuracy: 0.2605 - val_loss: 2.0983 - val_accuracy: 0.2300\n",
      "Epoch 5/5\n",
      "704/704 [==============================] - 12s 17ms/step - loss: 1.9455 - accuracy: 0.2924 - val_loss: 1.9696 - val_accuracy: 0.2822\n",
      "704/704 [==============================] - 3s 5ms/step - loss: 1.9801 - accuracy: 0.2742\n",
      "Epoch 1/5\n",
      "704/704 [==============================] - 16s 19ms/step - loss: 26.9515 - accuracy: 0.1125 - val_loss: 2.7975 - val_accuracy: 0.1346\n",
      "Epoch 2/5\n",
      "704/704 [==============================] - 13s 18ms/step - loss: 2.5707 - accuracy: 0.1517 - val_loss: 2.2610 - val_accuracy: 0.2010\n",
      "Epoch 3/5\n",
      "704/704 [==============================] - 12s 18ms/step - loss: 2.2139 - accuracy: 0.2067 - val_loss: 2.2551 - val_accuracy: 0.1876\n",
      "Epoch 4/5\n",
      "704/704 [==============================] - 12s 17ms/step - loss: 2.1200 - accuracy: 0.2298 - val_loss: 2.0699 - val_accuracy: 0.2490\n",
      "Epoch 5/5\n",
      "704/704 [==============================] - 12s 17ms/step - loss: 2.0366 - accuracy: 0.2539 - val_loss: 2.1304 - val_accuracy: 0.2212\n",
      "704/704 [==============================] - 3s 5ms/step - loss: 2.1255 - accuracy: 0.2200\n",
      "Epoch 1/5\n",
      "1407/1407 [==============================] - 27s 17ms/step - loss: 16.3357 - accuracy: 0.1337 - val_loss: 2.1782 - val_accuracy: 0.2168\n",
      "Epoch 2/5\n",
      "1407/1407 [==============================] - 24s 17ms/step - loss: 2.1187 - accuracy: 0.2274 - val_loss: 2.0686 - val_accuracy: 0.2340\n",
      "Epoch 3/5\n",
      "1407/1407 [==============================] - 24s 17ms/step - loss: 1.9757 - accuracy: 0.2811 - val_loss: 1.9808 - val_accuracy: 0.2764\n",
      "Epoch 4/5\n",
      "1407/1407 [==============================] - 24s 17ms/step - loss: 1.8946 - accuracy: 0.3092 - val_loss: 1.9163 - val_accuracy: 0.3156\n",
      "Epoch 5/5\n",
      "1407/1407 [==============================] - 25s 17ms/step - loss: 1.8210 - accuracy: 0.3346 - val_loss: 1.8119 - val_accuracy: 0.3350\n"
     ]
    },
    {
     "data": {
      "text/plain": [
       "RandomizedSearchCV(cv=2,\n",
       "                   estimator=<tensorflow.python.keras.wrappers.scikit_learn.KerasClassifier object at 0x0000021632E2BA30>,\n",
       "                   param_distributions={'learning_rate': (0.001, 5e-05, 0.0001,\n",
       "                                                          1e-05, 0.02, 0.03,\n",
       "                                                          0.003, 0.0002,\n",
       "                                                          2e-05)})"
      ]
     },
     "execution_count": 95,
     "metadata": {},
     "output_type": "execute_result"
    }
   ],
   "source": [
    "earlystopping = keras.callbacks.EarlyStopping(patience = 20,restore_best_weights = True)\n",
    "params = {\"learning_rate\":(1e-3,5e-5,1e-4,1e-5,2e-2,3e-2,3e-3,2e-4,2e-5)}\n",
    "from sklearn.model_selection import RandomizedSearchCV\n",
    "rs = RandomizedSearchCV(keras_clf,params,n_iter=10,cv =2)\n",
    "rs.fit(x_train,y_train,epochs = 5,validation_data = (x_val,y_val),callbacks = [earlystopping])"
   ]
  },
  {
   "cell_type": "code",
   "execution_count": 96,
   "id": "outer-nowhere",
   "metadata": {},
   "outputs": [
    {
     "data": {
      "text/plain": [
       "{'learning_rate': 0.0002}"
      ]
     },
     "execution_count": 96,
     "metadata": {},
     "output_type": "execute_result"
    }
   ],
   "source": [
    "rs.best_params_"
   ]
  },
  {
   "cell_type": "code",
   "execution_count": 97,
   "id": "competitive-hamilton",
   "metadata": {},
   "outputs": [],
   "source": [
    "model= rs.best_estimator_.model"
   ]
  },
  {
   "cell_type": "code",
   "execution_count": 98,
   "id": "massive-fighter",
   "metadata": {},
   "outputs": [
    {
     "data": {
      "text/plain": [
       "0.27086667716503143"
      ]
     },
     "execution_count": 98,
     "metadata": {},
     "output_type": "execute_result"
    }
   ],
   "source": [
    "rs.best_score_"
   ]
  },
  {
   "cell_type": "code",
   "execution_count": 99,
   "id": "coastal-breath",
   "metadata": {},
   "outputs": [
    {
     "data": {
      "text/plain": [
       "{'learning_rate': (0.001,\n",
       "  5e-05,\n",
       "  0.0001,\n",
       "  1e-05,\n",
       "  0.02,\n",
       "  0.03,\n",
       "  0.003,\n",
       "  0.0002,\n",
       "  2e-05)}"
      ]
     },
     "execution_count": 99,
     "metadata": {},
     "output_type": "execute_result"
    }
   ],
   "source": [
    "rs.param_distributions"
   ]
  },
  {
   "cell_type": "code",
   "execution_count": 100,
   "id": "amateur-carter",
   "metadata": {},
   "outputs": [
    {
     "name": "stdout",
     "output_type": "stream",
     "text": [
      "Epoch 1/50\n",
      "1407/1407 [==============================] - 24s 16ms/step - loss: 1.7592 - accuracy: 0.3598 - val_loss: 1.7301 - val_accuracy: 0.3682\n",
      "Epoch 2/50\n",
      "1407/1407 [==============================] - 23s 16ms/step - loss: 1.7184 - accuracy: 0.3765 - val_loss: 1.7402 - val_accuracy: 0.3618\n",
      "Epoch 3/50\n",
      "1407/1407 [==============================] - 23s 16ms/step - loss: 1.6828 - accuracy: 0.3889 - val_loss: 1.6716 - val_accuracy: 0.3980\n",
      "Epoch 4/50\n",
      "1407/1407 [==============================] - 23s 17ms/step - loss: 1.6523 - accuracy: 0.4024 - val_loss: 1.7375 - val_accuracy: 0.3732\n",
      "Epoch 5/50\n",
      "1407/1407 [==============================] - 24s 17ms/step - loss: 1.6234 - accuracy: 0.4119 - val_loss: 1.6590 - val_accuracy: 0.3960\n",
      "Epoch 6/50\n",
      "1407/1407 [==============================] - 23s 16ms/step - loss: 1.5960 - accuracy: 0.4226 - val_loss: 1.6163 - val_accuracy: 0.4106\n",
      "Epoch 7/50\n",
      "1407/1407 [==============================] - 23s 16ms/step - loss: 1.5736 - accuracy: 0.4308 - val_loss: 1.6156 - val_accuracy: 0.4144\n",
      "Epoch 8/50\n",
      "1407/1407 [==============================] - 23s 16ms/step - loss: 1.5542 - accuracy: 0.4394 - val_loss: 1.6038 - val_accuracy: 0.4242\n",
      "Epoch 9/50\n",
      "1407/1407 [==============================] - 23s 16ms/step - loss: 1.5392 - accuracy: 0.4446 - val_loss: 1.5828 - val_accuracy: 0.4278\n",
      "Epoch 10/50\n",
      "1407/1407 [==============================] - 22s 16ms/step - loss: 1.5195 - accuracy: 0.4506 - val_loss: 1.6049 - val_accuracy: 0.4130\n",
      "Epoch 11/50\n",
      "1407/1407 [==============================] - 22s 16ms/step - loss: 1.5060 - accuracy: 0.4569 - val_loss: 1.5770 - val_accuracy: 0.4240\n",
      "Epoch 12/50\n",
      "1407/1407 [==============================] - 24s 17ms/step - loss: 1.4935 - accuracy: 0.4592 - val_loss: 1.5617 - val_accuracy: 0.4382\n",
      "Epoch 13/50\n",
      "1407/1407 [==============================] - 24s 17ms/step - loss: 1.4777 - accuracy: 0.4644 - val_loss: 1.5715 - val_accuracy: 0.4322\n",
      "Epoch 14/50\n",
      "1407/1407 [==============================] - 25s 18ms/step - loss: 1.4655 - accuracy: 0.4710 - val_loss: 1.5538 - val_accuracy: 0.4348\n",
      "Epoch 15/50\n",
      "1407/1407 [==============================] - 28s 20ms/step - loss: 1.4474 - accuracy: 0.4775 - val_loss: 1.5791 - val_accuracy: 0.4274\n",
      "Epoch 16/50\n",
      "1407/1407 [==============================] - 25s 18ms/step - loss: 1.4364 - accuracy: 0.4816 - val_loss: 1.5407 - val_accuracy: 0.4458\n",
      "Epoch 17/50\n",
      "1407/1407 [==============================] - 25s 18ms/step - loss: 1.4267 - accuracy: 0.4860 - val_loss: 1.5308 - val_accuracy: 0.4548\n",
      "Epoch 18/50\n",
      "1407/1407 [==============================] - 26s 19ms/step - loss: 1.4137 - accuracy: 0.4889 - val_loss: 1.5456 - val_accuracy: 0.4478\n",
      "Epoch 19/50\n",
      "1407/1407 [==============================] - 26s 18ms/step - loss: 1.4043 - accuracy: 0.4935 - val_loss: 1.5502 - val_accuracy: 0.4500\n",
      "Epoch 20/50\n",
      "1407/1407 [==============================] - 25s 18ms/step - loss: 1.3929 - accuracy: 0.4970 - val_loss: 1.5594 - val_accuracy: 0.4364\n",
      "Epoch 21/50\n",
      "1407/1407 [==============================] - 26s 18ms/step - loss: 1.3837 - accuracy: 0.4991 - val_loss: 1.5408 - val_accuracy: 0.4502\n",
      "Epoch 22/50\n",
      "1407/1407 [==============================] - 24s 17ms/step - loss: 1.3727 - accuracy: 0.5060 - val_loss: 1.5180 - val_accuracy: 0.4594\n",
      "Epoch 23/50\n",
      "1407/1407 [==============================] - 26s 18ms/step - loss: 1.3617 - accuracy: 0.5096 - val_loss: 1.5428 - val_accuracy: 0.4448\n",
      "Epoch 24/50\n",
      "1407/1407 [==============================] - 26s 18ms/step - loss: 1.3511 - accuracy: 0.5130 - val_loss: 1.5246 - val_accuracy: 0.4578\n",
      "Epoch 25/50\n",
      "1407/1407 [==============================] - 25s 18ms/step - loss: 1.3424 - accuracy: 0.5142 - val_loss: 1.5236 - val_accuracy: 0.4620\n",
      "Epoch 26/50\n",
      "1407/1407 [==============================] - 25s 18ms/step - loss: 1.3316 - accuracy: 0.5196 - val_loss: 1.5607 - val_accuracy: 0.4486\n",
      "Epoch 27/50\n",
      "1407/1407 [==============================] - 25s 18ms/step - loss: 1.3226 - accuracy: 0.5220 - val_loss: 1.5327 - val_accuracy: 0.4610\n",
      "Epoch 28/50\n",
      "1407/1407 [==============================] - 26s 19ms/step - loss: 1.3152 - accuracy: 0.5263 - val_loss: 1.5261 - val_accuracy: 0.4540\n",
      "Epoch 29/50\n",
      "1407/1407 [==============================] - 25s 17ms/step - loss: 1.3057 - accuracy: 0.5268 - val_loss: 1.5513 - val_accuracy: 0.4544\n",
      "Epoch 30/50\n",
      "1407/1407 [==============================] - 26s 18ms/step - loss: 1.2963 - accuracy: 0.5310 - val_loss: 1.5720 - val_accuracy: 0.4592\n",
      "Epoch 31/50\n",
      "1407/1407 [==============================] - 24s 17ms/step - loss: 1.2862 - accuracy: 0.5351 - val_loss: 1.5978 - val_accuracy: 0.4448\n",
      "Epoch 32/50\n",
      "1407/1407 [==============================] - 26s 19ms/step - loss: 1.2796 - accuracy: 0.5396 - val_loss: 1.5470 - val_accuracy: 0.4644\n",
      "Epoch 33/50\n",
      "1407/1407 [==============================] - 25s 18ms/step - loss: 1.2729 - accuracy: 0.5406 - val_loss: 1.5368 - val_accuracy: 0.4686\n",
      "Epoch 34/50\n",
      "1407/1407 [==============================] - 24s 17ms/step - loss: 1.2642 - accuracy: 0.5462 - val_loss: 1.5684 - val_accuracy: 0.4660\n",
      "Epoch 35/50\n",
      "1407/1407 [==============================] - 25s 18ms/step - loss: 1.2527 - accuracy: 0.5500 - val_loss: 1.5322 - val_accuracy: 0.4680\n",
      "Epoch 36/50\n",
      "1407/1407 [==============================] - 26s 18ms/step - loss: 1.2485 - accuracy: 0.5493 - val_loss: 1.5513 - val_accuracy: 0.4678\n",
      "Epoch 37/50\n",
      "1407/1407 [==============================] - 25s 18ms/step - loss: 1.2384 - accuracy: 0.5515 - val_loss: 1.5498 - val_accuracy: 0.4618\n",
      "Epoch 38/50\n",
      "1407/1407 [==============================] - 25s 18ms/step - loss: 1.2330 - accuracy: 0.5565 - val_loss: 1.5615 - val_accuracy: 0.4656\n",
      "Epoch 39/50\n",
      "1407/1407 [==============================] - 25s 18ms/step - loss: 1.2242 - accuracy: 0.5583 - val_loss: 1.6036 - val_accuracy: 0.4432\n",
      "Epoch 40/50\n",
      "1407/1407 [==============================] - 25s 18ms/step - loss: 1.2155 - accuracy: 0.5612 - val_loss: 1.5748 - val_accuracy: 0.4514\n",
      "Epoch 41/50\n",
      "1407/1407 [==============================] - 23s 16ms/step - loss: 1.2136 - accuracy: 0.5636 - val_loss: 1.5540 - val_accuracy: 0.4608\n",
      "Epoch 42/50\n",
      "1407/1407 [==============================] - 26s 19ms/step - loss: 1.2053 - accuracy: 0.5667 - val_loss: 1.5831 - val_accuracy: 0.4596\n"
     ]
    }
   ],
   "source": [
    "history = model.fit(x_train,y_train,epochs = 50,validation_data = (x_val,y_val),callbacks = [earlystopping])"
   ]
  },
  {
   "cell_type": "code",
   "execution_count": 101,
   "id": "international-register",
   "metadata": {},
   "outputs": [
    {
     "data": {
      "image/png": "[encoded data removed]",
      "text/plain": [
       "<Figure size 432x288 with 2 Axes>"
      ]
     },
     "metadata": {
      "needs_background": "light"
     },
     "output_type": "display_data"
    }
   ],
   "source": [
    "plt.plot(history.epoch, history.history[\"accuracy\"], \"bo-\")\n",
    "plt.xlabel(\"Epoch\")\n",
    "plt.ylabel(\"accuracy\", color='b')\n",
    "plt.tick_params('y', colors='b')\n",
    "plt.gca().set_xlim(0, 50)\n",
    "plt.grid(True)\n",
    "\n",
    "ax2 = plt.gca().twinx()\n",
    "ax2.plot(istory.epoch, istory.history[\"val_loss\"], \"r^-\")\n",
    "ax2.set_ylabel('Validation Loss', color='r')\n",
    "ax2.tick_params('y', colors='r')\n",
    "\n",
    "plt.title(\"Reduce LR on Plateau\", fontsize=14)\n",
    "plt.show()"
   ]
  },
  {
   "cell_type": "code",
   "execution_count": 102,
   "id": "provincial-tourist",
   "metadata": {},
   "outputs": [
    {
     "name": "stdout",
     "output_type": "stream",
     "text": [
      "157/157 [==============================] - 1s 4ms/step - loss: 1.5180 - accuracy: 0.4594\n"
     ]
    },
    {
     "data": {
      "text/plain": [
       "[1.5180095434188843, 0.4593999981880188]"
      ]
     },
     "execution_count": 102,
     "metadata": {},
     "output_type": "execute_result"
    }
   ],
   "source": [
    "\n",
    "model.evaluate(x_val, y_val)\n"
   ]
  },
  {
   "cell_type": "code",
   "execution_count": null,
   "id": "unknown-tragedy",
   "metadata": {},
   "outputs": [],
   "source": [
    "#we get lowest val_loss on 22 epoch and taking 18 seconds   for an epoch\n",
    "#c part"
   ]
  },
  {
   "cell_type": "code",
   "execution_count": 106,
   "id": "associate-warrior",
   "metadata": {},
   "outputs": [],
   "source": [
    "def build_model(n_hidden= 20,input_shape = [32,32,3],n_neurons = 100,learning_rate = 1e-3 ):\n",
    "     model = keras.models.Sequential()\n",
    "     model.add(keras.layers.Flatten(input_shape = input_shape))\n",
    "     model.add(keras.layers.BatchNormalization())\n",
    "     for _ in range(n_hidden):\n",
    "        model.add(keras.layers.Dense(100,kernel_initializer = \"he_normal\"))\n",
    "        model.add(keras.layers.BatchNormalization())\n",
    "        model.add(keras.layers.Activation(\"elu\"))\n",
    "     model.add(keras.layers.Dense(10,activation = \"softmax\"))\n",
    "     optimizer = keras.optimizers.Nadam(lr =learning_rate )\n",
    "     model.compile(loss = \"sparse_categorical_crossentropy\",metrics = [\"accuracy\"],optimizer = optimizer)\n",
    "     return model "
   ]
  },
  {
   "cell_type": "code",
   "execution_count": 107,
   "id": "corresponding-sight",
   "metadata": {},
   "outputs": [],
   "source": [
    "keras_clf1 = keras.wrappers.scikit_learn.KerasClassifier(build_model)"
   ]
  },
  {
   "cell_type": "code",
   "execution_count": 108,
   "id": "afraid-platform",
   "metadata": {},
   "outputs": [
    {
     "name": "stdout",
     "output_type": "stream",
     "text": [
      "Epoch 1/5\n",
      "938/938 [==============================] - 32s 22ms/step - loss: 2.4809 - accuracy: 0.1595 - val_loss: 2.0530 - val_accuracy: 0.2660\n",
      "Epoch 2/5\n",
      "938/938 [==============================] - 19s 21ms/step - loss: 2.0519 - accuracy: 0.2788 - val_loss: 1.8781 - val_accuracy: 0.3276\n",
      "Epoch 3/5\n",
      "938/938 [==============================] - 20s 21ms/step - loss: 1.9112 - accuracy: 0.3181 - val_loss: 1.7913 - val_accuracy: 0.3610\n",
      "Epoch 4/5\n",
      "938/938 [==============================] - 20s 21ms/step - loss: 1.8436 - accuracy: 0.3484 - val_loss: 1.7361 - val_accuracy: 0.3814\n",
      "Epoch 5/5\n",
      "938/938 [==============================] - 20s 21ms/step - loss: 1.7894 - accuracy: 0.3649 - val_loss: 1.6986 - val_accuracy: 0.3904\n",
      "469/469 [==============================] - 3s 5ms/step - loss: 1.7222 - accuracy: 0.3841\n",
      "Epoch 1/5\n",
      "938/938 [==============================] - 30s 23ms/step - loss: 2.4407 - accuracy: 0.1528 - val_loss: 2.0102 - val_accuracy: 0.2734\n",
      "Epoch 2/5\n",
      "938/938 [==============================] - 21s 23ms/step - loss: 2.0396 - accuracy: 0.2599 - val_loss: 1.8613 - val_accuracy: 0.3282\n",
      "Epoch 3/5\n",
      "938/938 [==============================] - 22s 24ms/step - loss: 1.9004 - accuracy: 0.3153 - val_loss: 1.7932 - val_accuracy: 0.3512\n",
      "Epoch 4/5\n",
      "938/938 [==============================] - 23s 24ms/step - loss: 1.8378 - accuracy: 0.3386 - val_loss: 1.7342 - val_accuracy: 0.3748\n",
      "Epoch 5/5\n",
      "938/938 [==============================] - 23s 24ms/step - loss: 1.7878 - accuracy: 0.3594 - val_loss: 1.6848 - val_accuracy: 0.3858\n",
      "469/469 [==============================] - 3s 5ms/step - loss: 1.6975 - accuracy: 0.3915\n",
      "Epoch 1/5\n",
      "938/938 [==============================] - 37s 26ms/step - loss: 2.4862 - accuracy: 0.1487 - val_loss: 2.0497 - val_accuracy: 0.2728\n",
      "Epoch 2/5\n",
      "938/938 [==============================] - 23s 25ms/step - loss: 2.0684 - accuracy: 0.2585 - val_loss: 1.8780 - val_accuracy: 0.3312\n",
      "Epoch 3/5\n",
      "938/938 [==============================] - 22s 24ms/step - loss: 1.9047 - accuracy: 0.3221 - val_loss: 1.7894 - val_accuracy: 0.3594\n",
      "Epoch 4/5\n",
      "938/938 [==============================] - 23s 24ms/step - loss: 1.8434 - accuracy: 0.3390 - val_loss: 1.7386 - val_accuracy: 0.3818\n",
      "Epoch 5/5\n",
      "938/938 [==============================] - 23s 25ms/step - loss: 1.7857 - accuracy: 0.3582 - val_loss: 1.6941 - val_accuracy: 0.3952\n",
      "469/469 [==============================] - 3s 5ms/step - loss: 1.7228 - accuracy: 0.3853\n",
      "Epoch 1/5\n",
      "938/938 [==============================] - 35s 26ms/step - loss: 2.5014 - accuracy: 0.1599 - val_loss: 2.0597 - val_accuracy: 0.2612\n",
      "Epoch 2/5\n",
      "938/938 [==============================] - 21s 22ms/step - loss: 2.0541 - accuracy: 0.2663 - val_loss: 1.9000 - val_accuracy: 0.3188\n",
      "Epoch 3/5\n",
      "938/938 [==============================] - 22s 24ms/step - loss: 1.9091 - accuracy: 0.3123 - val_loss: 1.8125 - val_accuracy: 0.3540\n",
      "Epoch 4/5\n",
      "938/938 [==============================] - 24s 25ms/step - loss: 1.8404 - accuracy: 0.3391 - val_loss: 1.7519 - val_accuracy: 0.3738\n",
      "Epoch 5/5\n",
      "938/938 [==============================] - 24s 26ms/step - loss: 1.7856 - accuracy: 0.3608 - val_loss: 1.7115 - val_accuracy: 0.3902\n",
      "469/469 [==============================] - 3s 4ms/step - loss: 1.7081 - accuracy: 0.3826\n",
      "Epoch 1/5\n",
      "938/938 [==============================] - 33s 25ms/step - loss: 2.4690 - accuracy: 0.1518 - val_loss: 2.0633 - val_accuracy: 0.2674\n",
      "Epoch 2/5\n",
      "938/938 [==============================] - 22s 24ms/step - loss: 2.0594 - accuracy: 0.2582 - val_loss: 1.8834 - val_accuracy: 0.3272\n",
      "Epoch 3/5\n",
      "938/938 [==============================] - 25s 26ms/step - loss: 1.9170 - accuracy: 0.3152 - val_loss: 1.7843 - val_accuracy: 0.3616\n",
      "Epoch 4/5\n",
      "938/938 [==============================] - 25s 27ms/step - loss: 1.8376 - accuracy: 0.3398 - val_loss: 1.7189 - val_accuracy: 0.3910\n",
      "Epoch 5/5\n",
      "938/938 [==============================] - 23s 25ms/step - loss: 1.7852 - accuracy: 0.3583 - val_loss: 1.6807 - val_accuracy: 0.4060\n",
      "469/469 [==============================] - 3s 4ms/step - loss: 1.6967 - accuracy: 0.3932\n",
      "Epoch 1/5\n",
      "938/938 [==============================] - 34s 24ms/step - loss: 2.4382 - accuracy: 0.1542 - val_loss: 2.0129 - val_accuracy: 0.2724\n",
      "Epoch 2/5\n",
      "938/938 [==============================] - 23s 24ms/step - loss: 2.0254 - accuracy: 0.2657 - val_loss: 1.8815 - val_accuracy: 0.3202\n",
      "Epoch 3/5\n",
      "938/938 [==============================] - 23s 25ms/step - loss: 1.9025 - accuracy: 0.3076 - val_loss: 1.8101 - val_accuracy: 0.3484\n",
      "Epoch 4/5\n",
      "938/938 [==============================] - 21s 23ms/step - loss: 1.8433 - accuracy: 0.3369 - val_loss: 1.7483 - val_accuracy: 0.3702\n",
      "Epoch 5/5\n",
      "938/938 [==============================] - 21s 23ms/step - loss: 1.7894 - accuracy: 0.3556 - val_loss: 1.7052 - val_accuracy: 0.3876\n",
      "469/469 [==============================] - 3s 4ms/step - loss: 1.7248 - accuracy: 0.3776\n",
      "Epoch 1/5\n",
      "938/938 [==============================] - 32s 23ms/step - loss: 2.4784 - accuracy: 0.1483 - val_loss: 2.0613 - val_accuracy: 0.2468\n",
      "Epoch 2/5\n",
      "938/938 [==============================] - 22s 23ms/step - loss: 2.0779 - accuracy: 0.2554 - val_loss: 1.9027 - val_accuracy: 0.3064\n",
      "Epoch 3/5\n",
      "938/938 [==============================] - 21s 22ms/step - loss: 1.9273 - accuracy: 0.3031 - val_loss: 1.8149 - val_accuracy: 0.3446\n",
      "Epoch 4/5\n",
      "938/938 [==============================] - 21s 22ms/step - loss: 1.8488 - accuracy: 0.3315 - val_loss: 1.7521 - val_accuracy: 0.3662\n",
      "Epoch 5/5\n",
      "938/938 [==============================] - 21s 22ms/step - loss: 1.7920 - accuracy: 0.3551 - val_loss: 1.7160 - val_accuracy: 0.3814\n",
      "469/469 [==============================] - 3s 4ms/step - loss: 1.7243 - accuracy: 0.3799\n",
      "Epoch 1/5\n",
      "938/938 [==============================] - 33s 26ms/step - loss: 2.4819 - accuracy: 0.1579 - val_loss: 2.0383 - val_accuracy: 0.2740\n",
      "Epoch 2/5\n",
      "938/938 [==============================] - 24s 25ms/step - loss: 2.0669 - accuracy: 0.2596 - val_loss: 1.9018 - val_accuracy: 0.3206\n",
      "Epoch 3/5\n",
      "938/938 [==============================] - 23s 24ms/step - loss: 1.9323 - accuracy: 0.3034 - val_loss: 1.8197 - val_accuracy: 0.3432\n",
      "Epoch 4/5\n",
      "938/938 [==============================] - 22s 24ms/step - loss: 1.8620 - accuracy: 0.3329 - val_loss: 1.7607 - val_accuracy: 0.3672\n",
      "Epoch 5/5\n",
      "938/938 [==============================] - 22s 23ms/step - loss: 1.8014 - accuracy: 0.3515 - val_loss: 1.7261 - val_accuracy: 0.3826\n",
      "469/469 [==============================] - 3s 5ms/step - loss: 1.7311 - accuracy: 0.3775\n",
      "Epoch 1/5\n",
      "938/938 [==============================] - 32s 23ms/step - loss: 2.4463 - accuracy: 0.1614 - val_loss: 2.0470 - val_accuracy: 0.2698\n",
      "Epoch 2/5\n",
      "938/938 [==============================] - 21s 23ms/step - loss: 2.0522 - accuracy: 0.2704 - val_loss: 1.8913 - val_accuracy: 0.3194\n",
      "Epoch 3/5\n",
      "938/938 [==============================] - 21s 22ms/step - loss: 1.9101 - accuracy: 0.3156 - val_loss: 1.8137 - val_accuracy: 0.3446\n",
      "Epoch 4/5\n",
      "938/938 [==============================] - 21s 22ms/step - loss: 1.8479 - accuracy: 0.3430 - val_loss: 1.7512 - val_accuracy: 0.3762\n",
      "Epoch 5/5\n",
      "938/938 [==============================] - 21s 22ms/step - loss: 1.7946 - accuracy: 0.3626 - val_loss: 1.7000 - val_accuracy: 0.3966\n",
      "469/469 [==============================] - 2s 4ms/step - loss: 1.7276 - accuracy: 0.3920\n",
      "Epoch 1/5\n",
      "938/938 [==============================] - 32s 23ms/step - loss: 2.4683 - accuracy: 0.1550 - val_loss: 2.0184 - val_accuracy: 0.2728\n",
      "Epoch 2/5\n",
      "938/938 [==============================] - 21s 23ms/step - loss: 2.0297 - accuracy: 0.2676 - val_loss: 1.8721 - val_accuracy: 0.3254\n",
      "Epoch 3/5\n",
      "938/938 [==============================] - 22s 23ms/step - loss: 1.9075 - accuracy: 0.3126 - val_loss: 1.7972 - val_accuracy: 0.3508\n",
      "Epoch 4/5\n",
      "938/938 [==============================] - 21s 22ms/step - loss: 1.8443 - accuracy: 0.3380 - val_loss: 1.7425 - val_accuracy: 0.3612\n",
      "Epoch 5/5\n",
      "938/938 [==============================] - 21s 22ms/step - loss: 1.7823 - accuracy: 0.3642 - val_loss: 1.7048 - val_accuracy: 0.3816\n",
      "469/469 [==============================] - 4s 6ms/step - loss: 1.7246 - accuracy: 0.3795\n",
      "Epoch 1/5\n",
      "938/938 [==============================] - 37s 27ms/step - loss: 2.4862 - accuracy: 0.1489 - val_loss: 2.0610 - val_accuracy: 0.2594\n",
      "Epoch 2/5\n"
     ]
    },
    {
     "name": "stdout",
     "output_type": "stream",
     "text": [
      "938/938 [==============================] - 23s 25ms/step - loss: 2.0717 - accuracy: 0.2526 - val_loss: 1.8927 - val_accuracy: 0.3188\n",
      "Epoch 3/5\n",
      "938/938 [==============================] - 23s 24ms/step - loss: 1.9268 - accuracy: 0.3053 - val_loss: 1.7992 - val_accuracy: 0.3532\n",
      "Epoch 4/5\n",
      "938/938 [==============================] - 22s 24ms/step - loss: 1.8508 - accuracy: 0.3337 - val_loss: 1.7435 - val_accuracy: 0.3692\n",
      "Epoch 5/5\n",
      "938/938 [==============================] - 23s 24ms/step - loss: 1.7981 - accuracy: 0.3600 - val_loss: 1.7004 - val_accuracy: 0.3910\n",
      "469/469 [==============================] - 3s 5ms/step - loss: 1.7142 - accuracy: 0.3830\n",
      "Epoch 1/5\n",
      "938/938 [==============================] - 35s 24ms/step - loss: 2.5191 - accuracy: 0.1397 - val_loss: 2.0598 - val_accuracy: 0.2608\n",
      "Epoch 2/5\n",
      "938/938 [==============================] - 22s 23ms/step - loss: 2.0631 - accuracy: 0.2562 - val_loss: 1.9006 - val_accuracy: 0.3124\n",
      "Epoch 3/5\n",
      "938/938 [==============================] - 21s 23ms/step - loss: 1.9133 - accuracy: 0.3065 - val_loss: 1.8114 - val_accuracy: 0.3492\n",
      "Epoch 4/5\n",
      "938/938 [==============================] - 21s 22ms/step - loss: 1.8534 - accuracy: 0.3330 - val_loss: 1.7509 - val_accuracy: 0.3680\n",
      "Epoch 5/5\n",
      "938/938 [==============================] - 21s 23ms/step - loss: 1.7940 - accuracy: 0.3537 - val_loss: 1.7035 - val_accuracy: 0.3888\n",
      "469/469 [==============================] - 2s 4ms/step - loss: 1.7250 - accuracy: 0.3851\n",
      "Epoch 1/5\n",
      "938/938 [==============================] - 31s 24ms/step - loss: 2.4055 - accuracy: 0.1616 - val_loss: 2.0114 - val_accuracy: 0.2760\n",
      "Epoch 2/5\n",
      "938/938 [==============================] - 22s 23ms/step - loss: 2.0149 - accuracy: 0.2769 - val_loss: 1.8714 - val_accuracy: 0.3192\n",
      "Epoch 3/5\n",
      "938/938 [==============================] - 24s 25ms/step - loss: 1.8893 - accuracy: 0.3205 - val_loss: 1.7892 - val_accuracy: 0.3560\n",
      "Epoch 4/5\n",
      "938/938 [==============================] - 25s 26ms/step - loss: 1.8276 - accuracy: 0.3467 - val_loss: 1.7368 - val_accuracy: 0.3808\n",
      "Epoch 5/5\n",
      "938/938 [==============================] - 24s 26ms/step - loss: 1.7698 - accuracy: 0.3711 - val_loss: 1.6932 - val_accuracy: 0.3962\n",
      "469/469 [==============================] - 5s 6ms/step - loss: 1.7048 - accuracy: 0.3923\n",
      "Epoch 1/5\n",
      "938/938 [==============================] - 35s 28ms/step - loss: 2.4783 - accuracy: 0.1487 - val_loss: 2.0657 - val_accuracy: 0.2506\n",
      "Epoch 2/5\n",
      "938/938 [==============================] - 26s 28ms/step - loss: 2.0814 - accuracy: 0.2461 - val_loss: 1.9108 - val_accuracy: 0.3086\n",
      "Epoch 3/5\n",
      "938/938 [==============================] - 23s 24ms/step - loss: 1.9353 - accuracy: 0.3037 - val_loss: 1.8209 - val_accuracy: 0.3446\n",
      "Epoch 4/5\n",
      "938/938 [==============================] - 22s 24ms/step - loss: 1.8622 - accuracy: 0.3308 - val_loss: 1.7568 - val_accuracy: 0.3754\n",
      "Epoch 5/5\n",
      "938/938 [==============================] - 23s 24ms/step - loss: 1.8073 - accuracy: 0.3535 - val_loss: 1.7177 - val_accuracy: 0.3832\n",
      "469/469 [==============================] - 3s 5ms/step - loss: 1.7162 - accuracy: 0.3843\n",
      "Epoch 1/5\n",
      "938/938 [==============================] - 36s 25ms/step - loss: 2.5633 - accuracy: 0.1467 - val_loss: 2.0758 - val_accuracy: 0.2600\n",
      "Epoch 2/5\n",
      "938/938 [==============================] - 22s 24ms/step - loss: 2.0661 - accuracy: 0.2637 - val_loss: 1.9090 - val_accuracy: 0.3098\n",
      "Epoch 3/5\n",
      "938/938 [==============================] - 22s 24ms/step - loss: 1.9092 - accuracy: 0.3203 - val_loss: 1.8118 - val_accuracy: 0.3470\n",
      "Epoch 4/5\n",
      "938/938 [==============================] - 22s 24ms/step - loss: 1.8376 - accuracy: 0.3446 - val_loss: 1.7491 - val_accuracy: 0.3654\n",
      "Epoch 5/5\n",
      "938/938 [==============================] - 22s 23ms/step - loss: 1.7883 - accuracy: 0.3668 - val_loss: 1.7004 - val_accuracy: 0.3870\n",
      "469/469 [==============================] - 3s 4ms/step - loss: 1.7086 - accuracy: 0.3925\n",
      "Epoch 1/5\n",
      "938/938 [==============================] - 32s 24ms/step - loss: 2.4750 - accuracy: 0.1574 - val_loss: 2.0130 - val_accuracy: 0.2856\n",
      "Epoch 2/5\n",
      "938/938 [==============================] - 22s 23ms/step - loss: 2.0382 - accuracy: 0.2704 - val_loss: 1.8677 - val_accuracy: 0.3314\n",
      "Epoch 3/5\n",
      "938/938 [==============================] - 22s 23ms/step - loss: 1.9024 - accuracy: 0.3160 - val_loss: 1.7807 - val_accuracy: 0.3654\n",
      "Epoch 4/5\n",
      "938/938 [==============================] - 21s 23ms/step - loss: 1.8307 - accuracy: 0.3444 - val_loss: 1.7342 - val_accuracy: 0.3796\n",
      "Epoch 5/5\n",
      "938/938 [==============================] - 21s 22ms/step - loss: 1.7900 - accuracy: 0.3652 - val_loss: 1.6985 - val_accuracy: 0.3896\n",
      "469/469 [==============================] - 3s 4ms/step - loss: 1.7167 - accuracy: 0.3843\n",
      "Epoch 1/5\n",
      "938/938 [==============================] - 32s 23ms/step - loss: 2.4614 - accuracy: 0.1524 - val_loss: 2.0447 - val_accuracy: 0.2592\n",
      "Epoch 2/5\n",
      "938/938 [==============================] - 22s 23ms/step - loss: 2.0391 - accuracy: 0.2635 - val_loss: 1.8918 - val_accuracy: 0.3068\n",
      "Epoch 3/5\n",
      "938/938 [==============================] - 21s 22ms/step - loss: 1.9178 - accuracy: 0.3072 - val_loss: 1.8106 - val_accuracy: 0.3340\n",
      "Epoch 4/5\n",
      "938/938 [==============================] - 22s 24ms/step - loss: 1.8448 - accuracy: 0.3351 - val_loss: 1.7505 - val_accuracy: 0.3642\n",
      "Epoch 5/5\n",
      "938/938 [==============================] - 25s 26ms/step - loss: 1.7944 - accuracy: 0.3543 - val_loss: 1.7096 - val_accuracy: 0.3782\n",
      "469/469 [==============================] - 3s 6ms/step - loss: 1.7046 - accuracy: 0.3859\n",
      "Epoch 1/5\n",
      "938/938 [==============================] - 35s 25ms/step - loss: 2.4784 - accuracy: 0.1492 - val_loss: 2.0361 - val_accuracy: 0.2818\n",
      "Epoch 2/5\n",
      "938/938 [==============================] - 23s 24ms/step - loss: 2.0324 - accuracy: 0.2689 - val_loss: 1.8672 - val_accuracy: 0.3332\n",
      "Epoch 3/5\n",
      "938/938 [==============================] - 23s 24ms/step - loss: 1.8888 - accuracy: 0.3231 - val_loss: 1.7881 - val_accuracy: 0.3616\n",
      "Epoch 4/5\n",
      "938/938 [==============================] - 22s 23ms/step - loss: 1.8240 - accuracy: 0.3474 - val_loss: 1.7280 - val_accuracy: 0.3812\n",
      "Epoch 5/5\n",
      "938/938 [==============================] - 22s 23ms/step - loss: 1.7773 - accuracy: 0.3621 - val_loss: 1.6811 - val_accuracy: 0.4002\n",
      "469/469 [==============================] - 3s 5ms/step - loss: 1.7124 - accuracy: 0.3907\n",
      "Epoch 1/5\n",
      "938/938 [==============================] - 32s 25ms/step - loss: 2.4989 - accuracy: 0.1453 - val_loss: 2.0559 - val_accuracy: 0.2570\n",
      "Epoch 2/5\n",
      "938/938 [==============================] - 22s 23ms/step - loss: 2.0484 - accuracy: 0.2613 - val_loss: 1.9059 - val_accuracy: 0.3214\n",
      "Epoch 3/5\n",
      "938/938 [==============================] - 22s 24ms/step - loss: 1.9206 - accuracy: 0.3102 - val_loss: 1.8156 - val_accuracy: 0.3472\n",
      "Epoch 4/5\n",
      "938/938 [==============================] - 22s 23ms/step - loss: 1.8480 - accuracy: 0.3325 - val_loss: 1.7574 - val_accuracy: 0.3710\n",
      "Epoch 5/5\n",
      "938/938 [==============================] - 22s 24ms/step - loss: 1.7912 - accuracy: 0.3577 - val_loss: 1.7040 - val_accuracy: 0.3880\n",
      "469/469 [==============================] - 3s 5ms/step - loss: 1.7176 - accuracy: 0.3845\n",
      "Epoch 1/5\n",
      "938/938 [==============================] - 32s 23ms/step - loss: 2.4707 - accuracy: 0.1566 - val_loss: 2.0227 - val_accuracy: 0.2814\n",
      "Epoch 2/5\n",
      "938/938 [==============================] - 25s 27ms/step - loss: 2.0420 - accuracy: 0.2689 - val_loss: 1.8648 - val_accuracy: 0.3280\n",
      "Epoch 3/5\n",
      "938/938 [==============================] - 22s 24ms/step - loss: 1.9032 - accuracy: 0.3188 - val_loss: 1.7859 - val_accuracy: 0.3532\n",
      "Epoch 4/5\n",
      "938/938 [==============================] - 22s 23ms/step - loss: 1.8393 - accuracy: 0.3401 - val_loss: 1.7393 - val_accuracy: 0.3772\n",
      "Epoch 5/5\n",
      "938/938 [==============================] - 21s 23ms/step - loss: 1.7841 - accuracy: 0.3588 - val_loss: 1.6935 - val_accuracy: 0.3954\n",
      "469/469 [==============================] - 3s 5ms/step - loss: 1.7111 - accuracy: 0.3912\n",
      "Epoch 1/5\n",
      "938/938 [==============================] - 32s 22ms/step - loss: 2.5079 - accuracy: 0.1516 - val_loss: 2.0230 - val_accuracy: 0.2754\n",
      "Epoch 2/5\n",
      "938/938 [==============================] - 20s 22ms/step - loss: 2.0486 - accuracy: 0.2664 - val_loss: 1.8750 - val_accuracy: 0.3328\n",
      "Epoch 3/5\n",
      "938/938 [==============================] - 20s 22ms/step - loss: 1.8930 - accuracy: 0.3193 - val_loss: 1.8023 - val_accuracy: 0.3550\n",
      "Epoch 4/5\n",
      "938/938 [==============================] - 20s 21ms/step - loss: 1.8346 - accuracy: 0.3480 - val_loss: 1.7474 - val_accuracy: 0.3790\n",
      "Epoch 5/5\n",
      "938/938 [==============================] - 22s 24ms/step - loss: 1.7959 - accuracy: 0.3616 - val_loss: 1.7094 - val_accuracy: 0.3904\n",
      "469/469 [==============================] - 3s 5ms/step - loss: 1.7259 - accuracy: 0.3830\n",
      "Epoch 1/5\n",
      "938/938 [==============================] - 29s 22ms/step - loss: 2.4727 - accuracy: 0.1530 - val_loss: 2.0388 - val_accuracy: 0.2726\n",
      "Epoch 2/5\n",
      "938/938 [==============================] - 21s 23ms/step - loss: 2.0424 - accuracy: 0.2697 - val_loss: 1.8817 - val_accuracy: 0.3226\n",
      "Epoch 3/5\n",
      "938/938 [==============================] - 22s 24ms/step - loss: 1.9112 - accuracy: 0.3140 - val_loss: 1.7982 - val_accuracy: 0.3430\n",
      "Epoch 4/5\n",
      "938/938 [==============================] - 24s 25ms/step - loss: 1.8466 - accuracy: 0.3395 - val_loss: 1.7415 - val_accuracy: 0.3722\n",
      "Epoch 5/5\n",
      "938/938 [==============================] - 25s 26ms/step - loss: 1.7904 - accuracy: 0.3587 - val_loss: 1.7014 - val_accuracy: 0.3882\n",
      "469/469 [==============================] - 3s 6ms/step - loss: 1.7311 - accuracy: 0.3784\n",
      "Epoch 1/5\n",
      "938/938 [==============================] - 31s 21ms/step - loss: 2.4881 - accuracy: 0.1480 - val_loss: 2.0407 - val_accuracy: 0.2616\n",
      "Epoch 2/5\n",
      "938/938 [==============================] - 20s 22ms/step - loss: 2.0701 - accuracy: 0.2509 - val_loss: 1.8915 - val_accuracy: 0.3260\n",
      "Epoch 3/5\n",
      "938/938 [==============================] - 20s 22ms/step - loss: 1.9305 - accuracy: 0.3075 - val_loss: 1.8025 - val_accuracy: 0.3612\n",
      "Epoch 4/5\n",
      "938/938 [==============================] - 20s 22ms/step - loss: 1.8534 - accuracy: 0.3361 - val_loss: 1.7375 - val_accuracy: 0.3782\n",
      "Epoch 5/5\n",
      "938/938 [==============================] - 20s 21ms/step - loss: 1.7945 - accuracy: 0.3599 - val_loss: 1.6927 - val_accuracy: 0.3938\n",
      "469/469 [==============================] - 2s 4ms/step - loss: 1.7109 - accuracy: 0.3849\n",
      "Epoch 1/5\n",
      "938/938 [==============================] - 30s 21ms/step - loss: 2.5074 - accuracy: 0.1409 - val_loss: 2.0661 - val_accuracy: 0.2670\n",
      "Epoch 2/5\n",
      "938/938 [==============================] - 20s 21ms/step - loss: 2.0740 - accuracy: 0.2579 - val_loss: 1.8995 - val_accuracy: 0.3256\n",
      "Epoch 3/5\n",
      "938/938 [==============================] - 20s 22ms/step - loss: 1.9085 - accuracy: 0.3132 - val_loss: 1.8141 - val_accuracy: 0.3338\n",
      "Epoch 4/5\n",
      "938/938 [==============================] - 20s 22ms/step - loss: 1.8512 - accuracy: 0.3398 - val_loss: 1.7536 - val_accuracy: 0.3700\n",
      "Epoch 5/5\n",
      "938/938 [==============================] - 20s 21ms/step - loss: 1.7964 - accuracy: 0.3519 - val_loss: 1.7106 - val_accuracy: 0.3806\n",
      "469/469 [==============================] - 3s 4ms/step - loss: 1.7288 - accuracy: 0.3761\n",
      "Epoch 1/5\n",
      "938/938 [==============================] - 29s 22ms/step - loss: 2.4958 - accuracy: 0.1459 - val_loss: 2.0641 - val_accuracy: 0.2522\n",
      "Epoch 2/5\n",
      "938/938 [==============================] - 21s 22ms/step - loss: 2.0709 - accuracy: 0.2563 - val_loss: 1.9088 - val_accuracy: 0.3184\n",
      "Epoch 3/5\n",
      "938/938 [==============================] - 23s 24ms/step - loss: 1.9308 - accuracy: 0.3054 - val_loss: 1.8256 - val_accuracy: 0.3380\n",
      "Epoch 4/5\n",
      "938/938 [==============================] - 23s 25ms/step - loss: 1.8601 - accuracy: 0.3286 - val_loss: 1.7584 - val_accuracy: 0.3692\n",
      "Epoch 5/5\n",
      "938/938 [==============================] - 23s 25ms/step - loss: 1.7941 - accuracy: 0.3564 - val_loss: 1.7131 - val_accuracy: 0.3874\n",
      "469/469 [==============================] - 2s 4ms/step - loss: 1.7183 - accuracy: 0.3871\n",
      "Epoch 1/5\n",
      "938/938 [==============================] - 34s 25ms/step - loss: 2.5356 - accuracy: 0.1399 - val_loss: 2.0690 - val_accuracy: 0.2584\n",
      "Epoch 2/5\n",
      "938/938 [==============================] - 22s 23ms/step - loss: 2.0769 - accuracy: 0.2522 - val_loss: 1.8892 - val_accuracy: 0.3276\n",
      "Epoch 3/5\n",
      "938/938 [==============================] - 23s 24ms/step - loss: 1.9269 - accuracy: 0.3093 - val_loss: 1.8099 - val_accuracy: 0.3540\n",
      "Epoch 4/5\n",
      "938/938 [==============================] - 21s 22ms/step - loss: 1.8439 - accuracy: 0.3342 - val_loss: 1.7420 - val_accuracy: 0.3792\n",
      "Epoch 5/5\n",
      "938/938 [==============================] - 22s 23ms/step - loss: 1.7917 - accuracy: 0.3592 - val_loss: 1.6997 - val_accuracy: 0.4018\n",
      "469/469 [==============================] - 2s 4ms/step - loss: 1.7058 - accuracy: 0.3932\n",
      "Epoch 1/5\n",
      "938/938 [==============================] - 32s 23ms/step - loss: 2.5015 - accuracy: 0.1507 - val_loss: 2.0305 - val_accuracy: 0.2648\n",
      "Epoch 2/5\n",
      "938/938 [==============================] - 22s 24ms/step - loss: 2.0515 - accuracy: 0.2616 - val_loss: 1.8845 - val_accuracy: 0.3212\n",
      "Epoch 3/5\n",
      "938/938 [==============================] - 24s 26ms/step - loss: 1.9034 - accuracy: 0.3152 - val_loss: 1.8048 - val_accuracy: 0.3482\n",
      "Epoch 4/5\n",
      "938/938 [==============================] - 22s 23ms/step - loss: 1.8502 - accuracy: 0.3322 - val_loss: 1.7589 - val_accuracy: 0.3670\n",
      "Epoch 5/5\n",
      "938/938 [==============================] - 22s 23ms/step - loss: 1.8019 - accuracy: 0.3541 - val_loss: 1.7107 - val_accuracy: 0.3904\n",
      "469/469 [==============================] - 3s 5ms/step - loss: 1.7284 - accuracy: 0.3831\n",
      "Epoch 1/5\n",
      "1407/1407 [==============================] - 43s 25ms/step - loss: 2.4029 - accuracy: 0.1690 - val_loss: 1.9347 - val_accuracy: 0.3020\n",
      "Epoch 2/5\n",
      "1407/1407 [==============================] - 33s 23ms/step - loss: 1.9533 - accuracy: 0.3027 - val_loss: 1.8025 - val_accuracy: 0.3576\n",
      "Epoch 3/5\n",
      "1407/1407 [==============================] - 33s 23ms/step - loss: 1.8472 - accuracy: 0.3412 - val_loss: 1.7233 - val_accuracy: 0.3850\n",
      "Epoch 4/5\n",
      "1407/1407 [==============================] - 32s 23ms/step - loss: 1.7695 - accuracy: 0.3702 - val_loss: 1.6551 - val_accuracy: 0.4124\n",
      "Epoch 5/5\n",
      "1407/1407 [==============================] - 32s 23ms/step - loss: 1.7149 - accuracy: 0.3831 - val_loss: 1.6151 - val_accuracy: 0.4230\n"
     ]
    },
    {
     "data": {
      "text/plain": [
       "RandomizedSearchCV(cv=3,\n",
       "                   estimator=<tensorflow.python.keras.wrappers.scikit_learn.KerasClassifier object at 0x00000216C8986940>,\n",
       "                   param_distributions={'learning_rate': (0.001, 5e-05, 0.0001,\n",
       "                                                          1e-05, 0.02, 0.03,\n",
       "                                                          0.003, 0.0002,\n",
       "                                                          2e-05)})"
      ]
     },
     "execution_count": 108,
     "metadata": {},
     "output_type": "execute_result"
    }
   ],
   "source": [
    "keras_clf1 = keras.wrappers.scikit_learn.KerasClassifier(build_model)\n",
    "params = {\"learning_rate\":(1e-3,5e-5,1e-4,1e-5,2e-2,3e-2,3e-3,2e-4,2e-5)}\n",
    "from sklearn.model_selection import RandomizedSearchCV\n",
    "rs = RandomizedSearchCV(keras_clf1,params,n_iter=10,cv =3)\n",
    "rs.fit(x_train,y_train,epochs = 5,validation_data = (x_val,y_val),callbacks = [earlystopping])"
   ]
  },
  {
   "cell_type": "code",
   "execution_count": 109,
   "id": "legislative-enough",
   "metadata": {},
   "outputs": [
    {
     "data": {
      "text/plain": [
       "{'learning_rate': 0.02}"
      ]
     },
     "execution_count": 109,
     "metadata": {},
     "output_type": "execute_result"
    }
   ],
   "source": [
    "rs.best_params_"
   ]
  },
  {
   "cell_type": "code",
   "execution_count": 112,
   "id": "diagnostic-translator",
   "metadata": {},
   "outputs": [],
   "source": [
    "model = rs.best_estimator_.model"
   ]
  },
  {
   "cell_type": "code",
   "execution_count": 113,
   "id": "collect-camping",
   "metadata": {},
   "outputs": [
    {
     "name": "stdout",
     "output_type": "stream",
     "text": [
      "Epoch 1/20\n",
      "1407/1407 [==============================] - 49s 27ms/step - loss: 1.6692 - accuracy: 0.4030 - val_loss: 1.5922 - val_accuracy: 0.4316\n",
      "Epoch 2/20\n",
      "1407/1407 [==============================] - 34s 24ms/step - loss: 1.6353 - accuracy: 0.4154 - val_loss: 1.5705 - val_accuracy: 0.4410\n",
      "Epoch 3/20\n",
      "1407/1407 [==============================] - 34s 24ms/step - loss: 1.6080 - accuracy: 0.4253 - val_loss: 1.5390 - val_accuracy: 0.4478\n",
      "Epoch 4/20\n",
      "1407/1407 [==============================] - 35s 25ms/step - loss: 1.5833 - accuracy: 0.4388 - val_loss: 1.5230 - val_accuracy: 0.4596\n",
      "Epoch 5/20\n",
      "1407/1407 [==============================] - 38s 27ms/step - loss: 1.5620 - accuracy: 0.4448 - val_loss: 1.5081 - val_accuracy: 0.4660\n",
      "Epoch 6/20\n",
      "1407/1407 [==============================] - 39s 28ms/step - loss: 1.5541 - accuracy: 0.4464 - val_loss: 1.4882 - val_accuracy: 0.4722\n",
      "Epoch 7/20\n",
      "1407/1407 [==============================] - 37s 27ms/step - loss: 1.5328 - accuracy: 0.4534 - val_loss: 1.4817 - val_accuracy: 0.4790\n",
      "Epoch 8/20\n",
      "1407/1407 [==============================] - 41s 29ms/step - loss: 1.5148 - accuracy: 0.4595 - val_loss: 1.4763 - val_accuracy: 0.4776\n",
      "Epoch 9/20\n",
      "1407/1407 [==============================] - 41s 29ms/step - loss: 1.5053 - accuracy: 0.4642 - val_loss: 1.4652 - val_accuracy: 0.4840\n",
      "Epoch 10/20\n",
      "1407/1407 [==============================] - 41s 29ms/step - loss: 1.4937 - accuracy: 0.4701 - val_loss: 1.4552 - val_accuracy: 0.4892\n",
      "Epoch 11/20\n",
      "1407/1407 [==============================] - 40s 28ms/step - loss: 1.4802 - accuracy: 0.4723 - val_loss: 1.4441 - val_accuracy: 0.4872\n",
      "Epoch 12/20\n",
      "1407/1407 [==============================] - 39s 28ms/step - loss: 1.4687 - accuracy: 0.4778 - val_loss: 1.4373 - val_accuracy: 0.4930\n",
      "Epoch 13/20\n",
      "1407/1407 [==============================] - 40s 28ms/step - loss: 1.4542 - accuracy: 0.4823 - val_loss: 1.4314 - val_accuracy: 0.4974\n",
      "Epoch 14/20\n",
      "1407/1407 [==============================] - 40s 28ms/step - loss: 1.4447 - accuracy: 0.4864 - val_loss: 1.4204 - val_accuracy: 0.4992\n",
      "Epoch 15/20\n",
      "1407/1407 [==============================] - 39s 28ms/step - loss: 1.4301 - accuracy: 0.4913 - val_loss: 1.4298 - val_accuracy: 0.4920\n",
      "Epoch 16/20\n",
      "1407/1407 [==============================] - 40s 29ms/step - loss: 1.4292 - accuracy: 0.4917 - val_loss: 1.4130 - val_accuracy: 0.5014\n",
      "Epoch 17/20\n",
      "1407/1407 [==============================] - 42s 30ms/step - loss: 1.4105 - accuracy: 0.4970 - val_loss: 1.4145 - val_accuracy: 0.5026\n",
      "Epoch 18/20\n",
      "1407/1407 [==============================] - 42s 30ms/step - loss: 1.4047 - accuracy: 0.5011 - val_loss: 1.4048 - val_accuracy: 0.5014\n",
      "Epoch 19/20\n",
      "1407/1407 [==============================] - 42s 30ms/step - loss: 1.3940 - accuracy: 0.5039 - val_loss: 1.4043 - val_accuracy: 0.5072\n",
      "Epoch 20/20\n",
      "1407/1407 [==============================] - 43s 30ms/step - loss: 1.3855 - accuracy: 0.5071 - val_loss: 1.4003 - val_accuracy: 0.5014\n"
     ]
    }
   ],
   "source": [
    "history = model.fit(x_train,y_train,epochs = 20,validation_data = (x_val,y_val),callbacks = [earlystopping])"
   ]
  },
  {
   "cell_type": "code",
   "execution_count": 114,
   "id": "crude-fossil",
   "metadata": {},
   "outputs": [
    {
     "data": {
      "image/png": "[encoded data removed]",
      "text/plain": [
       "<Figure size 432x288 with 2 Axes>"
      ]
     },
     "metadata": {
      "needs_background": "light"
     },
     "output_type": "display_data"
    }
   ],
   "source": [
    "plt.plot(history.epoch, history.history[\"accuracy\"], \"bo-\")\n",
    "plt.xlabel(\"Epoch\")\n",
    "plt.ylabel(\"accuracy\", color='b')\n",
    "plt.tick_params('y', colors='b')\n",
    "plt.gca().set_xlim(0, 10)\n",
    "plt.grid(True)\n",
    "\n",
    "ax2 = plt.gca().twinx()\n",
    "ax2.plot(history.epoch, history.history[\"val_loss\"], \"r^-\")\n",
    "ax2.set_ylabel('Validation Loss', color='r')\n",
    "ax2.tick_params('y', colors='r')\n",
    "\n",
    "plt.title(\"Reduce LR on Plateau\", fontsize=14)\n",
    "plt.show()"
   ]
  },
  {
   "cell_type": "code",
   "execution_count": 115,
   "id": "organizational-classification",
   "metadata": {},
   "outputs": [
    {
     "name": "stdout",
     "output_type": "stream",
     "text": [
      "157/157 [==============================] - 1s 5ms/step - loss: 1.4003 - accuracy: 0.5014\n"
     ]
    },
    {
     "data": {
      "text/plain": [
       "[1.4002571105957031, 0.5013999938964844]"
      ]
     },
     "execution_count": 115,
     "metadata": {},
     "output_type": "execute_result"
    }
   ],
   "source": [
    "model.evaluate(x_val,y_val)"
   ]
  },
  {
   "cell_type": "code",
   "execution_count": null,
   "id": "adverse-luxury",
   "metadata": {},
   "outputs": [],
   "source": [
    "#d"
   ]
  },
  {
   "cell_type": "code",
   "execution_count": 8,
   "id": "funny-coaching",
   "metadata": {},
   "outputs": [],
   "source": [
    "def build_model(n_hidden= 20,input_shape = [32,32,3],n_neurons = 100,learning_rate = 1e-3 ):\n",
    "     model = keras.models.Sequential()\n",
    "     model.add(keras.layers.Flatten(input_shape = input_shape))\n",
    "     for _ in range(n_hidden):\n",
    "        model.add(keras.layers.Dense(100,activation= \"selu\",kernel_initializer = \"he_normal\"))\n",
    "     model.add(keras.layers.Dense(10,activation = \"softmax\"))\n",
    "     optimizer = keras.optimizers.Nadam(lr= learning_rate )\n",
    "     model.compile(loss = \"sparse_categorical_crossentropy\",metrics = [\"accuracy\"],optimizer = optimizer)\n",
    "     return model "
   ]
  },
  {
   "cell_type": "code",
   "execution_count": 9,
   "id": "binary-metro",
   "metadata": {},
   "outputs": [],
   "source": [
    "x_means = x_train.mean(axis=0)\n",
    "x_stds = x_train.std(axis=0)\n",
    "x_train_scaled = (x_train - x_means) / x_stds\n",
    "x_val_scaled = (x_val - x_means) / x_stds\n",
    "X_test_scaled = (x_test - x_means) / x_stds"
   ]
  },
  {
   "cell_type": "code",
   "execution_count": 11,
   "id": "adequate-capability",
   "metadata": {},
   "outputs": [
    {
     "name": "stdout",
     "output_type": "stream",
     "text": [
      "Epoch 1/5\n",
      "938/938 [==============================] - 20s 13ms/step - loss: 35.2009 - accuracy: 0.1111 - val_loss: 2.8460 - val_accuracy: 0.1392\n",
      "Epoch 2/5\n",
      "938/938 [==============================] - 9s 10ms/step - loss: 2.6221 - accuracy: 0.1500 - val_loss: 2.3926 - val_accuracy: 0.1556\n",
      "Epoch 3/5\n",
      "938/938 [==============================] - 9s 10ms/step - loss: 2.2471 - accuracy: 0.1970 - val_loss: 2.1405 - val_accuracy: 0.2154\n",
      "Epoch 4/5\n",
      "938/938 [==============================] - 11s 12ms/step - loss: 2.1119 - accuracy: 0.2304 - val_loss: 2.0870 - val_accuracy: 0.2356\n",
      "Epoch 5/5\n",
      "938/938 [==============================] - 11s 12ms/step - loss: 2.0352 - accuracy: 0.2484 - val_loss: 2.1109 - val_accuracy: 0.2220\n",
      "469/469 [==============================] - 1s 2ms/step - loss: 2.1433 - accuracy: 0.2208\n",
      "Epoch 1/5\n",
      "938/938 [==============================] - 15s 13ms/step - loss: 28.6329 - accuracy: 0.1267 - val_loss: 2.7657 - val_accuracy: 0.1496\n",
      "Epoch 2/5\n",
      "938/938 [==============================] - 11s 12ms/step - loss: 2.4725 - accuracy: 0.1852 - val_loss: 2.2454 - val_accuracy: 0.2094\n",
      "Epoch 3/5\n",
      "938/938 [==============================] - 11s 12ms/step - loss: 2.1991 - accuracy: 0.2180 - val_loss: 2.1892 - val_accuracy: 0.2232\n",
      "Epoch 4/5\n",
      "938/938 [==============================] - 12s 12ms/step - loss: 2.0846 - accuracy: 0.2461 - val_loss: 2.1193 - val_accuracy: 0.2444\n",
      "Epoch 5/5\n",
      "938/938 [==============================] - 12s 12ms/step - loss: 2.0195 - accuracy: 0.2621 - val_loss: 2.0350 - val_accuracy: 0.2648\n",
      "469/469 [==============================] - 1s 2ms/step - loss: 2.0386 - accuracy: 0.2698\n",
      "Epoch 1/5\n",
      "938/938 [==============================] - 13s 11ms/step - loss: 41.8220 - accuracy: 0.1159 - val_loss: 2.7002 - val_accuracy: 0.1390\n",
      "Epoch 2/5\n",
      "938/938 [==============================] - 10s 11ms/step - loss: 2.4954 - accuracy: 0.1699 - val_loss: 2.2992 - val_accuracy: 0.1942\n",
      "Epoch 3/5\n",
      "938/938 [==============================] - 12s 12ms/step - loss: 2.1784 - accuracy: 0.2241 - val_loss: 2.2341 - val_accuracy: 0.2104\n",
      "Epoch 4/5\n",
      "938/938 [==============================] - 12s 13ms/step - loss: 2.0855 - accuracy: 0.2449 - val_loss: 2.1252 - val_accuracy: 0.2500\n",
      "Epoch 5/5\n",
      "938/938 [==============================] - 12s 13ms/step - loss: 2.0170 - accuracy: 0.2684 - val_loss: 1.9692 - val_accuracy: 0.2946\n",
      "469/469 [==============================] - 2s 3ms/step - loss: 1.9928 - accuracy: 0.2906\n",
      "Epoch 1/5\n",
      "938/938 [==============================] - 16s 13ms/step - loss: 57.1645 - accuracy: 0.1244 - val_loss: 3.4342 - val_accuracy: 0.1422\n",
      "Epoch 2/5\n",
      "938/938 [==============================] - 12s 13ms/step - loss: 2.9979 - accuracy: 0.1630 - val_loss: 2.8118 - val_accuracy: 0.1448\n",
      "Epoch 3/5\n",
      "938/938 [==============================] - 12s 13ms/step - loss: 2.4094 - accuracy: 0.1942 - val_loss: 2.4713 - val_accuracy: 0.2098\n",
      "Epoch 4/5\n",
      "938/938 [==============================] - 12s 13ms/step - loss: 2.2237 - accuracy: 0.2166 - val_loss: 2.2353 - val_accuracy: 0.2300\n",
      "Epoch 5/5\n",
      "938/938 [==============================] - 12s 13ms/step - loss: 2.1232 - accuracy: 0.2338 - val_loss: 2.1917 - val_accuracy: 0.2076\n",
      "469/469 [==============================] - 2s 3ms/step - loss: 2.1982 - accuracy: 0.2077\n",
      "Epoch 1/5\n",
      "938/938 [==============================] - 15s 13ms/step - loss: 22.5125 - accuracy: 0.1320 - val_loss: 2.9630 - val_accuracy: 0.1544\n",
      "Epoch 2/5\n",
      "938/938 [==============================] - 11s 12ms/step - loss: 2.6281 - accuracy: 0.1645 - val_loss: 2.3243 - val_accuracy: 0.1930\n",
      "Epoch 3/5\n",
      "938/938 [==============================] - 11s 12ms/step - loss: 2.2511 - accuracy: 0.2159 - val_loss: 2.2738 - val_accuracy: 0.2040\n",
      "Epoch 4/5\n",
      "938/938 [==============================] - 11s 12ms/step - loss: 2.1153 - accuracy: 0.2332 - val_loss: 2.1702 - val_accuracy: 0.2036\n",
      "Epoch 5/5\n",
      "938/938 [==============================] - 11s 12ms/step - loss: 2.0455 - accuracy: 0.2592 - val_loss: 2.0851 - val_accuracy: 0.2554\n",
      "469/469 [==============================] - 1s 3ms/step - loss: 2.0849 - accuracy: 0.2547\n",
      "Epoch 1/5\n",
      "938/938 [==============================] - 15s 12ms/step - loss: 55.9876 - accuracy: 0.1157 - val_loss: 2.7500 - val_accuracy: 0.1576\n",
      "Epoch 2/5\n",
      "938/938 [==============================] - 12s 13ms/step - loss: 2.6550 - accuracy: 0.1619 - val_loss: 2.4123 - val_accuracy: 0.1718\n",
      "Epoch 3/5\n",
      "938/938 [==============================] - 13s 14ms/step - loss: 2.2744 - accuracy: 0.2021 - val_loss: 2.2080 - val_accuracy: 0.2144\n",
      "Epoch 4/5\n",
      "938/938 [==============================] - 12s 13ms/step - loss: 2.1473 - accuracy: 0.2253 - val_loss: 2.1585 - val_accuracy: 0.2306\n",
      "Epoch 5/5\n",
      "938/938 [==============================] - 12s 13ms/step - loss: 2.0544 - accuracy: 0.2461 - val_loss: 2.1646 - val_accuracy: 0.2566\n",
      "469/469 [==============================] - 2s 3ms/step - loss: 2.1947 - accuracy: 0.2534\n",
      "Epoch 1/5\n",
      "938/938 [==============================] - 15s 13ms/step - loss: 24.1936 - accuracy: 0.1260 - val_loss: 3.3440 - val_accuracy: 0.1398\n",
      "Epoch 2/5\n",
      "938/938 [==============================] - 12s 13ms/step - loss: 2.6928 - accuracy: 0.1729 - val_loss: 2.8712 - val_accuracy: 0.1492\n",
      "Epoch 3/5\n",
      "938/938 [==============================] - 12s 13ms/step - loss: 2.2935 - accuracy: 0.2135 - val_loss: 2.3139 - val_accuracy: 0.2066\n",
      "Epoch 4/5\n",
      "938/938 [==============================] - 12s 13ms/step - loss: 2.1404 - accuracy: 0.2385 - val_loss: 2.0515 - val_accuracy: 0.2704\n",
      "Epoch 5/5\n",
      "938/938 [==============================] - 12s 13ms/step - loss: 2.0471 - accuracy: 0.2544 - val_loss: 2.1244 - val_accuracy: 0.2178\n",
      "469/469 [==============================] - 2s 3ms/step - loss: 2.1237 - accuracy: 0.2171\n",
      "Epoch 1/5\n",
      "938/938 [==============================] - 16s 13ms/step - loss: 52.9310 - accuracy: 0.1249 - val_loss: 3.0504 - val_accuracy: 0.1388\n",
      "Epoch 2/5\n",
      "938/938 [==============================] - 12s 13ms/step - loss: 2.6645 - accuracy: 0.1556 - val_loss: 2.3329 - val_accuracy: 0.1890\n",
      "Epoch 3/5\n",
      "938/938 [==============================] - 12s 13ms/step - loss: 2.2783 - accuracy: 0.1937 - val_loss: 2.1996 - val_accuracy: 0.2124\n",
      "Epoch 4/5\n",
      "938/938 [==============================] - 12s 13ms/step - loss: 2.1476 - accuracy: 0.2220 - val_loss: 2.1041 - val_accuracy: 0.2428\n",
      "Epoch 5/5\n",
      "938/938 [==============================] - 12s 13ms/step - loss: 2.0601 - accuracy: 0.2450 - val_loss: 2.1664 - val_accuracy: 0.2384\n",
      "469/469 [==============================] - 1s 3ms/step - loss: 2.1539 - accuracy: 0.2389\n",
      "Epoch 1/5\n",
      "938/938 [==============================] - 15s 12ms/step - loss: 38.6922 - accuracy: 0.1241 - val_loss: 2.4625 - val_accuracy: 0.1780\n",
      "Epoch 2/5\n",
      "938/938 [==============================] - 11s 12ms/step - loss: 2.4037 - accuracy: 0.1839 - val_loss: 2.2964 - val_accuracy: 0.2070\n",
      "Epoch 3/5\n",
      "938/938 [==============================] - 11s 12ms/step - loss: 2.1681 - accuracy: 0.2225 - val_loss: 2.1875 - val_accuracy: 0.2142\n",
      "Epoch 4/5\n",
      "938/938 [==============================] - 12s 12ms/step - loss: 2.0924 - accuracy: 0.2372 - val_loss: 2.1350 - val_accuracy: 0.2368\n",
      "Epoch 5/5\n",
      "938/938 [==============================] - 11s 11ms/step - loss: 2.0277 - accuracy: 0.2605 - val_loss: 2.0043 - val_accuracy: 0.2714\n",
      "469/469 [==============================] - 1s 2ms/step - loss: 2.0169 - accuracy: 0.2727\n",
      "Epoch 1/5\n",
      "938/938 [==============================] - 14s 12ms/step - loss: 43.5998 - accuracy: 0.1336 - val_loss: 2.7957 - val_accuracy: 0.1706\n",
      "Epoch 2/5\n",
      "938/938 [==============================] - 10s 11ms/step - loss: 2.5606 - accuracy: 0.1760 - val_loss: 2.4556 - val_accuracy: 0.1538\n",
      "Epoch 3/5\n",
      "938/938 [==============================] - 10s 11ms/step - loss: 2.2411 - accuracy: 0.2107 - val_loss: 2.2732 - val_accuracy: 0.1736\n",
      "Epoch 4/5\n",
      "938/938 [==============================] - 11s 11ms/step - loss: 2.1183 - accuracy: 0.2428 - val_loss: 2.0379 - val_accuracy: 0.2648\n",
      "Epoch 5/5\n",
      "938/938 [==============================] - 11s 12ms/step - loss: 2.0411 - accuracy: 0.2537 - val_loss: 2.0370 - val_accuracy: 0.2362\n",
      "469/469 [==============================] - 1s 2ms/step - loss: 2.0391 - accuracy: 0.2372\n",
      "Epoch 1/5\n",
      "938/938 [==============================] - 14s 11ms/step - loss: 34.8549 - accuracy: 0.1198 - val_loss: 3.0568 - val_accuracy: 0.1490\n",
      "Epoch 2/5\n"
     ]
    },
    {
     "name": "stdout",
     "output_type": "stream",
     "text": [
      "938/938 [==============================] - 10s 11ms/step - loss: 2.6581 - accuracy: 0.1594 - val_loss: 2.3530 - val_accuracy: 0.1802\n",
      "Epoch 3/5\n",
      "938/938 [==============================] - 10s 11ms/step - loss: 2.2804 - accuracy: 0.1942 - val_loss: 2.2000 - val_accuracy: 0.2274\n",
      "Epoch 4/5\n",
      "938/938 [==============================] - 10s 11ms/step - loss: 2.1566 - accuracy: 0.2236 - val_loss: 2.2301 - val_accuracy: 0.2148\n",
      "Epoch 5/5\n",
      "938/938 [==============================] - 10s 11ms/step - loss: 2.0828 - accuracy: 0.2369 - val_loss: 2.1222 - val_accuracy: 0.2288\n",
      "469/469 [==============================] - 1s 2ms/step - loss: 2.0972 - accuracy: 0.2298\n",
      "Epoch 1/5\n",
      "938/938 [==============================] - 13s 11ms/step - loss: 41.8111 - accuracy: 0.1203 - val_loss: 2.8605 - val_accuracy: 0.1738\n",
      "Epoch 2/5\n",
      "938/938 [==============================] - 10s 11ms/step - loss: 2.6252 - accuracy: 0.1677 - val_loss: 2.4640 - val_accuracy: 0.1702\n",
      "Epoch 3/5\n",
      "938/938 [==============================] - 10s 11ms/step - loss: 2.2474 - accuracy: 0.2077 - val_loss: 2.4140 - val_accuracy: 0.1894\n",
      "Epoch 4/5\n",
      "938/938 [==============================] - 10s 11ms/step - loss: 2.1444 - accuracy: 0.2306 - val_loss: 2.2219 - val_accuracy: 0.2370\n",
      "Epoch 5/5\n",
      "938/938 [==============================] - 11s 12ms/step - loss: 2.0619 - accuracy: 0.2530 - val_loss: 2.0637 - val_accuracy: 0.2580\n",
      "469/469 [==============================] - 2s 3ms/step - loss: 2.0654 - accuracy: 0.2606\n",
      "Epoch 1/5\n",
      "938/938 [==============================] - 15s 12ms/step - loss: 60.7700 - accuracy: 0.1141 - val_loss: 2.8288 - val_accuracy: 0.1588\n",
      "Epoch 2/5\n",
      "938/938 [==============================] - 11s 12ms/step - loss: 2.6279 - accuracy: 0.1666 - val_loss: 2.5350 - val_accuracy: 0.1614\n",
      "Epoch 3/5\n",
      "938/938 [==============================] - 10s 11ms/step - loss: 2.2579 - accuracy: 0.2012 - val_loss: 2.1694 - val_accuracy: 0.2342\n",
      "Epoch 4/5\n",
      "938/938 [==============================] - 11s 11ms/step - loss: 2.1347 - accuracy: 0.2351 - val_loss: 2.1387 - val_accuracy: 0.2436\n",
      "Epoch 5/5\n",
      "938/938 [==============================] - 10s 11ms/step - loss: 2.0536 - accuracy: 0.2493 - val_loss: 2.0428 - val_accuracy: 0.2472\n",
      "469/469 [==============================] - 1s 2ms/step - loss: 2.0574 - accuracy: 0.2470\n",
      "Epoch 1/5\n",
      "938/938 [==============================] - 13s 11ms/step - loss: 32.1727 - accuracy: 0.1145 - val_loss: 2.5089 - val_accuracy: 0.1654\n",
      "Epoch 2/5\n",
      "938/938 [==============================] - 10s 11ms/step - loss: 2.3718 - accuracy: 0.1737 - val_loss: 2.2479 - val_accuracy: 0.1970\n",
      "Epoch 3/5\n",
      "938/938 [==============================] - 10s 11ms/step - loss: 2.1469 - accuracy: 0.2270 - val_loss: 2.0991 - val_accuracy: 0.2440\n",
      "Epoch 4/5\n",
      "938/938 [==============================] - 10s 11ms/step - loss: 2.0415 - accuracy: 0.2598 - val_loss: 2.0021 - val_accuracy: 0.2640\n",
      "Epoch 5/5\n",
      "938/938 [==============================] - 10s 11ms/step - loss: 1.9664 - accuracy: 0.2799 - val_loss: 1.9290 - val_accuracy: 0.2960\n",
      "469/469 [==============================] - 1s 2ms/step - loss: 1.9348 - accuracy: 0.2959\n",
      "Epoch 1/5\n",
      "938/938 [==============================] - 13s 11ms/step - loss: 40.3377 - accuracy: 0.1338 - val_loss: 4.6791 - val_accuracy: 0.1168\n",
      "Epoch 2/5\n",
      "938/938 [==============================] - 10s 11ms/step - loss: 3.3852 - accuracy: 0.1501 - val_loss: 2.9902 - val_accuracy: 0.1642\n",
      "Epoch 3/5\n",
      "938/938 [==============================] - 11s 12ms/step - loss: 2.4924 - accuracy: 0.1809 - val_loss: 3.0268 - val_accuracy: 0.1422\n",
      "Epoch 4/5\n",
      "938/938 [==============================] - 10s 11ms/step - loss: 2.2760 - accuracy: 0.2062 - val_loss: 2.4316 - val_accuracy: 0.2058\n",
      "Epoch 5/5\n",
      "938/938 [==============================] - 12s 12ms/step - loss: 2.1543 - accuracy: 0.2215 - val_loss: 2.1407 - val_accuracy: 0.2380\n",
      "469/469 [==============================] - 1s 3ms/step - loss: 2.1536 - accuracy: 0.2359\n",
      "Epoch 1/5\n",
      "1407/1407 [==============================] - 20s 11ms/step - loss: 37.3618 - accuracy: 0.1228 - val_loss: 2.5259 - val_accuracy: 0.1792\n",
      "Epoch 2/5\n",
      "1407/1407 [==============================] - 19s 14ms/step - loss: 2.3361 - accuracy: 0.1947 - val_loss: 2.5415 - val_accuracy: 0.1882\n",
      "Epoch 3/5\n",
      "1407/1407 [==============================] - 18s 13ms/step - loss: 2.1175 - accuracy: 0.2312 - val_loss: 2.2945 - val_accuracy: 0.1914\n",
      "Epoch 4/5\n",
      "1407/1407 [==============================] - 16s 11ms/step - loss: 2.0201 - accuracy: 0.2581 - val_loss: 1.9892 - val_accuracy: 0.2914\n",
      "Epoch 5/5\n",
      "1407/1407 [==============================] - 15s 11ms/step - loss: 1.9337 - accuracy: 0.2855 - val_loss: 1.9211 - val_accuracy: 0.2908\n"
     ]
    },
    {
     "data": {
      "text/plain": [
       "RandomizedSearchCV(cv=3,\n",
       "                   estimator=<tensorflow.python.keras.wrappers.scikit_learn.KerasClassifier object at 0x0000027FCCAA91C0>,\n",
       "                   n_iter=5,\n",
       "                   param_distributions={'learning_rate': (0.001, 5e-05, 0.0001,\n",
       "                                                          1e-05, 0.02, 0.03,\n",
       "                                                          0.003, 0.0002,\n",
       "                                                          2e-05)})"
      ]
     },
     "execution_count": 11,
     "metadata": {},
     "output_type": "execute_result"
    }
   ],
   "source": [
    "earlystopping = keras.callbacks.EarlyStopping(patience = 20,restore_best_weights = True)\n",
    "keras_clf1 = keras.wrappers.scikit_learn.KerasClassifier(build_model)\n",
    "params = {\"learning_rate\":(1e-3,5e-5,1e-4,1e-5,2e-2,3e-2,3e-3,2e-4,2e-5)}\n",
    "from sklearn.model_selection import RandomizedSearchCV\n",
    "rs = RandomizedSearchCV(keras_clf1,params,n_iter=5,cv =3)\n",
    "rs.fit(x_train,y_train,epochs = 5,validation_data = (x_val,y_val),callbacks = [earlystopping])"
   ]
  },
  {
   "cell_type": "code",
   "execution_count": 13,
   "id": "contrary-brisbane",
   "metadata": {},
   "outputs": [],
   "source": [
    "model = rs.best_estimator_.model"
   ]
  },
  {
   "cell_type": "code",
   "execution_count": 15,
   "id": "pursuant-incentive",
   "metadata": {},
   "outputs": [
    {
     "data": {
      "text/plain": [
       "{'learning_rate': 0.0002}"
      ]
     },
     "execution_count": 15,
     "metadata": {},
     "output_type": "execute_result"
    }
   ],
   "source": [
    "rs.best_params_"
   ]
  },
  {
   "cell_type": "code",
   "execution_count": 16,
   "id": "desperate-given",
   "metadata": {},
   "outputs": [
    {
     "name": "stdout",
     "output_type": "stream",
     "text": [
      "Epoch 1/20\n",
      "1407/1407 [==============================] - 18s 11ms/step - loss: 2.2829 - accuracy: 0.2212 - val_loss: 1.9957 - val_accuracy: 0.2736\n",
      "Epoch 2/20\n",
      "1407/1407 [==============================] - 15s 11ms/step - loss: 1.9165 - accuracy: 0.2996 - val_loss: 1.8936 - val_accuracy: 0.2998\n",
      "Epoch 3/20\n",
      "1407/1407 [==============================] - 15s 11ms/step - loss: 1.8124 - accuracy: 0.3401 - val_loss: 1.8020 - val_accuracy: 0.3398\n",
      "Epoch 4/20\n",
      "1407/1407 [==============================] - 15s 11ms/step - loss: 1.7303 - accuracy: 0.3727 - val_loss: 1.7422 - val_accuracy: 0.3776\n",
      "Epoch 5/20\n",
      "1407/1407 [==============================] - 16s 11ms/step - loss: 1.6635 - accuracy: 0.3963 - val_loss: 1.6882 - val_accuracy: 0.3834\n",
      "Epoch 6/20\n",
      "1407/1407 [==============================] - 16s 11ms/step - loss: 1.5999 - accuracy: 0.4231 - val_loss: 1.6645 - val_accuracy: 0.4002\n",
      "Epoch 7/20\n",
      "1407/1407 [==============================] - 16s 11ms/step - loss: 1.5504 - accuracy: 0.4417 - val_loss: 1.6237 - val_accuracy: 0.4144\n",
      "Epoch 8/20\n",
      "1407/1407 [==============================] - 16s 11ms/step - loss: 1.5008 - accuracy: 0.4616 - val_loss: 1.6088 - val_accuracy: 0.4214\n",
      "Epoch 9/20\n",
      "1407/1407 [==============================] - 16s 11ms/step - loss: 1.4563 - accuracy: 0.4804 - val_loss: 1.5908 - val_accuracy: 0.4328\n",
      "Epoch 10/20\n",
      "1407/1407 [==============================] - 16s 12ms/step - loss: 1.4160 - accuracy: 0.4952 - val_loss: 1.6004 - val_accuracy: 0.4362\n",
      "Epoch 11/20\n",
      "1407/1407 [==============================] - 17s 12ms/step - loss: 1.3807 - accuracy: 0.5059 - val_loss: 1.6068 - val_accuracy: 0.4376\n",
      "Epoch 12/20\n",
      "1407/1407 [==============================] - 17s 12ms/step - loss: 1.3440 - accuracy: 0.5223 - val_loss: 1.5736 - val_accuracy: 0.4474\n",
      "Epoch 13/20\n",
      "1407/1407 [==============================] - 18s 13ms/step - loss: 1.3069 - accuracy: 0.5351 - val_loss: 1.5881 - val_accuracy: 0.4538\n",
      "Epoch 14/20\n",
      "1407/1407 [==============================] - 19s 13ms/step - loss: 1.2767 - accuracy: 0.5469 - val_loss: 1.5709 - val_accuracy: 0.4530\n",
      "Epoch 15/20\n",
      "1407/1407 [==============================] - 18s 13ms/step - loss: 1.2432 - accuracy: 0.5559 - val_loss: 1.6131 - val_accuracy: 0.4458\n",
      "Epoch 16/20\n",
      "1407/1407 [==============================] - 16s 12ms/step - loss: 1.2128 - accuracy: 0.5718 - val_loss: 1.6035 - val_accuracy: 0.4502\n",
      "Epoch 17/20\n",
      "1407/1407 [==============================] - 17s 12ms/step - loss: 1.1840 - accuracy: 0.5805 - val_loss: 1.6191 - val_accuracy: 0.4516\n",
      "Epoch 18/20\n",
      "1407/1407 [==============================] - 18s 13ms/step - loss: 1.1550 - accuracy: 0.5910 - val_loss: 1.6205 - val_accuracy: 0.4534\n",
      "Epoch 19/20\n",
      "1407/1407 [==============================] - 18s 13ms/step - loss: 1.1255 - accuracy: 0.6029 - val_loss: 1.6468 - val_accuracy: 0.4488\n",
      "Epoch 20/20\n",
      "1407/1407 [==============================] - 18s 13ms/step - loss: 1.0991 - accuracy: 0.6116 - val_loss: 1.6595 - val_accuracy: 0.4544\n"
     ]
    }
   ],
   "source": [
    "history = model.fit(x_train_scaled,y_train,epochs = 20,validation_data = (x_val_scaled,y_val),callbacks = [earlystopping])"
   ]
  },
  {
   "cell_type": "code",
   "execution_count": 17,
   "id": "maritime-funds",
   "metadata": {},
   "outputs": [
    {
     "name": "stdout",
     "output_type": "stream",
     "text": [
      "157/157 [==============================] - 0s 3ms/step - loss: 1.6595 - accuracy: 0.4544\n"
     ]
    },
    {
     "data": {
      "text/plain": [
       "[1.6594678163528442, 0.4544000029563904]"
      ]
     },
     "execution_count": 17,
     "metadata": {},
     "output_type": "execute_result"
    }
   ],
   "source": [
    "model.evaluate(x_val_scaled,y_val)"
   ]
  },
  {
   "cell_type": "code",
   "execution_count": null,
   "id": "authorized-stake",
   "metadata": {},
   "outputs": [],
   "source": [
    "#e"
   ]
  },
  {
   "cell_type": "code",
   "execution_count": 41,
   "id": "empty-poker",
   "metadata": {},
   "outputs": [],
   "source": [
    "def build_model(n_hidden= 20,input_shape = [32,32,3],n_neurons = 100,learning_rate = 1e-3 ):\n",
    "     model = keras.models.Sequential()\n",
    "     model.add(keras.layers.Flatten(input_shape = input_shape))\n",
    "     for _ in range(n_hidden):\n",
    "        model.add(keras.layers.Dense(100,activation= \"selu\",kernel_initializer = \"he_normal\"))\n",
    "     model.add(keras.layers.AlphaDropout(rate =0.1))\n",
    "     model.add(keras.layers.Dense(10,activation = \"softmax\"))\n",
    "     optimizer = keras.optimizers.Nadam(lr =learning_rate )\n",
    "     model.compile(loss = \"sparse_categorical_crossentropy\",metrics = [\"accuracy\"],optimizer = optimizer)\n",
    "     return model "
   ]
  },
  {
   "cell_type": "code",
   "execution_count": 43,
   "id": "reserved-looking",
   "metadata": {},
   "outputs": [],
   "source": [
    "x_means = x_train.mean(axis=0)\n",
    "x_stds = x_train.std(axis=0)\n",
    "x_train_scaled = (x_train - x_means) / x_stds\n",
    "x_val_scaled = (x_val - x_means) / x_stds\n",
    "X_test_scaled = (x_test - x_means) / x_stds"
   ]
  },
  {
   "cell_type": "code",
   "execution_count": 44,
   "id": "infectious-butterfly",
   "metadata": {},
   "outputs": [
    {
     "name": "stdout",
     "output_type": "stream",
     "text": [
      "Epoch 1/5\n",
      "938/938 [==============================] - 53s 22ms/step - loss: 16934.4891 - accuracy: 0.1307 - val_loss: 2.3102 - val_accuracy: 0.1612\n",
      "Epoch 2/5\n",
      "938/938 [==============================] - 17s 17ms/step - loss: 22902342292819536.0000 - accuracy: 0.1453 - val_loss: 3.9240 - val_accuracy: 0.1038\n",
      "Epoch 3/5\n",
      "938/938 [==============================] - 16s 17ms/step - loss: 5.1150 - accuracy: 0.1036 - val_loss: 3.1691 - val_accuracy: 0.1038\n",
      "Epoch 4/5\n",
      "938/938 [==============================] - 15s 16ms/step - loss: 2.9597 - accuracy: 0.1013 - val_loss: 3.6898 - val_accuracy: 0.0996\n",
      "Epoch 5/5\n",
      "938/938 [==============================] - 15s 16ms/step - loss: 2.7229 - accuracy: 0.0995 - val_loss: 3.5253 - val_accuracy: 0.0996\n",
      "469/469 [==============================] - 3s 4ms/step - loss: 3.5612 - accuracy: 0.0979\n",
      "Epoch 1/5\n",
      "938/938 [==============================] - 23s 18ms/step - loss: 17535.3701 - accuracy: 0.0985 - val_loss: 2.3948 - val_accuracy: 0.1010\n",
      "Epoch 2/5\n",
      "938/938 [==============================] - 16s 17ms/step - loss: 2.3064 - accuracy: 0.1005 - val_loss: 2.3844 - val_accuracy: 0.1010\n",
      "Epoch 3/5\n",
      "938/938 [==============================] - 15s 16ms/step - loss: 2.3067 - accuracy: 0.0986 - val_loss: 2.3828 - val_accuracy: 0.1010\n",
      "Epoch 4/5\n",
      "938/938 [==============================] - 15s 16ms/step - loss: 2.3080 - accuracy: 0.0976 - val_loss: 2.3665 - val_accuracy: 0.1010\n",
      "Epoch 5/5\n",
      "938/938 [==============================] - 15s 16ms/step - loss: 2.3077 - accuracy: 0.1022 - val_loss: 2.3894 - val_accuracy: 0.1010\n",
      "469/469 [==============================] - 3s 5ms/step - loss: 2.3874 - accuracy: 0.0982\n",
      "Epoch 1/5\n",
      "938/938 [==============================] - 22s 19ms/step - loss: 38177.8016 - accuracy: 0.1129 - val_loss: 2.3678 - val_accuracy: 0.1454\n",
      "Epoch 2/5\n",
      "938/938 [==============================] - 18s 19ms/step - loss: 949684110253099.6250 - accuracy: 0.1071 - val_loss: 9.0287 - val_accuracy: 0.0920\n",
      "Epoch 3/5\n",
      "938/938 [==============================] - 18s 19ms/step - loss: 2.6312 - accuracy: 0.1038 - val_loss: 7.7342 - val_accuracy: 0.0920\n",
      "Epoch 4/5\n",
      "938/938 [==============================] - 18s 19ms/step - loss: 2.3059 - accuracy: 0.0995 - val_loss: 7.7452 - val_accuracy: 0.0920\n",
      "Epoch 5/5\n",
      "938/938 [==============================] - 18s 19ms/step - loss: 2.3057 - accuracy: 0.1020 - val_loss: 7.6821 - val_accuracy: 0.0920\n",
      "469/469 [==============================] - 2s 4ms/step - loss: 7.6339 - accuracy: 0.0999\n",
      "Epoch 1/5\n",
      "938/938 [==============================] - 21s 18ms/step - loss: 138.8319 - accuracy: 0.1045 - val_loss: 12.0269 - val_accuracy: 0.1142\n",
      "Epoch 2/5\n",
      "938/938 [==============================] - 16s 17ms/step - loss: 11.0191 - accuracy: 0.1121 - val_loss: 6.6112 - val_accuracy: 0.1164\n",
      "Epoch 3/5\n",
      "938/938 [==============================] - 16s 17ms/step - loss: 6.2565 - accuracy: 0.1212 - val_loss: 4.2914 - val_accuracy: 0.1448\n",
      "Epoch 4/5\n",
      "938/938 [==============================] - 16s 17ms/step - loss: 4.2313 - accuracy: 0.1299 - val_loss: 3.2284 - val_accuracy: 0.1540\n",
      "Epoch 5/5\n",
      "938/938 [==============================] - 16s 17ms/step - loss: 3.2769 - accuracy: 0.1355 - val_loss: 2.7086 - val_accuracy: 0.1652\n",
      "469/469 [==============================] - 3s 5ms/step - loss: 2.7076 - accuracy: 0.1594\n",
      "Epoch 1/5\n",
      "938/938 [==============================] - 21s 18ms/step - loss: 51.0452 - accuracy: 0.1148 - val_loss: 8.8432 - val_accuracy: 0.1128\n",
      "Epoch 2/5\n",
      "938/938 [==============================] - 17s 18ms/step - loss: 8.0565 - accuracy: 0.1155 - val_loss: 4.9350 - val_accuracy: 0.1110\n",
      "Epoch 3/5\n",
      "938/938 [==============================] - 16s 17ms/step - loss: 5.0708 - accuracy: 0.1140 - val_loss: 3.5867 - val_accuracy: 0.1270\n",
      "Epoch 4/5\n",
      "938/938 [==============================] - 16s 18ms/step - loss: 3.7352 - accuracy: 0.1223 - val_loss: 2.8953 - val_accuracy: 0.1476\n",
      "Epoch 5/5\n",
      "938/938 [==============================] - 16s 17ms/step - loss: 3.1073 - accuracy: 0.1309 - val_loss: 2.6328 - val_accuracy: 0.1596\n",
      "469/469 [==============================] - 2s 4ms/step - loss: 2.6574 - accuracy: 0.1629\n",
      "Epoch 1/5\n",
      "938/938 [==============================] - 20s 17ms/step - loss: 135.8372 - accuracy: 0.0997 - val_loss: 8.4864 - val_accuracy: 0.0958\n",
      "Epoch 2/5\n",
      "938/938 [==============================] - 16s 17ms/step - loss: 7.9832 - accuracy: 0.1064 - val_loss: 4.5935 - val_accuracy: 0.1192\n",
      "Epoch 3/5\n",
      "938/938 [==============================] - 16s 17ms/step - loss: 4.6343 - accuracy: 0.1162 - val_loss: 3.4436 - val_accuracy: 0.1328\n",
      "Epoch 4/5\n",
      "938/938 [==============================] - 16s 17ms/step - loss: 3.5387 - accuracy: 0.1278 - val_loss: 2.9075 - val_accuracy: 0.1476\n",
      "Epoch 5/5\n",
      "938/938 [==============================] - 16s 17ms/step - loss: 2.9970 - accuracy: 0.1379 - val_loss: 2.5535 - val_accuracy: 0.1714\n",
      "469/469 [==============================] - 3s 5ms/step - loss: 2.5757 - accuracy: 0.1676\n",
      "Epoch 1/5\n",
      "938/938 [==============================] - 20s 17ms/step - loss: 41.6684 - accuracy: 0.1417 - val_loss: 2.1029 - val_accuracy: 0.2088\n",
      "Epoch 2/5\n",
      "938/938 [==============================] - 16s 17ms/step - loss: 2.0640 - accuracy: 0.2293 - val_loss: 1.9867 - val_accuracy: 0.2456\n",
      "Epoch 3/5\n",
      "938/938 [==============================] - 16s 17ms/step - loss: 1.9820 - accuracy: 0.2505 - val_loss: 1.9409 - val_accuracy: 0.2460\n",
      "Epoch 4/5\n",
      "938/938 [==============================] - 16s 17ms/step - loss: 1.9637 - accuracy: 0.2577 - val_loss: 1.9118 - val_accuracy: 0.2808\n",
      "Epoch 5/5\n",
      "938/938 [==============================] - 16s 17ms/step - loss: 1.9345 - accuracy: 0.2697 - val_loss: 1.9377 - val_accuracy: 0.2676\n",
      "469/469 [==============================] - 2s 4ms/step - loss: 1.9431 - accuracy: 0.2756\n",
      "Epoch 1/5\n",
      "938/938 [==============================] - 22s 19ms/step - loss: 52.1098 - accuracy: 0.1367 - val_loss: 2.0484 - val_accuracy: 0.2310\n",
      "Epoch 2/5\n",
      "938/938 [==============================] - 18s 19ms/step - loss: 2.0525 - accuracy: 0.2342 - val_loss: 1.9764 - val_accuracy: 0.2640\n",
      "Epoch 3/5\n",
      "938/938 [==============================] - 19s 20ms/step - loss: 1.9852 - accuracy: 0.2557 - val_loss: 2.0902 - val_accuracy: 0.2196\n",
      "Epoch 4/5\n",
      "938/938 [==============================] - 19s 20ms/step - loss: 1.9877 - accuracy: 0.2477 - val_loss: 1.9209 - val_accuracy: 0.2862\n",
      "Epoch 5/5\n",
      "938/938 [==============================] - 18s 19ms/step - loss: 1.9441 - accuracy: 0.2681 - val_loss: 1.8804 - val_accuracy: 0.2988\n",
      "469/469 [==============================] - 3s 5ms/step - loss: 1.8811 - accuracy: 0.2987\n",
      "Epoch 1/5\n",
      "938/938 [==============================] - 21s 17ms/step - loss: 41.1520 - accuracy: 0.1356 - val_loss: 2.0038 - val_accuracy: 0.2586\n",
      "Epoch 2/5\n",
      "938/938 [==============================] - 16s 17ms/step - loss: 2.0495 - accuracy: 0.2368 - val_loss: 1.9403 - val_accuracy: 0.2720\n",
      "Epoch 3/5\n",
      "938/938 [==============================] - 16s 17ms/step - loss: 1.9835 - accuracy: 0.2622 - val_loss: 2.1283 - val_accuracy: 0.2166\n",
      "Epoch 4/5\n",
      "938/938 [==============================] - 16s 17ms/step - loss: 1.9579 - accuracy: 0.2741 - val_loss: 1.9024 - val_accuracy: 0.2802\n",
      "Epoch 5/5\n",
      "938/938 [==============================] - 16s 17ms/step - loss: 1.9509 - accuracy: 0.2704 - val_loss: 1.9354 - val_accuracy: 0.2750\n",
      "469/469 [==============================] - 2s 4ms/step - loss: 1.9441 - accuracy: 0.2727\n",
      "Epoch 1/5\n",
      "938/938 [==============================] - 22s 19ms/step - loss: 20.4728 - accuracy: 0.1296 - val_loss: 2.1759 - val_accuracy: 0.2024\n",
      "Epoch 2/5\n",
      "938/938 [==============================] - 18s 19ms/step - loss: 2.1615 - accuracy: 0.2043 - val_loss: 2.0422 - val_accuracy: 0.2554\n",
      "Epoch 3/5\n",
      "938/938 [==============================] - 18s 19ms/step - loss: 2.0188 - accuracy: 0.2498 - val_loss: 1.9735 - val_accuracy: 0.2712\n",
      "Epoch 4/5\n",
      "938/938 [==============================] - 17s 19ms/step - loss: 1.9667 - accuracy: 0.2633 - val_loss: 1.8863 - val_accuracy: 0.2982\n",
      "Epoch 5/5\n",
      "938/938 [==============================] - 18s 19ms/step - loss: 1.9244 - accuracy: 0.2885 - val_loss: 1.8718 - val_accuracy: 0.2922\n",
      "469/469 [==============================] - 3s 5ms/step - loss: 1.8876 - accuracy: 0.2957\n",
      "Epoch 1/5\n",
      "938/938 [==============================] - 22s 19ms/step - loss: 17.6491 - accuracy: 0.1262 - val_loss: 2.2679 - val_accuracy: 0.1684\n"
     ]
    },
    {
     "name": "stdout",
     "output_type": "stream",
     "text": [
      "Epoch 2/5\n",
      "938/938 [==============================] - 17s 19ms/step - loss: 2.1567 - accuracy: 0.1997 - val_loss: 2.0275 - val_accuracy: 0.2500\n",
      "Epoch 3/5\n",
      "938/938 [==============================] - 18s 19ms/step - loss: 2.0133 - accuracy: 0.2467 - val_loss: 2.0827 - val_accuracy: 0.2334\n",
      "Epoch 4/5\n",
      "938/938 [==============================] - 18s 19ms/step - loss: 1.9601 - accuracy: 0.2757 - val_loss: 1.8979 - val_accuracy: 0.3108\n",
      "Epoch 5/5\n",
      "938/938 [==============================] - 17s 19ms/step - loss: 1.9092 - accuracy: 0.2943 - val_loss: 1.8762 - val_accuracy: 0.3072\n",
      "469/469 [==============================] - 2s 5ms/step - loss: 1.8803 - accuracy: 0.3104\n",
      "Epoch 1/5\n",
      "938/938 [==============================] - 22s 20ms/step - loss: 20.6002 - accuracy: 0.1276 - val_loss: 2.1603 - val_accuracy: 0.2016\n",
      "Epoch 2/5\n",
      "938/938 [==============================] - 17s 18ms/step - loss: 2.1999 - accuracy: 0.1972 - val_loss: 2.0825 - val_accuracy: 0.2350\n",
      "Epoch 3/5\n",
      "938/938 [==============================] - 17s 18ms/step - loss: 2.0216 - accuracy: 0.2511 - val_loss: 2.1656 - val_accuracy: 0.2334\n",
      "Epoch 4/5\n",
      "938/938 [==============================] - 17s 18ms/step - loss: 1.9702 - accuracy: 0.2738 - val_loss: 1.9257 - val_accuracy: 0.2852\n",
      "Epoch 5/5\n",
      "938/938 [==============================] - 17s 18ms/step - loss: 1.9051 - accuracy: 0.2998 - val_loss: 1.9012 - val_accuracy: 0.3174\n",
      "469/469 [==============================] - 3s 6ms/step - loss: 1.9098 - accuracy: 0.3195\n",
      "Epoch 1/5\n",
      "938/938 [==============================] - 20s 17ms/step - loss: 100.9934 - accuracy: 0.0985 - val_loss: 6.0723 - val_accuracy: 0.1194\n",
      "Epoch 2/5\n",
      "938/938 [==============================] - 16s 17ms/step - loss: 5.3186 - accuracy: 0.1208 - val_loss: 3.2922 - val_accuracy: 0.1398\n",
      "Epoch 3/5\n",
      "938/938 [==============================] - 16s 17ms/step - loss: 3.2536 - accuracy: 0.1334 - val_loss: 2.6095 - val_accuracy: 0.1614\n",
      "Epoch 4/5\n",
      "938/938 [==============================] - 16s 17ms/step - loss: 2.6317 - accuracy: 0.1528 - val_loss: 2.3314 - val_accuracy: 0.2008\n",
      "Epoch 5/5\n",
      "938/938 [==============================] - 16s 17ms/step - loss: 2.3823 - accuracy: 0.1738 - val_loss: 2.2165 - val_accuracy: 0.2268\n",
      "469/469 [==============================] - 2s 5ms/step - loss: 2.2105 - accuracy: 0.2139\n",
      "Epoch 1/5\n",
      "938/938 [==============================] - 21s 19ms/step - loss: 51.6879 - accuracy: 0.1048 - val_loss: 4.3498 - val_accuracy: 0.1206\n",
      "Epoch 2/5\n",
      "938/938 [==============================] - 17s 18ms/step - loss: 4.1470 - accuracy: 0.1194 - val_loss: 2.8425 - val_accuracy: 0.1518\n",
      "Epoch 3/5\n",
      "938/938 [==============================] - 17s 18ms/step - loss: 2.8293 - accuracy: 0.1403 - val_loss: 2.3643 - val_accuracy: 0.1988\n",
      "Epoch 4/5\n",
      "938/938 [==============================] - 17s 18ms/step - loss: 2.4635 - accuracy: 0.1710 - val_loss: 2.2075 - val_accuracy: 0.2162\n",
      "Epoch 5/5\n",
      "938/938 [==============================] - 17s 18ms/step - loss: 2.2931 - accuracy: 0.1906 - val_loss: 2.1070 - val_accuracy: 0.2400\n",
      "469/469 [==============================] - 2s 4ms/step - loss: 2.1256 - accuracy: 0.2293\n",
      "Epoch 1/5\n",
      "938/938 [==============================] - 19s 17ms/step - loss: 79.2535 - accuracy: 0.1034 - val_loss: 6.5253 - val_accuracy: 0.1204\n",
      "Epoch 2/5\n",
      "938/938 [==============================] - 16s 17ms/step - loss: 6.1541 - accuracy: 0.1220 - val_loss: 3.5403 - val_accuracy: 0.1532\n",
      "Epoch 3/5\n",
      "938/938 [==============================] - 16s 17ms/step - loss: 3.5944 - accuracy: 0.1453 - val_loss: 2.7912 - val_accuracy: 0.1678\n",
      "Epoch 4/5\n",
      "938/938 [==============================] - 16s 17ms/step - loss: 2.8602 - accuracy: 0.1499 - val_loss: 2.4105 - val_accuracy: 0.1888\n",
      "Epoch 5/5\n",
      "938/938 [==============================] - 16s 17ms/step - loss: 2.5351 - accuracy: 0.1558 - val_loss: 2.2919 - val_accuracy: 0.1986\n",
      "469/469 [==============================] - 2s 4ms/step - loss: 2.3064 - accuracy: 0.1887\n",
      "Epoch 1/5\n",
      "1407/1407 [==============================] - 28s 17ms/step - loss: 15.2480 - accuracy: 0.1422 - val_loss: 2.0795 - val_accuracy: 0.2328\n",
      "Epoch 2/5\n",
      "1407/1407 [==============================] - 23s 17ms/step - loss: 2.0806 - accuracy: 0.2309 - val_loss: 2.0676 - val_accuracy: 0.2418\n",
      "Epoch 3/5\n",
      "1407/1407 [==============================] - 24s 17ms/step - loss: 1.9870 - accuracy: 0.2615 - val_loss: 2.1390 - val_accuracy: 0.2520\n",
      "Epoch 4/5\n",
      "1407/1407 [==============================] - 24s 17ms/step - loss: 1.9278 - accuracy: 0.2921 - val_loss: 2.1337 - val_accuracy: 0.2196\n",
      "Epoch 5/5\n",
      "1407/1407 [==============================] - 24s 17ms/step - loss: 1.9102 - accuracy: 0.2934 - val_loss: 1.8406 - val_accuracy: 0.3208\n"
     ]
    },
    {
     "data": {
      "text/plain": [
       "RandomizedSearchCV(cv=3,\n",
       "                   estimator=<tensorflow.python.keras.wrappers.scikit_learn.KerasClassifier object at 0x0000027FDBA4B0D0>,\n",
       "                   n_iter=5,\n",
       "                   param_distributions={'learning_rate': (0.001, 5e-05, 0.0001,\n",
       "                                                          1e-05, 0.02, 0.03,\n",
       "                                                          0.003, 0.0002,\n",
       "                                                          2e-05)})"
      ]
     },
     "execution_count": 44,
     "metadata": {},
     "output_type": "execute_result"
    }
   ],
   "source": [
    "earlystopping = keras.callbacks.EarlyStopping(patience = 20,restore_best_weights = True)\n",
    "keras_clf1 = keras.wrappers.scikit_learn.KerasClassifier(build_model)\n",
    "params = {\"learning_rate\":(1e-3,5e-5,1e-4,1e-5,2e-2,3e-2,3e-3,2e-4,2e-5)}\n",
    "from sklearn.model_selection import RandomizedSearchCV\n",
    "rs = RandomizedSearchCV(keras_clf1,params,n_iter=5,cv =3)\n",
    "rs.fit(x_train,y_train,epochs = 5,validation_data = (x_val,y_val),callbacks = [earlystopping])"
   ]
  },
  {
   "cell_type": "code",
   "execution_count": 45,
   "id": "premier-sword",
   "metadata": {},
   "outputs": [
    {
     "name": "stdout",
     "output_type": "stream",
     "text": [
      "Epoch 1/20\n",
      "1407/1407 [==============================] - 25s 18ms/step - loss: 0.6201 - accuracy: 0.7833 - val_loss: 2.3175 - val_accuracy: 0.4332\n",
      "Epoch 2/20\n",
      "1407/1407 [==============================] - 24s 17ms/step - loss: 0.6165 - accuracy: 0.7856 - val_loss: 2.3304 - val_accuracy: 0.4320\n",
      "Epoch 3/20\n",
      "1407/1407 [==============================] - 25s 18ms/step - loss: 0.6009 - accuracy: 0.7906 - val_loss: 2.3965 - val_accuracy: 0.4378\n",
      "Epoch 4/20\n",
      "1407/1407 [==============================] - 25s 17ms/step - loss: 0.5859 - accuracy: 0.7970 - val_loss: 2.4120 - val_accuracy: 0.4318\n",
      "Epoch 5/20\n",
      "1407/1407 [==============================] - 25s 18ms/step - loss: 0.5749 - accuracy: 0.8005 - val_loss: 2.4587 - val_accuracy: 0.4362\n",
      "Epoch 6/20\n",
      "1407/1407 [==============================] - 24s 17ms/step - loss: 0.5590 - accuracy: 0.8057 - val_loss: 2.4906 - val_accuracy: 0.4332\n",
      "Epoch 7/20\n",
      "1407/1407 [==============================] - 25s 18ms/step - loss: 0.5476 - accuracy: 0.8107 - val_loss: 2.6084 - val_accuracy: 0.4334\n",
      "Epoch 8/20\n",
      "1407/1407 [==============================] - 26s 18ms/step - loss: 0.5359 - accuracy: 0.8135 - val_loss: 2.5712 - val_accuracy: 0.4396\n",
      "Epoch 9/20\n",
      "1407/1407 [==============================] - 25s 18ms/step - loss: 0.5217 - accuracy: 0.8206 - val_loss: 2.6249 - val_accuracy: 0.4320\n",
      "Epoch 10/20\n",
      "1407/1407 [==============================] - 24s 17ms/step - loss: 0.5146 - accuracy: 0.8203 - val_loss: 2.6278 - val_accuracy: 0.4314\n",
      "Epoch 11/20\n",
      "1407/1407 [==============================] - 25s 18ms/step - loss: 0.4966 - accuracy: 0.8305 - val_loss: 2.7380 - val_accuracy: 0.4320\n",
      "Epoch 12/20\n",
      "1407/1407 [==============================] - 24s 17ms/step - loss: 0.4832 - accuracy: 0.8351 - val_loss: 2.7566 - val_accuracy: 0.4296\n",
      "Epoch 13/20\n",
      "1407/1407 [==============================] - 25s 18ms/step - loss: 0.4791 - accuracy: 0.8344 - val_loss: 2.8080 - val_accuracy: 0.4298\n",
      "Epoch 14/20\n",
      "1407/1407 [==============================] - 25s 18ms/step - loss: 0.4723 - accuracy: 0.8356 - val_loss: 2.7876 - val_accuracy: 0.4334\n",
      "Epoch 15/20\n",
      "1407/1407 [==============================] - 25s 18ms/step - loss: 0.4602 - accuracy: 0.8421 - val_loss: 2.8161 - val_accuracy: 0.4240\n",
      "Epoch 16/20\n",
      "1407/1407 [==============================] - 29s 21ms/step - loss: 0.4500 - accuracy: 0.8457 - val_loss: 2.9290 - val_accuracy: 0.4292\n",
      "Epoch 17/20\n",
      "1407/1407 [==============================] - 26s 19ms/step - loss: 0.4434 - accuracy: 0.8461 - val_loss: 2.9504 - val_accuracy: 0.4304\n",
      "Epoch 18/20\n",
      "1407/1407 [==============================] - 25s 18ms/step - loss: 0.4303 - accuracy: 0.8535 - val_loss: 2.9586 - val_accuracy: 0.4294\n",
      "Epoch 19/20\n",
      "1407/1407 [==============================] - 25s 18ms/step - loss: 0.4276 - accuracy: 0.8538 - val_loss: 2.9545 - val_accuracy: 0.4300\n",
      "Epoch 20/20\n",
      "1407/1407 [==============================] - 30s 21ms/step - loss: 0.4195 - accuracy: 0.8584 - val_loss: 3.0143 - val_accuracy: 0.4212\n"
     ]
    }
   ],
   "source": [
    "history = model.fit(x_train_scaled,y_train,epochs = 20,validation_data = (x_val_scaled,y_val),callbacks = [earlystopping])"
   ]
  },
  {
   "cell_type": "code",
   "execution_count": 46,
   "id": "choice-mother",
   "metadata": {},
   "outputs": [
    {
     "name": "stdout",
     "output_type": "stream",
     "text": [
      "157/157 [==============================] - 1s 6ms/step - loss: 3.0143 - accuracy: 0.4212\n"
     ]
    },
    {
     "data": {
      "text/plain": [
       "[3.0143086910247803, 0.4212000072002411]"
      ]
     },
     "execution_count": 46,
     "metadata": {},
     "output_type": "execute_result"
    }
   ],
   "source": [
    "model.evaluate(x_val_scaled,y_val)"
   ]
  },
  {
   "cell_type": "code",
   "execution_count": 48,
   "id": "compliant-lightning",
   "metadata": {},
   "outputs": [],
   "source": [
    "#mc dropout\n",
    "class MCAlphaDropout(keras.layers.AlphaDropout):\n",
    "    def call(self, inputs):\n",
    "        return super().call(inputs, training=True)\n",
    "    "
   ]
  },
  {
   "cell_type": "code",
   "execution_count": 49,
   "id": "african-exclusion",
   "metadata": {},
   "outputs": [],
   "source": [
    "mc_model = keras.models.Sequential([\n",
    "    MCAlphaDropout(layer.rate) if isinstance(layer, keras.layers.AlphaDropout) else layer\n",
    "    for layer in model.layers\n",
    "])"
   ]
  },
  {
   "cell_type": "code",
   "execution_count": 50,
   "id": "genuine-appraisal",
   "metadata": {},
   "outputs": [],
   "source": [
    "def mc_dropout_predict_probas(mc_model,x,n_samples = 10):\n",
    "    y_probas = [mc_model.predict(x) for sample in range(n_samples)]\n",
    "    return np.mean(y_probas,axis = 0)\n",
    "def mc_dropout_predict_classes(mc_model,x,n_samples =10):\n",
    "    y_probas = mc_dropout_predict_probas(mc_model, x, n_samples)\n",
    "    return np.argmax(y_probas,axis =1)"
   ]
  },
  {
   "cell_type": "code",
   "execution_count": 51,
   "id": "behind-motel",
   "metadata": {},
   "outputs": [
    {
     "data": {
      "text/plain": [
       "0.4212"
      ]
     },
     "execution_count": 51,
     "metadata": {},
     "output_type": "execute_result"
    }
   ],
   "source": [
    "keras.backend.clear_session()\n",
    "tf.random.set_seed(42)\n",
    "np.random.seed(42)\n",
    "\n",
    "y_pred = mc_dropout_predict_classes(mc_model, x_val_scaled)\n",
    "accuracy = np.mean(y_pred == y_val[:, 0])\n",
    "accuracy"
   ]
  },
  {
   "cell_type": "code",
   "execution_count": null,
   "id": "relevant-teacher",
   "metadata": {},
   "outputs": [],
   "source": [
    "# we did not get the best improvement so the best model till now is batch normalization one "
   ]
  },
  {
   "cell_type": "code",
   "execution_count": null,
   "id": "advisory-ecuador",
   "metadata": {},
   "outputs": [],
   "source": []
  },
  {
   "cell_type": "code",
   "execution_count": null,
   "id": "confident-spank",
   "metadata": {},
   "outputs": [],
   "source": [
    "#f"
   ]
  },
  {
   "cell_type": "code",
   "execution_count": 56,
   "id": "unique-journey",
   "metadata": {},
   "outputs": [],
   "source": [
    "def build_model(n_hidden= 20,input_shape = [32,32,3],n_neurons = 100,learning_rate = 1e-3 ):\n",
    "     model = keras.models.Sequential()\n",
    "     model.add(keras.layers.Flatten(input_shape = input_shape))\n",
    "     for _ in range(n_hidden):\n",
    "        model.add(keras.layers.Dense(100,activation= \"selu\",kernel_initializer = \"he_normal\"))\n",
    "     model.add(keras.layers.AlphaDropout(rate = 0.1))\n",
    "     model.add(keras.layers.Dense(10,activation = \"softmax\"))\n",
    "     optimizer = keras.optimizers.Nadam(lr =learning_rate )\n",
    "     model.compile(loss = \"sparse_categorical_crossentropy\",metrics = [\"accuracy\"],optimizer = optimizer)\n",
    "     return model "
   ]
  },
  {
   "cell_type": "markdown",
   "id": "announced-cylinder",
   "metadata": {},
   "source": [
    "## 1 Cycle scheduling"
   ]
  },
  {
   "cell_type": "code",
   "execution_count": 123,
   "id": "gentle-johnston",
   "metadata": {},
   "outputs": [],
   "source": [
    "import math as math \n",
    "from tensorflow  import keras"
   ]
  },
  {
   "cell_type": "code",
   "execution_count": 130,
   "id": "brown-sustainability",
   "metadata": {},
   "outputs": [],
   "source": [
    "k = keras.backend\n",
    "\n",
    "class ExponentialLearningRate(keras.callbacks.Callback):\n",
    "    def __init__(self,factor):\n",
    "        self.factor = factor\n",
    "        self.rates = []\n",
    "        self.losses = []\n",
    "    def on_batch_end(self,batch,logs):\n",
    "        self.rates.append(keras.backend.get_value(self.model.optimizer.lr))\n",
    "        self.losses.append(logs[\"loss\"])\n",
    "        keras.backend.set_value(self.model.optiizer.lr,self.model.optimizer.lr *self.factor)\n",
    "def find_learning_rate(model,x,y,epochs = 1,batch_size  = 30,min_rate = 10**-5,max_rate= 10):\n",
    "    init_weights= model.get_weights()\n",
    "    iterations = math.ceil(len(x)/batch_size) *epochs\n",
    "    factor = np.exp(np.log(max_rate/min_rate)/iterations)\n",
    "    init_lr =keras.backend.get_value(model.optimizer.lr)\n",
    "    keras.backend.set_value(model.optimizer.lr,min_rate)\n",
    "    expo_lr = ExponentialLearningRate(factor)\n",
    "    history = model.fit(x, y, epochs=epochs, batch_size=batch_size,\n",
    "                        callbacks=[expo_lr])\n",
    "    keras.backend.set_value(model.optimizer.lr, init_lr)\n",
    "    model.set_weights(init_weights)\n",
    "    return expo_lr.rates, expo_lr.losses\n",
    "def plot_lr_vs_loss(rates, losses):\n",
    "    plt.plot(rates, losses)\n",
    "    plt.gca().set_xscale('log')\n",
    "    plt.hlines(min(losses), min(rates), max(rates))\n",
    "    plt.axis([min(rates), max(rates), min(losses), (losses[0] + min(losses)) / 2])\n",
    "    plt.xlabel(\"Learning rate\")\n",
    "    plt.ylabel(\"Loss\")\n"
   ]
  },
  {
   "cell_type": "code",
   "execution_count": 131,
   "id": "cathedral-things",
   "metadata": {},
   "outputs": [
    {
     "data": {
      "text/plain": [
       "'In the on_batch_end() method, logs[\"loss\"] used to contain the batch loss, but in \\nTensorFlow 2.2.0 it was replaced with the mean loss (since the start of the epoch). \\nThis explains why the graph below is much smoother than in the book (if you are using TF 2.2 or above).\\nIt also means that there is a lag between the moment the batch loss starts exploding and the moment\\nthe explosion becomes clear in the graph. So you should choose a slightly smaller learning rate \\nthan you would have chosen with the \"noisy\" graph. Alternatively, you can tweak the ExponentialLearningRate callback above so it\\ncomputes the batch loss (based on the current mean loss and the previous mean loss):'"
      ]
     },
     "execution_count": 131,
     "metadata": {},
     "output_type": "execute_result"
    }
   ],
   "source": [
    "'''In the on_batch_end() method, logs[\"loss\"] used to contain the batch loss, but in \n",
    "TensorFlow 2.2.0 it was replaced with the mean loss (since the start of the epoch). \n",
    "This explains why the graph below is much smoother than in the book (if you are using TF 2.2 or above).\n",
    "It also means that there is a lag between the moment the batch loss starts exploding and the moment\n",
    "the explosion becomes clear in the graph. So you should choose a slightly smaller learning rate \n",
    "than you would have chosen with the \"noisy\" graph. Alternatively, you can tweak the ExponentialLearningRate callback above so it\n",
    "computes the batch loss (based on the current mean loss and the previous mean loss):'''"
   ]
  },
  {
   "cell_type": "code",
   "execution_count": 132,
   "id": "opposite-vintage",
   "metadata": {},
   "outputs": [],
   "source": [
    "class ExponentialLearningRate(keras.callbacks.Callback):\n",
    "    def __init__(self, factor):\n",
    "        self.factor = factor\n",
    "        self.rates = []\n",
    "        self.losses = []\n",
    "    def on_epoch_begin(self, epoch, logs=None):\n",
    "        self.prev_loss = 0\n",
    "    def on_batch_end(self, batch, logs=None):\n",
    "        batch_loss = logs[\"loss\"] * (batch + 1) - self.prev_loss * batch\n",
    "        self.prev_loss = logs[\"loss\"]\n",
    "        self.rates.append(keras.backend.get_value(self.model.optimizer.lr))\n",
    "        self.losses.append(batch_loss)\n",
    "        keras.backend.set_value(self.model.optimizer.lr, self.model.optimizer.lr * self.factor)"
   ]
  },
  {
   "cell_type": "code",
   "execution_count": 133,
   "id": "finished-middle",
   "metadata": {},
   "outputs": [
    {
     "name": "stdout",
     "output_type": "stream",
     "text": [
      "352/352 [==============================] - 9s 26ms/step - loss: nan - accuracy: 0.5794\n"
     ]
    },
    {
     "data": {
      "text/plain": [
       "(9.999999747378752e-06,\n",
       " 9.615227699279785,\n",
       " 0.19915145635604858,\n",
       " 0.28949805668422157)"
      ]
     },
     "execution_count": 133,
     "metadata": {},
     "output_type": "execute_result"
    },
    {
     "data": {
      "image/png": "[encoded data removed]",
      "text/plain": [
       "<Figure size 432x288 with 1 Axes>"
      ]
     },
     "metadata": {
      "needs_background": "light"
     },
     "output_type": "display_data"
    }
   ],
   "source": [
    "\n",
    "batch_size = 128\n",
    "rates, losses = find_learning_rate(model, x_train_scaled, y_train, epochs=1, batch_size=batch_size)\n",
    "plot_lr_vs_loss(rates, losses)\n",
    "plt.axis([min(rates), max(rates), min(losses), (losses[0] + min(losses)) / 1.4])"
   ]
  },
  {
   "cell_type": "code",
   "execution_count": null,
   "id": "military-sentence",
   "metadata": {},
   "outputs": [],
   "source": []
  },
  {
   "cell_type": "code",
   "execution_count": null,
   "id": "fewer-capability",
   "metadata": {},
   "outputs": [],
   "source": []
  }
 ],
 "metadata": {
  "kernelspec": {
   "display_name": "Python 3 (ipykernel)",
   "language": "python",
   "name": "python3"
  },
  "language_info": {
   "codemirror_mode": {
    "name": "ipython",
    "version": 3
   },
   "file_extension": ".py",
   "mimetype": "text/x-python",
   "name": "python",
   "nbconvert_exporter": "python",
   "pygments_lexer": "ipython3",
   "version": "3.9.6"
  }
 },
 "nbformat": 4,
 "nbformat_minor": 5
}
